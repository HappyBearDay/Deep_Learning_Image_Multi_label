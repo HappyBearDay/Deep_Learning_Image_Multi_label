{
  "nbformat": 4,
  "nbformat_minor": 0,
  "metadata": {
    "colab": {
      "name": "Pretrained of  image_project_full.ipynb",
      "version": "0.3.2",
      "provenance": [],
      "collapsed_sections": [
        "ncKwVsBvN6Ed"
      ]
    },
    "kernelspec": {
      "name": "python3",
      "display_name": "Python 3"
    },
    "accelerator": "GPU"
  },
  "cells": [
    {
      "metadata": {
        "colab_type": "text",
        "id": "o5cz6o5sN6BV"
      },
      "cell_type": "markdown",
      "source": [
        "# DATA20001 Deep Learning - Group Project\n",
        "## Image project\n",
        "\n",
        "**Due Thursday, December 13, before 23:59.**\n",
        "\n",
        "The task is to learn to assign the correct labels to a set of images.  The images are originally from a photo-sharing site and released under Creative Commons-licenses allowing sharing.  The training set contains 20 000 images. We have resized them and cropped them to 128x128 to make the task a bit more manageable.\n",
        "\n",
        "We're only giving you the code for downloading the data. The rest you'll have to do yourselves.\n",
        "\n",
        "Some comments and hints particular to the image project:\n",
        "\n",
        "- One image may belong to many classes in this problem, i.e., it's a multi-label classification problem. In fact there are images that don't belong to any of our classes, and you should also be able to handle these correctly. Pay careful attention to how you design the outputs of the network (e.g., what activation to use) and what loss function should be used.\n",
        "\n",
        "- As the dataset is pretty imbalanced, don't focus too strictly on the outputs being probabilistic. (Meaning that the right threshold for selecting the label might not be 0.5.)\n",
        "\n",
        "- Image files can be loaded as numpy matrices for example using `imread` from `matplotlib.pyplot`. Most images are color, but a few grayscale. You need to handle the grayscale ones somehow as they would have a different number of color channels (depth) than the color ones.\n",
        "\n",
        "- In the exercises we used e.g., `torchvision.datasets.MNIST` to handle the loading of the data in suitable batches. Here, you need to handle the dataloading yourself.  The easiest way is probably to create a custom `Dataset`. [See for example here for a tutorial](https://github.com/utkuozbulak/pytorch-custom-dataset-examples)."
      ]
    },
    {
      "metadata": {
        "colab_type": "code",
        "id": "iMioZJz0OGWX",
        "outputId": "26841b29-4f71-40e6-fb28-ee7f43a37345",
        "colab": {
          "base_uri": "https://localhost:8080/",
          "height": 371
        }
      },
      "cell_type": "code",
      "source": [
        "! pip install torch torchvision torchsummary"
      ],
      "execution_count": 0,
      "outputs": [
        {
          "output_type": "stream",
          "text": [
            "Collecting torch\n",
            "\u001b[?25l  Downloading https://files.pythonhosted.org/packages/7e/60/66415660aa46b23b5e1b72bc762e816736ce8d7260213e22365af51e8f9c/torch-1.0.0-cp36-cp36m-manylinux1_x86_64.whl (591.8MB)\n",
            "\u001b[K    100% |████████████████████████████████| 591.8MB 23kB/s \n",
            "tcmalloc: large alloc 1073750016 bytes == 0x61052000 @  0x7f77e6e552a4 0x591a07 0x5b5d56 0x502e9a 0x506859 0x502209 0x502f3d 0x506859 0x504c28 0x502540 0x502f3d 0x506859 0x504c28 0x502540 0x502f3d 0x506859 0x504c28 0x502540 0x502f3d 0x507641 0x502209 0x502f3d 0x506859 0x504c28 0x502540 0x502f3d 0x507641 0x504c28 0x502540 0x502f3d 0x507641\n",
            "\u001b[?25hCollecting torchvision\n",
            "\u001b[?25l  Downloading https://files.pythonhosted.org/packages/ca/0d/f00b2885711e08bd71242ebe7b96561e6f6d01fdb4b9dcf4d37e2e13c5e1/torchvision-0.2.1-py2.py3-none-any.whl (54kB)\n",
            "\u001b[K    100% |████████████████████████████████| 61kB 25.7MB/s \n",
            "\u001b[?25hCollecting torchsummary\n",
            "  Downloading https://files.pythonhosted.org/packages/7d/18/1474d06f721b86e6a9b9d7392ad68bed711a02f3b61ac43f13c719db50a6/torchsummary-1.5.1-py3-none-any.whl\n",
            "Requirement already satisfied: six in /usr/local/lib/python3.6/dist-packages (from torchvision) (1.11.0)\n",
            "Requirement already satisfied: numpy in /usr/local/lib/python3.6/dist-packages (from torchvision) (1.14.6)\n",
            "Collecting pillow>=4.1.1 (from torchvision)\n",
            "\u001b[?25l  Downloading https://files.pythonhosted.org/packages/92/e3/217dfd0834a51418c602c96b110059c477260c7fee898542b100913947cf/Pillow-5.4.0-cp36-cp36m-manylinux1_x86_64.whl (2.0MB)\n",
            "\u001b[K    100% |████████████████████████████████| 2.0MB 5.3MB/s \n",
            "\u001b[?25hInstalling collected packages: torch, pillow, torchvision, torchsummary\n",
            "  Found existing installation: Pillow 4.0.0\n",
            "    Uninstalling Pillow-4.0.0:\n",
            "      Successfully uninstalled Pillow-4.0.0\n",
            "Successfully installed pillow-5.4.0 torch-1.0.0 torchsummary-1.5.1 torchvision-0.2.1\n"
          ],
          "name": "stdout"
        }
      ]
    },
    {
      "metadata": {
        "colab_type": "code",
        "id": "wAnheWovPhsl",
        "outputId": "5e1e4873-64cb-470f-f01b-399397087150",
        "colab": {
          "base_uri": "https://localhost:8080/",
          "height": 195
        }
      },
      "cell_type": "code",
      "source": [
        "!pip install pillow==4.1.1\n",
        "%reload_ext autoreload\n",
        "%autoreload"
      ],
      "execution_count": 0,
      "outputs": [
        {
          "output_type": "stream",
          "text": [
            "Collecting pillow==4.1.1\n",
            "\u001b[?25l  Downloading https://files.pythonhosted.org/packages/36/e5/88b3d60924a3f8476fa74ec086f5fbaba56dd6cee0d82845f883b6b6dd18/Pillow-4.1.1-cp36-cp36m-manylinux1_x86_64.whl (5.7MB)\n",
            "\u001b[K    100% |████████████████████████████████| 5.7MB 7.2MB/s \n",
            "\u001b[?25hRequirement already satisfied: olefile in /usr/local/lib/python3.6/dist-packages (from pillow==4.1.1) (0.46)\n",
            "Installing collected packages: pillow\n",
            "  Found existing installation: Pillow 5.4.0\n",
            "    Uninstalling Pillow-5.4.0:\n",
            "      Successfully uninstalled Pillow-5.4.0\n",
            "Successfully installed pillow-4.1.1\n"
          ],
          "name": "stdout"
        }
      ]
    },
    {
      "metadata": {
        "colab_type": "text",
        "id": "ETU_n-NCN6BX"
      },
      "cell_type": "markdown",
      "source": [
        "## Download the data"
      ]
    },
    {
      "metadata": {
        "colab_type": "code",
        "id": "8HPeRa7JN6BY",
        "colab": {}
      },
      "cell_type": "code",
      "source": [
        "import os\n",
        "import torch\n",
        "import torchvision\n",
        "from torchvision.datasets.utils import download_url\n",
        "import zipfile"
      ],
      "execution_count": 0,
      "outputs": []
    },
    {
      "metadata": {
        "colab_type": "code",
        "id": "lRKFdNkGN6Bd",
        "colab": {}
      },
      "cell_type": "code",
      "source": [
        "train_path = 'train'\n",
        "dl_file = 'dl2018-image-proj.zip'\n",
        "dl_url = 'https://users.aalto.fi/mvsjober/misc/'\n",
        "\n",
        "zip_path = os.path.join(train_path, dl_file)\n",
        "if not os.path.isfile(zip_path):\n",
        "    download_url(dl_url + dl_file, root=train_path, filename=dl_file, md5=None)\n",
        "\n",
        "with zipfile.ZipFile(zip_path) as zip_f:\n",
        "    zip_f.extractall(train_path)\n",
        "    #os.unlink(zip_path)"
      ],
      "execution_count": 0,
      "outputs": []
    },
    {
      "metadata": {
        "colab_type": "code",
        "id": "SYucMUzKN6Bh",
        "outputId": "1ea76cdb-bcee-41ed-8182-66ac711b5047",
        "colab": {
          "base_uri": "https://localhost:8080/",
          "height": 34
        }
      },
      "cell_type": "code",
      "source": [
        "if torch.cuda.is_available():\n",
        "    print('Using GPU!')\n",
        "    device = torch.device('cuda')\n",
        "else:\n",
        "    print('Using CPU')\n",
        "    device = torch.device('cpu')"
      ],
      "execution_count": 3,
      "outputs": [
        {
          "output_type": "stream",
          "text": [
            "Using GPU!\n"
          ],
          "name": "stdout"
        }
      ]
    },
    {
      "metadata": {
        "colab_type": "text",
        "id": "e4OBeshoN6Bn"
      },
      "cell_type": "markdown",
      "source": [
        "The above command downloaded and extracted the data files into the `train` subdirectory.\n",
        "\n",
        "The images can be found in `train/images`, and are named as `im1.jpg`, `im2.jpg` and so on until `im20000.jpg`.\n",
        "\n",
        "The class labels, or annotations, can be found in `train/annotations` as `CLASSNAME.txt`, where CLASSNAME is one of the fourteen classes: *baby, bird, car, clouds, dog, female, flower, male, night, people, portrait, river, sea,* and *tree*.\n",
        "\n",
        "Each annotation file is a simple text file that lists the images that depict that class, one per line. The images are listed with their number, not the full filename. For example `5969` refers to the image `im5969.jpg`."
      ]
    },
    {
      "metadata": {
        "colab_type": "text",
        "id": "p7NS0wddN6Bp"
      },
      "cell_type": "markdown",
      "source": [
        "## Your stuff goes here ..."
      ]
    },
    {
      "metadata": {
        "colab_type": "code",
        "id": "CBSFUnlrN6Bq",
        "colab": {}
      },
      "cell_type": "code",
      "source": [
        "import os\n",
        "from os import listdir\n",
        "import matplotlib.pyplot as plt\n",
        "import pandas as pd\n",
        "import numpy as np\n",
        "import random as rd\n",
        "import torch\n",
        "import torch.nn as nn\n",
        "import torch.nn.functional as F\n",
        "from torchvision import datasets, transforms\n",
        "import matplotlib.pyplot as plt\n",
        "import numpy as np\n",
        "img_path = \"./train/images/\"\n",
        "labels_path = \"./train/annotations/\""
      ],
      "execution_count": 0,
      "outputs": []
    },
    {
      "metadata": {
        "colab_type": "text",
        "id": "bOmN6xaIN6Bt"
      },
      "cell_type": "markdown",
      "source": [
        "Get all annotations & images paths"
      ]
    },
    {
      "metadata": {
        "colab_type": "code",
        "id": "xdCSaC65N6Bu",
        "colab": {}
      },
      "cell_type": "code",
      "source": [
        "images_path = \"train/images/\" \n",
        "image_files = [(images_path+f) for f in os.listdir(images_path) \\\n",
        "                if os.path.isfile(os.path.join(images_path, f))]\n",
        "images = []\n",
        "for current_img_path in image_files:\n",
        "    current_img_vector =  plt.imread( current_img_path )\n",
        "    filename_without_extension = os.path.basename(current_img_path)[:-4] # :-4 to drop the extension\n",
        "    img_num = filename_without_extension[2:] # drop the heading \"im\"\n",
        "    images += [img_num]\n",
        "del image_files"
      ],
      "execution_count": 0,
      "outputs": []
    },
    {
      "metadata": {
        "colab_type": "code",
        "id": "IUx_enEdN6By",
        "colab": {}
      },
      "cell_type": "code",
      "source": [
        "data=images\n",
        "labels = [[] for _ in range(len(data))] # Empty list of labels\n",
        "annotations_path = \"train/annotations/\"\n",
        "annotations_files = [(annotations_path+f) for f in os.listdir(annotations_path) \\\n",
        "        if os.path.isfile(os.path.join(annotations_path, f))]\n",
        "for file in annotations_files:\n",
        "    label = os.path.basename(file)[:-4] # :-4 to drop the extension\n",
        "    with open(file) as f: # file is the name of the label currently read\n",
        "        img_nums = f.read().split()\n",
        "    for img_num in img_nums:\n",
        "        if img_num not in data:\n",
        "            continue\n",
        "        labels[data.index(img_num)].append(label)"
      ],
      "execution_count": 0,
      "outputs": []
    },
    {
      "metadata": {
        "colab_type": "code",
        "id": "xlpZq0l6N6B3",
        "colab": {}
      },
      "cell_type": "code",
      "source": [
        "class OneHotTransformer:\n",
        "    def __init__(self):\n",
        "        annotations_files = [(annotations_path+f) for f in os.listdir(annotations_path) \\\n",
        "                    if os.path.isfile(os.path.join(annotations_path, f))]\n",
        "        self.vocabulary = []\n",
        "        for file in annotations_files:\n",
        "            label = os.path.basename(file)[:-4] # :-4 to drop the extension\n",
        "            self.vocabulary.append(label)\n",
        "    def toOneHot(self, labels):\n",
        "        res = [0]*len(self.vocabulary)\n",
        "        for i, voc in enumerate(self.vocabulary):\n",
        "            if voc in labels:\n",
        "                res[i] = 1\n",
        "        return np.array(res)\n",
        "    def toVocabulary(self, onehot):\n",
        "        res = []\n",
        "        for i, n in enumerate(onehot):\n",
        "            if n: res.append(self.vocabulary[i])\n",
        "        return res\n",
        "oneHotTransformer = OneHotTransformer()"
      ],
      "execution_count": 0,
      "outputs": []
    },
    {
      "metadata": {
        "id": "LlGVv1KFLMsM",
        "colab_type": "code",
        "colab": {}
      },
      "cell_type": "code",
      "source": [
        "# Files to pytorch dataset\n",
        "# Inspired from https://github.com/pytorch/vision/blob/master/torchvision/datasets/mnist.py\n",
        "from torch.utils.data.dataset import Dataset\n",
        "from torchvision import datasets, transforms\n",
        "from PIL import Image\n",
        "\n",
        "class imageDataset(Dataset):\n",
        "    def __init__(self, data_basenames, channels = 3, height = 224, width = 224, transforms = transforms.Compose([\n",
        "        transforms.Resize(256),\n",
        "        transforms.CenterCrop(224),\n",
        "        transforms.ToTensor(),\n",
        "        transforms.Normalize([0.485, 0.456, 0.406], [0.229, 0.224, 0.225])])):\n",
        "        \"\"\"\n",
        "        data_basenames is a list of id of image, such as [\"9885\", \"9886\"]\n",
        "        transforms is a list of transformation. it last element should be transforms.ToTensor()\n",
        "        \"\"\"\n",
        "        def parse_labels(data_paths):\n",
        "            \"\"\" Parse to one hot \"\"\"\n",
        "            labels = [[] for _ in range(len(data_paths))] # Empty list of labels\n",
        "            annotations_path = \"train/annotations/\"\n",
        "            annotations_files = [(annotations_path+f) for f in os.listdir(annotations_path) \\\n",
        "                    if os.path.isfile(os.path.join(annotations_path, f))]\n",
        "            vocabulary = []\n",
        "            for file in annotations_files:\n",
        "                label = os.path.basename(file)[:-4] # :-4 to drop the extension\n",
        "                vocabulary.append(label)\n",
        "                with open(file) as f: # file is the name of the label currently read\n",
        "                    img_nums = f.read().split()\n",
        "                for img_num in img_nums:\n",
        "                    if img_num not in data_paths:\n",
        "                        continue\n",
        "                    labels[data_paths.index(img_num)].append(label)\n",
        "            return labels\n",
        "          \n",
        "        self.data = data_basenames\n",
        "        self.labels = parse_labels(data_basenames)\n",
        "        self.channels = channels\n",
        "        self.height = height\n",
        "        self.width = width\n",
        "        self.transforms = transforms\n",
        "        self.data_len = len(data_basenames)\n",
        "\n",
        "    def __getitem__(self, index):\n",
        "        img_path = \"train/images/im\" + self.data[index] + \".jpg\"\n",
        "        data = Image.open(img_path)\n",
        "        \n",
        "        if self.transforms is not None:\n",
        "            img = self.transforms(data)\n",
        "        #labels = np.array(self.labels[index])\n",
        "        #print(self.labels[index])\n",
        "        \n",
        "        if img.shape[0] == 1:  # change graysclae images to RGB\n",
        "            img = torch.cat((img,img,img),0)      \n",
        "        labels = self.labels[index]\n",
        "        one_hot_labels = oneHotTransformer.toOneHot(labels)\n",
        "        return img, one_hot_labels\n",
        "\n",
        "    def __len__(self):\n",
        "        return self.data_len\n",
        "\n",
        "    \n",
        "import random\n",
        "random.shuffle(images) # So we make sure test data has all kinds of label, in case\n",
        "                                 # the repartition is not even according to label names\n",
        "\n",
        "batch_size = 16\n",
        "\n",
        "# 80% train, 20% test\n",
        "index_cut =  int(len(images)*0.8)\n",
        "train_dataset = imageDataset(images[:index_cut])\n",
        "train_loader = torch.utils.data.DataLoader(dataset=train_dataset,\n",
        "                                          batch_size=batch_size,\n",
        "                                          shuffle=True)\n",
        "test_dataset = imageDataset(images[index_cut:])\n",
        "test_loader = torch.utils.data.DataLoader(dataset=test_dataset,\n",
        "                                          batch_size=batch_size,\n",
        "                                          shuffle=True)"
      ],
      "execution_count": 0,
      "outputs": []
    },
    {
      "metadata": {
        "colab_type": "code",
        "id": "nLGLUeX1LS_B",
        "colab": {}
      },
      "cell_type": "code",
      "source": [
        "data, target = next(train_loader.__iter__()) # Iteration works!"
      ],
      "execution_count": 0,
      "outputs": []
    },
    {
      "metadata": {
        "id": "McpffkquPIEv",
        "colab_type": "text"
      },
      "cell_type": "markdown",
      "source": [
        "# Pretrained Models\n",
        "\n",
        "\n",
        "\n",
        "## 1.1 Resnet"
      ]
    },
    {
      "metadata": {
        "id": "RV3BLQwD7J9b",
        "colab_type": "code",
        "colab": {}
      },
      "cell_type": "code",
      "source": [
        "import torchvision.models as models\n",
        "\n",
        "resnet18 = models.resnet18(pretrained=True)\n",
        "num_input = resnet18.fc.in_features\n",
        "resnet18.fc = nn.Linear(num_input, 14)\n",
        "model = resnet18.to(device)\n",
        "optimizer = torch.optim.Adam(model.parameters(), lr = 0.01) #Adam\n",
        "criterion = nn.MultiLabelSoftMarginLoss() "
      ],
      "execution_count": 0,
      "outputs": []
    },
    {
      "metadata": {
        "colab_type": "text",
        "id": "NSwCiJHTTDYQ"
      },
      "cell_type": "markdown",
      "source": [
        "Train the model"
      ]
    },
    {
      "metadata": {
        "colab_type": "code",
        "id": "1ofzw5ggojdp",
        "colab": {}
      },
      "cell_type": "code",
      "source": [
        "def train_net(model, epoch, trainLoss, thresh, interval = 100):\n",
        "    # set model to train\n",
        "    model.train()\n",
        "    loss = 0\n",
        "    \n",
        "    for batch_idx, (data, target) in enumerate(train_loader):\n",
        "        \n",
        "        data = data.to(device) # to GPU\n",
        "        target = target.float().to(device) # to GPU, \".float()\" is improtant, otherwise got error.\n",
        "        \n",
        "        # set zero gradient buffer\n",
        "        optimizer.zero_grad()\n",
        "        \n",
        "        # compute the output and Loss\n",
        "        output = model(data)\n",
        "        Loss = criterion(output, target)\n",
        "        \n",
        "        # back prop\n",
        "        Loss.backward()\n",
        "        \n",
        "        # update weights\n",
        "        optimizer.step()\n",
        "        \n",
        "        # print information\n",
        "        if batch_idx % interval == 0:\n",
        "            print(\"Train Epoch: {} [{}/{} {:.0f}%]\\tLoss: {:.6f}\".format(epoch, len(data)*batch_idx, len(train_loader)*len(data), batch_idx/len(train_loader)*100, Loss.data.item()))   \n",
        "         \n",
        "        loss += Loss\n",
        "        \n",
        "    loss/=len(train_loader)\n",
        "    \n",
        "    trainLoss.append(loss)"
      ],
      "execution_count": 0,
      "outputs": []
    },
    {
      "metadata": {
        "id": "aNTd1FaczJzH",
        "colab_type": "code",
        "outputId": "3345de3d-2415-4e97-83d2-412f2035b8db",
        "colab": {
          "base_uri": "https://localhost:8080/",
          "height": 70
        }
      },
      "cell_type": "code",
      "source": [
        "def validate(model, treshold, lossv, accv, precv, recv, verbose=True):\n",
        "  loss, acc, prec, rec = 0,0,0,0\n",
        "  for i, sample in enumerate(test_loader):\n",
        "    inputv, targetv = sample\n",
        "    inputv = inputv.to(device)\n",
        "    output = model(inputv)\n",
        "    \n",
        "    pred = torch.sigmoid(output).data.gt(treshold) # Activated output\n",
        "    #loss += criterion(output, target.float().to(device))\n",
        "    loss += criterion(output, targetv.data.to(device).float()).data.item()\n",
        "    # confusion matrix (true/false negative/positive)\n",
        "    tp = (pred + targetv.data.to(device).byte()).eq(2).sum()\n",
        "    fp = (pred - targetv.data.to(device).byte()).eq(1).sum()\n",
        "    fn = (pred - targetv.data.to(device).byte()).eq(-1).sum()\n",
        "    tn = (pred + targetv.data.to(device).byte()).eq(0).sum()\n",
        "    acc += (tp + tn).float() / (tp + tn + fp + fn)\n",
        "\n",
        "    if tp+fp!=0:\n",
        "      prec += tp.float() / (tp + fp)\n",
        "    else:\n",
        "      prec += 0.0\n",
        "    if tp+fn != 0:\n",
        "      rec += tp.float() / (tp + fn)\n",
        "    else:\n",
        "      rec += 0.0\n",
        "  loss /= len(test_loader)\n",
        "  acc /= len(test_loader)\n",
        "  prec /= len(test_loader)\n",
        "  rec /= len(test_loader)\n",
        "  lossv.append(loss)\n",
        "  accv.append(acc)\n",
        "  precv.append(prec)\n",
        "  recv.append(rec)\n",
        "  if verbose:\n",
        "    print('Validation set: Average loss: {:.4f}, Accuracy: {:.2f}%, Precision: {:.2f}%, Recall: {:.2f}%'.format(\n",
        "            loss, acc*100, prec*100, rec*100))\n",
        "    print(\"\\t\\tF1 score : {:.2f}%\\n\".format(100*2*(prec*rec)/(prec+rec)))\n",
        "lossv, accv, precv, recv = [],[],[],[] # Average loss, accuracy, precision and recall\n",
        "validate(model, 0.5, lossv, accv, precv, recv)"
      ],
      "execution_count": 15,
      "outputs": [
        {
          "output_type": "stream",
          "text": [
            "Validation set: Average loss: 0.6878, Accuracy: 60.76%, Precision: 6.85%, Recall: 36.39%\n",
            "\t\tF1 score : 11.53%\n",
            "\n"
          ],
          "name": "stdout"
        }
      ]
    },
    {
      "metadata": {
        "colab_type": "code",
        "id": "KOwb6HuOIwA9",
        "outputId": "8ad64b53-d0ea-4eeb-b5f1-46566d162f1e",
        "colab": {
          "base_uri": "https://localhost:8080/",
          "height": 738
        }
      },
      "cell_type": "code",
      "source": [
        "%%time\n",
        "#model = one_layer_cnn().to(device)\n",
        "#model = sim_cnn_v1().to(device)\n",
        "#model = deep_cnn().to(device)\n",
        "#model = lstm()\n",
        "treshold = 0.3\n",
        "epoch = 3\n",
        "\n",
        "#learning_rate = 0.000001 # for sim_cnn_v1\n",
        "learning_rate = 0.0001 # for deep_cnn\n",
        "optimizer = torch.optim.Adam(model.parameters(), lr = learning_rate) #Adam\n",
        "criterion = nn.MultiLabelSoftMarginLoss()\n",
        "#criterion = nn.BCELoss()\n",
        "train_loss, val_loss = [], []\n",
        "accuracy, precision, recall = [],[],[]\n",
        "for i in range(1,1+epoch):\n",
        "    train_net(model, i, train_loss, treshold)\n",
        "    validate(model, treshold, val_loss, accuracy, precision, recall)\n",
        "    \n",
        "    if i>3:\n",
        "      prev_delta_loss = abs(val_loss[-2] - train_loss[-2]) \n",
        "      delta_loss = abs(val_loss[-1] - train_loss[-1])\n",
        "      if delta_loss > prev_delta_loss:\n",
        "        # The model starts to be overfitted\n",
        "        #if delta_loss<0.01:\n",
        "        #  break # We consider a 0.01 delta loss good enough\n",
        "        #elif delta_loss<0.5: \n",
        "        #  print(\"Smaller learning rate!\")\n",
        "        #  learning_rate /= 10 # Dividing the learning rate\n",
        "        # optimizer = torch.optim.Adam(model.parameters(), lr = learning_rate) \n",
        "        pass"
      ],
      "execution_count": 16,
      "outputs": [
        {
          "output_type": "stream",
          "text": [
            "Train Epoch: 1 [0/16000 0%]\tLoss: 0.669185\n",
            "Train Epoch: 1 [1600/16000 10%]\tLoss: 0.129752\n",
            "Train Epoch: 1 [3200/16000 20%]\tLoss: 0.100199\n",
            "Train Epoch: 1 [4800/16000 30%]\tLoss: 0.138288\n",
            "Train Epoch: 1 [6400/16000 40%]\tLoss: 0.093162\n",
            "Train Epoch: 1 [8000/16000 50%]\tLoss: 0.084986\n",
            "Train Epoch: 1 [9600/16000 60%]\tLoss: 0.124405\n",
            "Train Epoch: 1 [11200/16000 70%]\tLoss: 0.138449\n",
            "Train Epoch: 1 [12800/16000 80%]\tLoss: 0.058272\n",
            "Train Epoch: 1 [14400/16000 90%]\tLoss: 0.089801\n",
            "Validation set: Average loss: 0.1021, Accuracy: 95.80%, Precision: 68.55%, Recall: 74.15%\n",
            "\t\tF1 score : 71.24%\n",
            "\n",
            "Train Epoch: 2 [0/16000 0%]\tLoss: 0.085925\n",
            "Train Epoch: 2 [1600/16000 10%]\tLoss: 0.047930\n",
            "Train Epoch: 2 [3200/16000 20%]\tLoss: 0.136016\n",
            "Train Epoch: 2 [4800/16000 30%]\tLoss: 0.071187\n",
            "Train Epoch: 2 [6400/16000 40%]\tLoss: 0.050727\n",
            "Train Epoch: 2 [8000/16000 50%]\tLoss: 0.056515\n",
            "Train Epoch: 2 [9600/16000 60%]\tLoss: 0.115537\n",
            "Train Epoch: 2 [11200/16000 70%]\tLoss: 0.071884\n",
            "Train Epoch: 2 [12800/16000 80%]\tLoss: 0.062257\n",
            "Train Epoch: 2 [14400/16000 90%]\tLoss: 0.047723\n",
            "Validation set: Average loss: 0.0997, Accuracy: 95.70%, Precision: 66.60%, Recall: 77.34%\n",
            "\t\tF1 score : 71.57%\n",
            "\n",
            "Train Epoch: 3 [0/16000 0%]\tLoss: 0.060168\n",
            "Train Epoch: 3 [1600/16000 10%]\tLoss: 0.057968\n",
            "Train Epoch: 3 [3200/16000 20%]\tLoss: 0.031448\n",
            "Train Epoch: 3 [4800/16000 30%]\tLoss: 0.033381\n",
            "Train Epoch: 3 [6400/16000 40%]\tLoss: 0.055099\n",
            "Train Epoch: 3 [8000/16000 50%]\tLoss: 0.079103\n",
            "Train Epoch: 3 [9600/16000 60%]\tLoss: 0.050590\n",
            "Train Epoch: 3 [11200/16000 70%]\tLoss: 0.051174\n",
            "Train Epoch: 3 [12800/16000 80%]\tLoss: 0.062873\n",
            "Train Epoch: 3 [14400/16000 90%]\tLoss: 0.047468\n",
            "Validation set: Average loss: 0.1083, Accuracy: 95.62%, Precision: 66.67%, Recall: 75.00%\n",
            "\t\tF1 score : 70.59%\n",
            "\n",
            "CPU times: user 9min 12s, sys: 2min 36s, total: 11min 48s\n",
            "Wall time: 11min 58s\n"
          ],
          "name": "stdout"
        }
      ]
    },
    {
      "metadata": {
        "id": "M_alI9uxkzjy",
        "colab_type": "code",
        "outputId": "7956de69-e851-42e0-c532-1be2a3783b87",
        "colab": {
          "base_uri": "https://localhost:8080/",
          "height": 633
        }
      },
      "cell_type": "code",
      "source": [
        "# Have a look at results\n",
        "# So we can know what error is common\n",
        "for i, sample in enumerate(test_loader):\n",
        "    inputv, targetv = sample\n",
        "    inputv = inputv.to(device)\n",
        "    output = model(inputv)\n",
        "    \n",
        "    #print(\"Prediction\\n\", output)\n",
        "    pred = output.data.gt(treshold) # Activated output\n",
        "    print(\"Prediction\\n\", pred)\n",
        "    print(\"Truth\\n\", targetv)\n",
        "    break"
      ],
      "execution_count": 18,
      "outputs": [
        {
          "output_type": "stream",
          "text": [
            "Prediction\n",
            " tensor([[0, 0, 0, 0, 0, 0, 0, 0, 0, 0, 0, 0, 0, 0],\n",
            "        [0, 0, 0, 0, 0, 0, 0, 0, 0, 0, 0, 0, 0, 0],\n",
            "        [0, 0, 0, 0, 0, 0, 1, 0, 0, 0, 0, 0, 1, 0],\n",
            "        [0, 0, 0, 0, 0, 0, 0, 0, 0, 0, 0, 0, 0, 0],\n",
            "        [0, 0, 0, 0, 0, 0, 0, 0, 0, 0, 0, 0, 0, 0],\n",
            "        [0, 0, 0, 0, 0, 0, 0, 0, 0, 0, 0, 1, 0, 0],\n",
            "        [0, 0, 0, 0, 0, 0, 0, 0, 0, 0, 0, 0, 0, 0],\n",
            "        [1, 0, 0, 0, 0, 0, 1, 0, 1, 0, 0, 0, 1, 0],\n",
            "        [0, 0, 0, 0, 0, 0, 0, 0, 0, 0, 0, 0, 0, 0],\n",
            "        [0, 0, 0, 0, 0, 0, 0, 0, 0, 0, 0, 0, 0, 0],\n",
            "        [1, 0, 0, 0, 0, 0, 0, 0, 1, 0, 0, 0, 1, 0],\n",
            "        [0, 0, 0, 0, 0, 0, 0, 0, 0, 0, 0, 0, 0, 0],\n",
            "        [0, 0, 0, 0, 0, 0, 0, 0, 0, 0, 1, 0, 0, 0],\n",
            "        [0, 0, 0, 0, 0, 0, 0, 0, 0, 0, 0, 0, 0, 0],\n",
            "        [0, 0, 0, 0, 0, 0, 0, 0, 0, 0, 0, 0, 0, 0],\n",
            "        [1, 0, 0, 0, 0, 0, 0, 0, 0, 0, 0, 0, 1, 0]], device='cuda:0',\n",
            "       dtype=torch.uint8)\n",
            "Truth\n",
            " tensor([[0, 0, 0, 0, 0, 0, 0, 0, 0, 0, 0, 0, 0, 0],\n",
            "        [0, 0, 0, 0, 0, 0, 0, 0, 0, 0, 0, 0, 0, 0],\n",
            "        [1, 0, 0, 0, 0, 0, 1, 0, 0, 0, 0, 0, 1, 0],\n",
            "        [0, 0, 0, 0, 0, 0, 0, 0, 0, 0, 0, 0, 0, 0],\n",
            "        [0, 0, 0, 0, 0, 0, 0, 0, 0, 0, 0, 0, 0, 0],\n",
            "        [0, 0, 0, 0, 0, 0, 0, 0, 0, 0, 0, 1, 0, 0],\n",
            "        [0, 0, 0, 0, 0, 0, 0, 0, 0, 0, 0, 0, 0, 0],\n",
            "        [1, 0, 0, 0, 0, 0, 1, 0, 1, 0, 0, 0, 1, 0],\n",
            "        [0, 0, 0, 0, 0, 0, 0, 0, 0, 0, 0, 0, 0, 0],\n",
            "        [0, 0, 0, 0, 0, 0, 0, 0, 0, 0, 0, 0, 0, 0],\n",
            "        [1, 0, 0, 0, 0, 0, 1, 0, 1, 0, 0, 0, 1, 0],\n",
            "        [0, 0, 0, 0, 0, 0, 0, 0, 0, 0, 0, 0, 0, 0],\n",
            "        [0, 0, 0, 0, 0, 0, 0, 0, 0, 0, 1, 0, 0, 0],\n",
            "        [0, 0, 0, 0, 0, 0, 0, 0, 0, 0, 0, 0, 0, 0],\n",
            "        [0, 0, 0, 0, 0, 0, 0, 0, 0, 0, 0, 0, 0, 0],\n",
            "        [1, 0, 0, 0, 0, 0, 0, 0, 1, 0, 0, 0, 1, 0]])\n"
          ],
          "name": "stdout"
        }
      ]
    },
    {
      "metadata": {
        "id": "TeFWkmJUUiRV",
        "colab_type": "code",
        "colab": {
          "base_uri": "https://localhost:8080/",
          "height": 376
        },
        "outputId": "1a2fa1b1-a562-4c76-a8e3-e09a976b0223"
      },
      "cell_type": "code",
      "source": [
        "# The schema allows to see if the model was properly fitted\n",
        "# that allows us to learn if the initial learning rate was appropriate\n",
        "plt.title(\"Pretrained Resnet18 model loss\")\n",
        "plt.plot(train_loss, label=\"train\")\n",
        "plt.plot(val_loss, label=\"validation\")\n",
        "plt.ylabel(\"loss\")\n",
        "plt.xlabel(\"epoch\")\n",
        "plt.legend()\n",
        "plt.show()"
      ],
      "execution_count": 17,
      "outputs": [
        {
          "output_type": "display_data",
          "data": {
            "image/png": "[encoded data removed]",
            "text/plain": [
              "<matplotlib.figure.Figure at 0x7f85858e6f98>"
            ]
          },
          "metadata": {
            "tags": []
          }
        }
      ]
    },
    {
      "metadata": {
        "id": "2b63_v_FlNLO",
        "colab_type": "text"
      },
      "cell_type": "markdown",
      "source": [
        "## 1.2 VGG16"
      ]
    },
    {
      "metadata": {
        "id": "_iw1poHWPpF_",
        "colab_type": "code",
        "colab": {}
      },
      "cell_type": "code",
      "source": [
        "# VGG16,slow\n",
        "vgg16 = models.vgg16(pretrained=True)\n",
        "\n",
        "num_features = vgg16.classifier[6].in_features\n",
        "features = list(vgg16.classifier.children())[:-1]\n",
        "features.extend([nn.Linear(num_features, 14)])\n",
        "vgg16.classifier = nn.Sequential(*features)\n",
        "\n",
        "model = vgg16.to(device)\n",
        "optimizer = torch.optim.Adam(model.parameters(), lr = 0.01) #Adam\n",
        "criterion = nn.MultiLabelSoftMarginLoss() "
      ],
      "execution_count": 0,
      "outputs": []
    },
    {
      "metadata": {
        "id": "zE-SUxc4SHV_",
        "colab_type": "code",
        "colab": {}
      },
      "cell_type": "code",
      "source": [
        "def train_net(model, epoch, trainLoss, thresh, interval = 100):\n",
        "    # set model to train\n",
        "    model.train()\n",
        "    loss = 0\n",
        "    \n",
        "    for batch_idx, (data, target) in enumerate(train_loader):\n",
        "        \n",
        "        data = data.to(device) # to GPU\n",
        "        target = target.float().to(device) # to GPU, \".float()\" is improtant, otherwise got error.\n",
        "        \n",
        "        # set zero gradient buffer\n",
        "        optimizer.zero_grad()\n",
        "        \n",
        "        # compute the output and Loss\n",
        "        output = model(data)\n",
        "        Loss = criterion(output, target)\n",
        "        \n",
        "        # back prop\n",
        "        Loss.backward()\n",
        "        \n",
        "        # update weights\n",
        "        optimizer.step()\n",
        "        \n",
        "        # print information\n",
        "        if batch_idx % interval == 0:\n",
        "            print(\"Train Epoch: {} [{}/{} {:.0f}%]\\tLoss: {:.6f}\".format(epoch, len(data)*batch_idx, len(train_loader)*len(data), batch_idx/len(train_loader)*100, Loss.data.item()))   \n",
        "         \n",
        "        loss += Loss\n",
        "        \n",
        "    loss/=len(train_loader)\n",
        "    \n",
        "    trainLoss.append(loss)"
      ],
      "execution_count": 0,
      "outputs": []
    },
    {
      "metadata": {
        "id": "I3UrAL1aSCWN",
        "colab_type": "code",
        "outputId": "2d00796a-3c06-4357-e57a-14fcb9d3cb11",
        "colab": {
          "base_uri": "https://localhost:8080/",
          "height": 70
        }
      },
      "cell_type": "code",
      "source": [
        "def validate(model, treshold, lossv, accv, precv, recv, verbose=True):\n",
        "  loss, acc, prec, rec = 0,0,0,0\n",
        "  for i, sample in enumerate(test_loader):\n",
        "    inputv, targetv = sample\n",
        "    inputv = inputv.to(device)\n",
        "    output = model(inputv)\n",
        "    \n",
        "    pred = torch.sigmoid(output).data.gt(treshold) # Activated output\n",
        "    #loss += criterion(output, target.float().to(device))\n",
        "    loss += criterion(output, targetv.data.to(device).float()).data.item()\n",
        "    # confusion matrix (true/false negative/positive)\n",
        "    tp = (pred + targetv.data.to(device).byte()).eq(2).sum()\n",
        "    fp = (pred - targetv.data.to(device).byte()).eq(1).sum()\n",
        "    fn = (pred - targetv.data.to(device).byte()).eq(-1).sum()\n",
        "    tn = (pred + targetv.data.to(device).byte()).eq(0).sum()\n",
        "    acc += (tp + tn).float() / (tp + tn + fp + fn)\n",
        "\n",
        "    if tp+fp!=0:\n",
        "      prec += tp.float() / (tp + fp)\n",
        "    else:\n",
        "      prec += 0.0\n",
        "    if tp+fn != 0:\n",
        "      rec += tp.float() / (tp + fn)\n",
        "    else:\n",
        "      rec += 0.0\n",
        "  loss /= len(test_loader)\n",
        "  acc /= len(test_loader)\n",
        "  prec /= len(test_loader)\n",
        "  rec /= len(test_loader)\n",
        "  lossv.append(loss)\n",
        "  accv.append(acc)\n",
        "  precv.append(prec)\n",
        "  recv.append(rec)\n",
        "  if verbose:\n",
        "    print('Validation set: Average loss: {:.4f}, Accuracy: {:.2f}%, Precision: {:.2f}%, Recall: {:.2f}%'.format(\n",
        "            loss, acc*100, prec*100, rec*100))\n",
        "    print(\"\\t\\tF1 score : {:.2f}%\\n\".format(100*2*(prec*rec)/(prec+rec)))\n",
        "lossv, accv, precv, recv = [],[],[],[] # Average loss, accuracy, precision and recall\n",
        "validate(model, 0.5, lossv, accv, precv, recv)"
      ],
      "execution_count": 23,
      "outputs": [
        {
          "output_type": "stream",
          "text": [
            "Validation set: Average loss: 0.6943, Accuracy: 54.11%, Precision: 6.98%, Recall: 44.32%\n",
            "\t\tF1 score : 12.06%\n",
            "\n"
          ],
          "name": "stdout"
        }
      ]
    },
    {
      "metadata": {
        "id": "qe0lq3CUSNqN",
        "colab_type": "code",
        "outputId": "ab397f82-e1a3-4be3-ce91-e0587a7a70c0",
        "colab": {
          "base_uri": "https://localhost:8080/",
          "height": 738
        }
      },
      "cell_type": "code",
      "source": [
        "%%time\n",
        "\n",
        "#treshold = [0.5, 0.6, 0.7, 0.8, 0.85, 0.9]\n",
        "treshold = 0.5\n",
        "epoch = 3\n",
        "\n",
        "#learning_rate = 0.000001 # for sim_cnn_v1\n",
        "learning_rate = 0.0001 # for deep_cnn\n",
        "optimizer = torch.optim.Adam(model.parameters(), lr = learning_rate) #Adam\n",
        "criterion = nn.MultiLabelSoftMarginLoss()\n",
        "#criterion = nn.BCELoss()\n",
        "train_loss, val_loss = [], []\n",
        "accuracy, precision, recall = [],[],[]\n",
        "for i in range(1,1+epoch):\n",
        "    train_net(model, i, train_loss, treshold)\n",
        "    validate(model, treshold, val_loss, accuracy, precision, recall)\n",
        "    \n",
        "    if i>3:\n",
        "      prev_delta_loss = abs(val_loss[-2] - train_loss[-2]) \n",
        "      delta_loss = abs(val_loss[-1] - train_loss[-1])\n",
        "      if delta_loss > prev_delta_loss:\n",
        "        # The model starts to be overfitted\n",
        "        #if delta_loss<0.01:\n",
        "        #  break # We consider a 0.01 delta loss good enough\n",
        "        #elif delta_loss<0.5: \n",
        "        #  print(\"Smaller learning rate!\")\n",
        "        #  learning_rate /= 10 # Dividing the learning rate\n",
        "        # optimizer = torch.optim.Adam(model.parameters(), lr = learning_rate) \n",
        "        pass"
      ],
      "execution_count": 24,
      "outputs": [
        {
          "output_type": "stream",
          "text": [
            "Train Epoch: 1 [0/16000 0%]\tLoss: 0.712229\n",
            "Train Epoch: 1 [1600/16000 10%]\tLoss: 0.185160\n",
            "Train Epoch: 1 [3200/16000 20%]\tLoss: 0.123773\n",
            "Train Epoch: 1 [4800/16000 30%]\tLoss: 0.106994\n",
            "Train Epoch: 1 [6400/16000 40%]\tLoss: 0.172931\n",
            "Train Epoch: 1 [8000/16000 50%]\tLoss: 0.154011\n",
            "Train Epoch: 1 [9600/16000 60%]\tLoss: 0.115112\n",
            "Train Epoch: 1 [11200/16000 70%]\tLoss: 0.108093\n",
            "Train Epoch: 1 [12800/16000 80%]\tLoss: 0.094211\n",
            "Train Epoch: 1 [14400/16000 90%]\tLoss: 0.141624\n",
            "Validation set: Average loss: 0.1010, Accuracy: 96.21%, Precision: 76.38%, Recall: 66.16%\n",
            "\t\tF1 score : 70.90%\n",
            "\n",
            "Train Epoch: 2 [0/16000 0%]\tLoss: 0.090776\n",
            "Train Epoch: 2 [1600/16000 10%]\tLoss: 0.082119\n",
            "Train Epoch: 2 [3200/16000 20%]\tLoss: 0.120006\n",
            "Train Epoch: 2 [4800/16000 30%]\tLoss: 0.083419\n",
            "Train Epoch: 2 [6400/16000 40%]\tLoss: 0.073615\n",
            "Train Epoch: 2 [8000/16000 50%]\tLoss: 0.103655\n",
            "Train Epoch: 2 [9600/16000 60%]\tLoss: 0.092941\n",
            "Train Epoch: 2 [11200/16000 70%]\tLoss: 0.111547\n",
            "Train Epoch: 2 [12800/16000 80%]\tLoss: 0.053624\n",
            "Train Epoch: 2 [14400/16000 90%]\tLoss: 0.082948\n",
            "Validation set: Average loss: 0.1049, Accuracy: 96.08%, Precision: 82.54%, Recall: 56.00%\n",
            "\t\tF1 score : 66.72%\n",
            "\n",
            "Train Epoch: 3 [0/16000 0%]\tLoss: 0.062452\n",
            "Train Epoch: 3 [1600/16000 10%]\tLoss: 0.046979\n",
            "Train Epoch: 3 [3200/16000 20%]\tLoss: 0.093596\n",
            "Train Epoch: 3 [4800/16000 30%]\tLoss: 0.053626\n",
            "Train Epoch: 3 [6400/16000 40%]\tLoss: 0.050465\n",
            "Train Epoch: 3 [8000/16000 50%]\tLoss: 0.064040\n",
            "Train Epoch: 3 [9600/16000 60%]\tLoss: 0.068186\n",
            "Train Epoch: 3 [11200/16000 70%]\tLoss: 0.057492\n",
            "Train Epoch: 3 [12800/16000 80%]\tLoss: 0.080942\n",
            "Train Epoch: 3 [14400/16000 90%]\tLoss: 0.068423\n",
            "Validation set: Average loss: 0.1074, Accuracy: 96.22%, Precision: 81.16%, Recall: 60.00%\n",
            "\t\tF1 score : 68.99%\n",
            "\n",
            "CPU times: user 37min 38s, sys: 22min 55s, total: 1h 34s\n",
            "Wall time: 1h 54s\n"
          ],
          "name": "stdout"
        }
      ]
    },
    {
      "metadata": {
        "id": "0FQYCThgq6RJ",
        "colab_type": "code",
        "outputId": "80b175ff-7d84-47d9-fe23-8d0ff2b8ada8",
        "colab": {
          "base_uri": "https://localhost:8080/",
          "height": 376
        }
      },
      "cell_type": "code",
      "source": [
        "# The schema allows to see if the model was properly fitted\n",
        "# that allows us to learn if the initial learning rate was appropriate\n",
        "plt.title(\"Pretrained VGG16 Model loss\")\n",
        "plt.plot(train_loss, label=\"train\")\n",
        "plt.plot(val_loss, label=\"validation\")\n",
        "plt.ylabel(\"loss\")\n",
        "plt.xlabel(\"epoch\")\n",
        "plt.legend()\n",
        "plt.show()"
      ],
      "execution_count": 26,
      "outputs": [
        {
          "output_type": "display_data",
          "data": {
            "image/png": "[encoded data removed]",
            "text/plain": [
              "<matplotlib.figure.Figure at 0x7f8580a98668>"
            ]
          },
          "metadata": {
            "tags": []
          }
        }
      ]
    },
    {
      "metadata": {
        "id": "p4VCumB-lvmj",
        "colab_type": "text"
      },
      "cell_type": "markdown",
      "source": [
        "## 1.3 ALexNet"
      ]
    },
    {
      "metadata": {
        "id": "OOlhhDdlluUN",
        "colab_type": "code",
        "colab": {}
      },
      "cell_type": "code",
      "source": [
        "torchvision.models.alexnet(pretrained = True)"
      ],
      "execution_count": 0,
      "outputs": []
    },
    {
      "metadata": {
        "colab_type": "text",
        "id": "Cbp_n2GnN6EV"
      },
      "cell_type": "markdown",
      "source": [
        "## Save your model\n",
        "\n",
        "It might be useful to save your model if you want to continue your work later, or use it for inference later."
      ]
    },
    {
      "metadata": {
        "colab_type": "code",
        "id": "oCZPjfH_N6EY",
        "colab": {}
      },
      "cell_type": "code",
      "source": [
        "torch.save(model.state_dict(), 'model.pkl')"
      ],
      "execution_count": 0,
      "outputs": []
    },
    {
      "metadata": {
        "colab_type": "text",
        "id": "2aXYpGaLN6Ec"
      },
      "cell_type": "markdown",
      "source": [
        "The model file should now be visible in the \"Home\" screen of the jupyter notebooks interface.  There you should be able to select it and press \"download\".  [See more here on how to load the model back](https://github.com/pytorch/pytorch/blob/761d6799beb3afa03657a71776412a2171ee7533/docs/source/notes/serialization.rst) if you want to continue training later."
      ]
    },
    {
      "metadata": {
        "colab_type": "text",
        "id": "ncKwVsBvN6Ed"
      },
      "cell_type": "markdown",
      "source": [
        "## Download test set\n",
        "\n",
        "The testset will be made available during the last week before the deadline and can be downloaded in the same way as the training set."
      ]
    },
    {
      "metadata": {
        "colab_type": "text",
        "id": "f04wJ1xXN6Ee"
      },
      "cell_type": "markdown",
      "source": [
        "## Predict for test set\n",
        "\n",
        "You should return your predictions for the test set in a plain text file.  The text file contains one row for each test set image.  Each row contains a binary prediction for each label (separated by a single space), 1 if it's present in the image, and 0 if not. The order of the labels is as follows (alphabetic order of the label names):\n",
        "\n",
        "    baby bird car clouds dog female flower male night people portrait river sea tree\n",
        "\n",
        "An example row could like like this if your system predicts the presense of a bird and clouds:\n",
        "\n",
        "    0 1 0 1 0 0 0 0 0 0 0 0 0 0\n",
        "    \n",
        "The order of the rows should be according to the numeric order of the image numbers.  In the test set, this means that the first row refers to image `im20001.jpg`, the second to `im20002.jpg`, and so on."
      ]
    },
    {
      "metadata": {
        "colab_type": "text",
        "id": "lyQFBPVxN6Ef"
      },
      "cell_type": "markdown",
      "source": [
        "If you have the prediction output matrix prepared in `y` you can use the following function to save it to a text file."
      ]
    },
    {
      "metadata": {
        "colab_type": "code",
        "id": "qqJTyNzYN6Eg",
        "colab": {}
      },
      "cell_type": "code",
      "source": [
        "np.savetxt('results.txt', y, fmt='%d')"
      ],
      "execution_count": 0,
      "outputs": []
    }
  ]
}