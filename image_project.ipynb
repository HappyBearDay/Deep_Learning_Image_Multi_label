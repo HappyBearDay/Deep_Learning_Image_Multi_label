{
  "nbformat": 4,
  "nbformat_minor": 0,
  "metadata": {
    "colab": {
      "name": "image_project_loader_Simple Cnn V1.ipynb",
      "version": "0.3.2",
      "provenance": [],
      "collapsed_sections": [
        "ETU_n-NCN6BX",
        "Cbp_n2GnN6EV",
        "ncKwVsBvN6Ed",
        "f04wJ1xXN6Ee"
      ],
      "toc_visible": true
    },
    "kernelspec": {
      "display_name": "Python 3",
      "language": "python",
      "name": "python3"
    },
    "accelerator": "GPU"
  },
  "cells": [
    {
      "metadata": {
        "colab_type": "text",
        "id": "o5cz6o5sN6BV"
      },
      "cell_type": "markdown",
      "source": [
        "# DATA20001 Deep Learning - Group Project\n",
        "## Image project\n",
        "\n",
        "**Due Thursday, December 13, before 23:59.**\n",
        "\n",
        "The task is to learn to assign the correct labels to a set of images.  The images are originally from a photo-sharing site and released under Creative Commons-licenses allowing sharing.  The training set contains 20 000 images. We have resized them and cropped them to 128x128 to make the task a bit more manageable.\n",
        "\n",
        "We're only giving you the code for downloading the data. The rest you'll have to do yourselves.\n",
        "\n",
        "Some comments and hints particular to the image project:\n",
        "\n",
        "- One image may belong to many classes in this problem, i.e., it's a multi-label classification problem. In fact there are images that don't belong to any of our classes, and you should also be able to handle these correctly. Pay careful attention to how you design the outputs of the network (e.g., what activation to use) and what loss function should be used.\n",
        "\n",
        "- As the dataset is pretty imbalanced, don't focus too strictly on the outputs being probabilistic. (Meaning that the right threshold for selecting the label might not be 0.5.)\n",
        "\n",
        "- Image files can be loaded as numpy matrices for example using `imread` from `matplotlib.pyplot`. Most images are color, but a few grayscale. You need to handle the grayscale ones somehow as they would have a different number of color channels (depth) than the color ones.\n",
        "\n",
        "- In the exercises we used e.g., `torchvision.datasets.MNIST` to handle the loading of the data in suitable batches. Here, you need to handle the dataloading yourself.  The easiest way is probably to create a custom `Dataset`. [See for example here for a tutorial](https://github.com/utkuozbulak/pytorch-custom-dataset-examples)."
      ]
    },
    {
      "metadata": {
        "colab_type": "code",
        "id": "iMioZJz0OGWX",
        "outputId": "4e9a830a-a303-46e8-9108-e096860928e4",
        "colab": {
          "base_uri": "https://localhost:8080/",
          "height": 191
        }
      },
      "cell_type": "code",
      "source": [
        "! pip install torch torchvision torchsummary sklearn"
      ],
      "execution_count": 80,
      "outputs": [
        {
          "output_type": "stream",
          "text": [
            "Requirement already satisfied: torch in /usr/local/lib/python3.6/dist-packages (1.0.0)\n",
            "Requirement already satisfied: torchvision in /usr/local/lib/python3.6/dist-packages (0.2.1)\n",
            "Requirement already satisfied: torchsummary in /usr/local/lib/python3.6/dist-packages (1.5.1)\n",
            "Requirement already satisfied: sklearn in /usr/local/lib/python3.6/dist-packages (0.0)\n",
            "Requirement already satisfied: numpy in /usr/local/lib/python3.6/dist-packages (from torchvision) (1.14.6)\n",
            "Requirement already satisfied: six in /usr/local/lib/python3.6/dist-packages (from torchvision) (1.11.0)\n",
            "Requirement already satisfied: pillow>=4.1.1 in /usr/local/lib/python3.6/dist-packages (from torchvision) (4.1.1)\n",
            "Requirement already satisfied: scikit-learn in /usr/local/lib/python3.6/dist-packages (from sklearn) (0.20.2)\n",
            "Requirement already satisfied: olefile in /usr/local/lib/python3.6/dist-packages (from pillow>=4.1.1->torchvision) (0.46)\n",
            "Requirement already satisfied: scipy>=0.13.3 in /usr/local/lib/python3.6/dist-packages (from scikit-learn->sklearn) (1.1.0)\n"
          ],
          "name": "stdout"
        }
      ]
    },
    {
      "metadata": {
        "colab_type": "text",
        "id": "ETU_n-NCN6BX"
      },
      "cell_type": "markdown",
      "source": [
        "## Download the data"
      ]
    },
    {
      "metadata": {
        "colab_type": "code",
        "id": "8HPeRa7JN6BY",
        "colab": {}
      },
      "cell_type": "code",
      "source": [
        "import os\n",
        "import torch\n",
        "import torchvision\n",
        "from torchvision.datasets.utils import download_url\n",
        "import zipfile"
      ],
      "execution_count": 0,
      "outputs": []
    },
    {
      "metadata": {
        "colab_type": "code",
        "id": "lRKFdNkGN6Bd",
        "colab": {}
      },
      "cell_type": "code",
      "source": [
        "train_path = 'train'\n",
        "dl_file = 'dl2018-image-proj.zip'\n",
        "dl_url = 'https://users.aalto.fi/mvsjober/misc/'\n",
        "\n",
        "zip_path = os.path.join(train_path, dl_file)\n",
        "if not os.path.isfile(zip_path):\n",
        "    download_url(dl_url + dl_file, root=train_path, filename=dl_file, md5=None)\n",
        "\n",
        "with zipfile.ZipFile(zip_path) as zip_f:\n",
        "    zip_f.extractall(train_path)\n",
        "    #os.unlink(zip_path)"
      ],
      "execution_count": 0,
      "outputs": []
    },
    {
      "metadata": {
        "colab_type": "code",
        "id": "SYucMUzKN6Bh",
        "outputId": "02da4efa-3e44-4c51-ac9c-a4d28be21eed",
        "colab": {
          "base_uri": "https://localhost:8080/",
          "height": 34
        }
      },
      "cell_type": "code",
      "source": [
        "if torch.cuda.is_available():\n",
        "    print('Using GPU!')\n",
        "    device = torch.device('cuda')\n",
        "else:\n",
        "    print('Using CPU')\n",
        "    device = torch.device('cpu')"
      ],
      "execution_count": 83,
      "outputs": [
        {
          "output_type": "stream",
          "text": [
            "Using GPU!\n"
          ],
          "name": "stdout"
        }
      ]
    },
    {
      "metadata": {
        "colab_type": "text",
        "id": "e4OBeshoN6Bn"
      },
      "cell_type": "markdown",
      "source": [
        "The above command downloaded and extracted the data files into the `train` subdirectory.\n",
        "\n",
        "The images can be found in `train/images`, and are named as `im1.jpg`, `im2.jpg` and so on until `im20000.jpg`.\n",
        "\n",
        "The class labels, or annotations, can be found in `train/annotations` as `CLASSNAME.txt`, where CLASSNAME is one of the fourteen classes: *baby, bird, car, clouds, dog, female, flower, male, night, people, portrait, river, sea,* and *tree*.\n",
        "\n",
        "Each annotation file is a simple text file that lists the images that depict that class, one per line. The images are listed with their number, not the full filename. For example `5969` refers to the image `im5969.jpg`."
      ]
    },
    {
      "metadata": {
        "colab_type": "text",
        "id": "p7NS0wddN6Bp"
      },
      "cell_type": "markdown",
      "source": [
        "## Your stuff goes here ..."
      ]
    },
    {
      "metadata": {
        "colab_type": "code",
        "id": "CBSFUnlrN6Bq",
        "colab": {}
      },
      "cell_type": "code",
      "source": [
        "import os\n",
        "from os import listdir\n",
        "import matplotlib.pyplot as plt\n",
        "import pandas as pd\n",
        "import numpy as np\n",
        "import random as rd\n",
        "import torch\n",
        "import torch.nn as nn\n",
        "import torch.nn.functional as F\n",
        "from torchvision import datasets, transforms\n",
        "import matplotlib.pyplot as plt\n",
        "import numpy as np\n",
        "img_path = \"./train/images/\"\n",
        "labels_path = \"./train/annotations/\""
      ],
      "execution_count": 0,
      "outputs": []
    },
    {
      "metadata": {
        "colab_type": "code",
        "id": "wAnheWovPhsl",
        "outputId": "0c351eb4-24be-4670-8c90-538e4353f507",
        "colab": {
          "base_uri": "https://localhost:8080/",
          "height": 52
        }
      },
      "cell_type": "code",
      "source": [
        "!pip install pillow==4.1.1\n",
        "%reload_ext autoreload\n",
        "%autoreload"
      ],
      "execution_count": 85,
      "outputs": [
        {
          "output_type": "stream",
          "text": [
            "Requirement already satisfied: pillow==4.1.1 in /usr/local/lib/python3.6/dist-packages (4.1.1)\n",
            "Requirement already satisfied: olefile in /usr/local/lib/python3.6/dist-packages (from pillow==4.1.1) (0.46)\n"
          ],
          "name": "stdout"
        }
      ]
    },
    {
      "metadata": {
        "colab_type": "text",
        "id": "bOmN6xaIN6Bt"
      },
      "cell_type": "markdown",
      "source": [
        "### Data preprocessing"
      ]
    },
    {
      "metadata": {
        "colab_type": "code",
        "id": "xdCSaC65N6Bu",
        "colab": {}
      },
      "cell_type": "code",
      "source": [
        "images_path = \"train/images/\" \n",
        "image_files = [(images_path+f) for f in os.listdir(images_path) \\\n",
        "                if os.path.isfile(os.path.join(images_path, f))]\n",
        "grayscale_images = []\n",
        "for current_img_path in image_files:\n",
        "    current_img_vector =  plt.imread( current_img_path )\n",
        "    if len(current_img_vector.shape)==2: # If shape is (128, 128) (no color channels)\n",
        "        filename_without_extension = os.path.basename(current_img_path)[:-4] # :-4 to drop the extension\n",
        "        img_num = filename_without_extension[2:] # drop the heading \"im\"\n",
        "        grayscale_images+=[img_num]\n",
        "del image_files"
      ],
      "execution_count": 0,
      "outputs": []
    },
    {
      "metadata": {
        "colab_type": "code",
        "id": "IUx_enEdN6By",
        "colab": {}
      },
      "cell_type": "code",
      "source": [
        "data=grayscale_images\n",
        "labels = [[] for _ in range(len(data))] # Empty list of labels\n",
        "annotations_path = \"train/annotations/\"\n",
        "annotations_files = [(annotations_path+f) for f in os.listdir(annotations_path) \\\n",
        "        if os.path.isfile(os.path.join(annotations_path, f))]\n",
        "for file in annotations_files:\n",
        "    label = os.path.basename(file)[:-4] # :-4 to drop the extension\n",
        "    with open(file) as f: # file is the name of the label currently read\n",
        "        img_nums = f.read().split()\n",
        "    for img_num in img_nums:\n",
        "        if img_num not in data:\n",
        "            continue\n",
        "        labels[data.index(img_num)].append(label)"
      ],
      "execution_count": 0,
      "outputs": []
    },
    {
      "metadata": {
        "colab_type": "code",
        "id": "xlpZq0l6N6B3",
        "colab": {}
      },
      "cell_type": "code",
      "source": [
        "class OneHotTransformer:\n",
        "    def __init__(self):\n",
        "        annotations_files = [(annotations_path+f) for f in os.listdir(annotations_path) \\\n",
        "                    if os.path.isfile(os.path.join(annotations_path, f))]\n",
        "        self.vocabulary = []\n",
        "        for file in annotations_files:\n",
        "            label = os.path.basename(file)[:-4] # :-4 to drop the extension\n",
        "            self.vocabulary.append(label)\n",
        "    def toOneHot(self, labels):\n",
        "        res = [0]*len(self.vocabulary)\n",
        "        for i, voc in enumerate(self.vocabulary):\n",
        "            if voc in labels:\n",
        "                res[i] = 1\n",
        "        return np.array(res)\n",
        "    def toVocabulary(self, onehot):\n",
        "        res = []\n",
        "        for i, n in enumerate(onehot):\n",
        "            if n: res.append(self.vocabulary[i])\n",
        "        return res\n",
        "oneHotTransformer = OneHotTransformer()"
      ],
      "execution_count": 0,
      "outputs": []
    },
    {
      "metadata": {
        "colab_type": "code",
        "id": "69SbHK3SN6B6",
        "colab": {}
      },
      "cell_type": "code",
      "source": [
        "# Files to pytorch dataset\n",
        "# Inspired from https://github.com/pytorch/vision/blob/master/torchvision/datasets/mnist.py\n",
        "from torch.utils.data.dataset import Dataset\n",
        "from torchvision import datasets, transforms\n",
        "from PIL import Image\n",
        "\n",
        "class imageDataset(Dataset):\n",
        "    def __init__(self, data_basenames, height=128, width=128, transforms=transforms.ToTensor()):\n",
        "        \"\"\"\n",
        "        data_basenames is a list of id of image, such as [\"9885\", \"9886\"]\n",
        "        transforms is a list of transformation. it last element should be transforms.ToTensor()\n",
        "        \"\"\"\n",
        "        def parse_labels(data_paths):\n",
        "            \"\"\" Parse to one hot \"\"\"\n",
        "            labels = [[] for _ in range(len(data_paths))] # Empty list of labels\n",
        "            annotations_path = \"train/annotations/\"\n",
        "            annotations_files = [(annotations_path+f) for f in os.listdir(annotations_path) \\\n",
        "                    if os.path.isfile(os.path.join(annotations_path, f))]\n",
        "            vocabulary = []\n",
        "            for file in annotations_files:\n",
        "                label = os.path.basename(file)[:-4] # :-4 to drop the extension\n",
        "                vocabulary.append(label)\n",
        "                with open(file) as f: # file is the name of the label currently read\n",
        "                    img_nums = f.read().split()\n",
        "                for img_num in img_nums:\n",
        "                    if img_num not in data_paths:\n",
        "                        continue\n",
        "                    labels[data_paths.index(img_num)].append(label)\n",
        "            return labels\n",
        "        self.data = data_basenames\n",
        "        self.labels = parse_labels(data_basenames)\n",
        "        self.height = height\n",
        "        self.width = width\n",
        "        self.transforms = transforms\n",
        "        self.data_len = len(data_basenames)\n",
        "\n",
        "    def __getitem__(self, index):\n",
        "        img_path = \"train/images/im\" + self.data[index] + \".jpg\"\n",
        "        data = Image.open(img_path)\n",
        "        if self.transforms is not None:\n",
        "            img = self.transforms(data)\n",
        "        #labels = np.array(self.labels[index])\n",
        "        #print(self.labels[index])\n",
        "        labels = self.labels[index]\n",
        "        one_hot_labels = oneHotTransformer.toOneHot(labels)\n",
        "        return img, one_hot_labels\n",
        "\n",
        "    def __len__(self):\n",
        "        return self.data_len\n",
        "\n",
        "    \n",
        "import random\n",
        "random.shuffle(grayscale_images) # So we make sure test data has all kinds of label, in case\n",
        "                                 # the repartition is not even according to label names\n",
        "\n",
        "batch_size = 16\n",
        "\n",
        "# 80% train, 20% test\n",
        "index_cut =  int(len(grayscale_images)*0.8)\n",
        "train_dataset = imageDataset(grayscale_images[:index_cut])\n",
        "train_loader = torch.utils.data.DataLoader(dataset=train_dataset,\n",
        "                                          batch_size=batch_size,\n",
        "                                          shuffle=True)\n",
        "test_dataset = imageDataset(grayscale_images[index_cut:])\n",
        "test_loader = torch.utils.data.DataLoader(dataset=test_dataset,\n",
        "                                          batch_size=batch_size,\n",
        "                                          shuffle=True)"
      ],
      "execution_count": 0,
      "outputs": []
    },
    {
      "metadata": {
        "colab_type": "code",
        "id": "pNMm0PheN6B-",
        "colab": {}
      },
      "cell_type": "code",
      "source": [
        "data, target = next(train_loader.__iter__()) # Iteration works!"
      ],
      "execution_count": 0,
      "outputs": []
    },
    {
      "metadata": {
        "colab_type": "text",
        "id": "Cv5rJVZ2P-Hq"
      },
      "cell_type": "markdown",
      "source": [
        "### Models\n",
        "\n",
        "First, simple CNN architecture( exercise 3)"
      ]
    },
    {
      "metadata": {
        "colab_type": "code",
        "id": "0AJm-4rdP8TA",
        "outputId": "037773b8-01c4-482d-892e-25a69bfacfaf",
        "colab": {
          "base_uri": "https://localhost:8080/",
          "height": 694
        }
      },
      "cell_type": "code",
      "source": [
        "class sim_cnn_v1(nn.Module):\n",
        "    def __init__(self, nclass = 14):\n",
        "        super(sim_cnn_v1,self).__init__()\n",
        "        self.layer1 = nn.Sequential(\n",
        "            nn.Conv2d(1,16,kernel_size = 3,padding = 0,stride = 1),\n",
        "            nn.BatchNorm2d(16),\n",
        "            nn.ReLU(),\n",
        "            nn.MaxPool2d(kernel_size = 2, stride = 2)\n",
        "        )\n",
        "        self.layer2 = nn.Sequential(\n",
        "            nn.Conv2d(16,32,kernel_size = 3,padding = 0,stride = 1),\n",
        "            nn.BatchNorm2d(32),\n",
        "            nn.ReLU(),\n",
        "            nn.MaxPool2d(kernel_size = 2, stride = 2)\n",
        "        )\n",
        "        self.fc1 = nn.Linear(30*30*32, 30*32)\n",
        "        self.fc2 = nn.Linear(30*32, nclass)\n",
        "        \n",
        "    def forward(self,x):\n",
        "        out = self.layer1(x)\n",
        "        out = self.layer2(out)\n",
        "        out = out.view(out.size(0),-1)\n",
        "        out = F.relu(self.fc1(out))\n",
        "        output = self.fc2(out)\n",
        "        return output\n",
        "        \n",
        "model = sim_cnn_v1().to(device)\n",
        "optimizer = torch.optim.Adam(model.parameters(), lr = 0.01) #Adam\n",
        "criterion = nn.MultiLabelSoftMarginLoss() \n",
        "print(model)\n",
        "from torchsummary import summary\n",
        "summary(model, (1, 128, 128))"
      ],
      "execution_count": 90,
      "outputs": [
        {
          "output_type": "stream",
          "text": [
            "sim_cnn_v1(\n",
            "  (layer1): Sequential(\n",
            "    (0): Conv2d(1, 16, kernel_size=(3, 3), stride=(1, 1))\n",
            "    (1): BatchNorm2d(16, eps=1e-05, momentum=0.1, affine=True, track_running_stats=True)\n",
            "    (2): ReLU()\n",
            "    (3): MaxPool2d(kernel_size=2, stride=2, padding=0, dilation=1, ceil_mode=False)\n",
            "  )\n",
            "  (layer2): Sequential(\n",
            "    (0): Conv2d(16, 32, kernel_size=(3, 3), stride=(1, 1))\n",
            "    (1): BatchNorm2d(32, eps=1e-05, momentum=0.1, affine=True, track_running_stats=True)\n",
            "    (2): ReLU()\n",
            "    (3): MaxPool2d(kernel_size=2, stride=2, padding=0, dilation=1, ceil_mode=False)\n",
            "  )\n",
            "  (fc1): Linear(in_features=28800, out_features=960, bias=True)\n",
            "  (fc2): Linear(in_features=960, out_features=14, bias=True)\n",
            ")\n",
            "----------------------------------------------------------------\n",
            "        Layer (type)               Output Shape         Param #\n",
            "================================================================\n",
            "            Conv2d-1         [-1, 16, 126, 126]             160\n",
            "       BatchNorm2d-2         [-1, 16, 126, 126]              32\n",
            "              ReLU-3         [-1, 16, 126, 126]               0\n",
            "         MaxPool2d-4           [-1, 16, 63, 63]               0\n",
            "            Conv2d-5           [-1, 32, 61, 61]           4,640\n",
            "       BatchNorm2d-6           [-1, 32, 61, 61]              64\n",
            "              ReLU-7           [-1, 32, 61, 61]               0\n",
            "         MaxPool2d-8           [-1, 32, 30, 30]               0\n",
            "            Linear-9                  [-1, 960]      27,648,960\n",
            "           Linear-10                   [-1, 14]          13,454\n",
            "================================================================\n",
            "Total params: 27,667,310\n",
            "Trainable params: 27,667,310\n",
            "Non-trainable params: 0\n",
            "----------------------------------------------------------------\n",
            "Input size (MB): 0.06\n",
            "Forward/backward pass size (MB): 9.25\n",
            "Params size (MB): 105.54\n",
            "Estimated Total Size (MB): 114.86\n",
            "----------------------------------------------------------------\n"
          ],
          "name": "stdout"
        }
      ]
    },
    {
      "metadata": {
        "id": "3YkrsOUHGzWh",
        "colab_type": "code",
        "colab": {}
      },
      "cell_type": "code",
      "source": [
        "class one_layer_cnn(nn.Module):\n",
        "    def __init__(self, nclass = 14):\n",
        "        super().__init__()\n",
        "        self.layer1 = nn.Sequential(\n",
        "            nn.Conv2d(1,16,kernel_size = 3,padding = 0,stride = 1),\n",
        "            nn.BatchNorm2d(16),\n",
        "            nn.ReLU(),\n",
        "            nn.MaxPool2d(kernel_size = 2, stride = 2)\n",
        "        )\n",
        "        self.fc1 = nn.Linear(16*63*63, nclass)\n",
        "        \n",
        "    def forward(self,x):\n",
        "        out = self.layer1(x)\n",
        "        out = out.view(out.size(0),-1)\n",
        "        output = self.fc1(out)\n",
        "        return torch.sigmoid(output)"
      ],
      "execution_count": 0,
      "outputs": []
    },
    {
      "metadata": {
        "id": "9P5jmw1GDwK8",
        "colab_type": "code",
        "colab": {}
      },
      "cell_type": "code",
      "source": [
        "class deep_cnn(nn.Module):\n",
        "    def __init__(self):\n",
        "        super().__init__()\n",
        "        self.conv1 = nn.Sequential(\n",
        "            nn.Conv2d(1, 16, kernel_size=5),\n",
        "            nn.BatchNorm2d(16),\n",
        "            nn.ReLU(),\n",
        "            nn.MaxPool2d(5, stride=3)\n",
        "        )\n",
        "        self.conv2 = nn.Sequential(\n",
        "            nn.Conv2d(16, 32, kernel_size=5),\n",
        "            nn.BatchNorm2d(32),\n",
        "            nn.ReLU(),\n",
        "            nn.MaxPool2d(5, stride=3)\n",
        "        )\n",
        "        self.conv3 = nn.Sequential(\n",
        "            nn.Conv2d(32, 64, kernel_size=5),\n",
        "            nn.BatchNorm2d(64),\n",
        "            nn.ReLU(),\n",
        "            nn.MaxPool2d(5, stride=3)\n",
        "        )\n",
        "        self.conv4 = nn.Sequential(\n",
        "            nn.Conv2d(64, 128, kernel_size=5),\n",
        "            nn.BatchNorm2d(128),\n",
        "            nn.ReLU(),\n",
        "            nn.MaxPool2d(10, stride=3)\n",
        "        )\n",
        "        #self.fc1 = nn.Linear(4096, 20)\n",
        "        self.lastlayer = nn.Sequential(\n",
        "   #         nn.Dropout(p=0.5),\n",
        "            nn.Linear(4096//64, 14)\n",
        "        )\n",
        "        \n",
        "    def forward(self, x):\n",
        "        out = self.conv1(x)\n",
        "        out = self.conv2(out)\n",
        "        out = self.conv3(out)\n",
        "        #out = self.conv4(out)\n",
        "        out = out.view(out.size(0),-1)\n",
        "        out = self.lastlayer(out)\n",
        "        return out\n",
        "model = deep_cnn()"
      ],
      "execution_count": 0,
      "outputs": []
    },
    {
      "metadata": {
        "id": "IBoRHb7Bw7Sw",
        "colab_type": "code",
        "colab": {}
      },
      "cell_type": "code",
      "source": [
        "# TODO\n",
        "class lstm(nn.Module):\n",
        "    pass"
      ],
      "execution_count": 0,
      "outputs": []
    },
    {
      "metadata": {
        "colab_type": "text",
        "id": "NSwCiJHTTDYQ"
      },
      "cell_type": "markdown",
      "source": [
        "### Training"
      ]
    },
    {
      "metadata": {
        "colab_type": "code",
        "id": "1ofzw5ggojdp",
        "colab": {}
      },
      "cell_type": "code",
      "source": [
        "def train_net(model, epoch, trainLoss, interval = 10):\n",
        "    # set model to train\n",
        "    model.train()\n",
        "    loss = 0\n",
        "    #acc = 0\n",
        "    \n",
        "    for batch_idx, (data, target) in enumerate(train_loader):\n",
        "        \n",
        "        data = data.to(device) # to GPU\n",
        "        target = target.float().to(device) # to GPU, \".float()\" is improtant, otherwise got error.\n",
        "        \n",
        "        # set zero gradient buffer\n",
        "        optimizer.zero_grad()\n",
        "        \n",
        "        # compute the output and Loss\n",
        "        output = model(data)\n",
        "        Loss = criterion(output, target)\n",
        "        \n",
        "        # back prop\n",
        "        Loss.backward()\n",
        "        \n",
        "        # update weights\n",
        "        optimizer.step()\n",
        "        \n",
        "        # print information\n",
        "        if batch_idx % interval == 0:\n",
        "            print(\"Train Epoch: {} [{}/{} {:.0f}%]\\tLoss: {:.6f}\".format(epoch, len(data)*batch_idx, len(train_loader)*len(data), batch_idx/len(train_loader)*100, Loss.data.item()))   \n",
        "       \n",
        "        loss += Loss\n",
        "    loss/=len(train_loader)\n",
        "    trainLoss.append(loss)\n",
        "\n",
        "def validate(model, lossv, verbose=True):\n",
        "  loss, acc, prec, rec = 0,0,0,0\n",
        "  for i, sample in enumerate(test_loader):\n",
        "    inputv, targetv = sample\n",
        "    inputv = inputv.to(device)\n",
        "    output = model(inputv)\n",
        "   \n",
        "    loss += criterion(output, targetv.data.to(device).float()).data.item()\n",
        "  \n",
        "  loss /= len(test_loader)\n",
        "  \n",
        "  lossv.append(loss)\n",
        "  \n",
        "  if verbose:\n",
        "    print('Validation set: Average loss: {:.4f}\\n'.format(\n",
        "            loss))"
      ],
      "execution_count": 0,
      "outputs": []
    },
    {
      "metadata": {
        "colab_type": "code",
        "id": "KOwb6HuOIwA9",
        "outputId": "c88f1ad7-3534-41fe-e05f-c7aae16af73e",
        "colab": {
          "base_uri": "https://localhost:8080/",
          "height": 5262
        }
      },
      "cell_type": "code",
      "source": [
        "%%time\n",
        "#model = one_layer_cnn().to(device)\n",
        "#model = sim_cnn_v1().to(device)\n",
        "model = deep_cnn().to(device)\n",
        "#model = lstm()\n",
        "epoch = 30\n",
        "\n",
        "#learning_rate = 0.000001 # for sim_cnn_v1\n",
        "learning_rate = 0.0001 # for deep_cnn\n",
        "optimizer = torch.optim.Adam(model.parameters(), lr = learning_rate) #Adam\n",
        "criterion = nn.MultiLabelSoftMarginLoss()\n",
        "#criterion = nn.BCELoss()\n",
        "train_loss, val_loss = [], []\n",
        "for i in range(1,1+epoch):\n",
        "    train_net(model, i, train_loss)\n",
        "    validate(model, val_loss)"
      ],
      "execution_count": 94,
      "outputs": [
        {
          "output_type": "stream",
          "text": [
            "Train Epoch: 1 [0/1152 0%]\tLoss: 0.729630\n",
            "Train Epoch: 1 [160/1152 14%]\tLoss: 0.676095\n",
            "Train Epoch: 1 [320/1152 28%]\tLoss: 0.625057\n",
            "Train Epoch: 1 [480/1152 42%]\tLoss: 0.612561\n",
            "Train Epoch: 1 [640/1152 56%]\tLoss: 0.578419\n",
            "Train Epoch: 1 [800/1152 69%]\tLoss: 0.555859\n",
            "Train Epoch: 1 [960/1152 83%]\tLoss: 0.569419\n",
            "Train Epoch: 1 [1120/1152 97%]\tLoss: 0.528595\n",
            "Validation set: Average loss: 0.5336\n",
            "\n",
            "Train Epoch: 2 [0/1152 0%]\tLoss: 0.527728\n",
            "Train Epoch: 2 [160/1152 14%]\tLoss: 0.522444\n",
            "Train Epoch: 2 [320/1152 28%]\tLoss: 0.504345\n",
            "Train Epoch: 2 [480/1152 42%]\tLoss: 0.482920\n",
            "Train Epoch: 2 [640/1152 56%]\tLoss: 0.470884\n",
            "Train Epoch: 2 [800/1152 69%]\tLoss: 0.463234\n",
            "Train Epoch: 2 [960/1152 83%]\tLoss: 0.481125\n",
            "Train Epoch: 2 [1120/1152 97%]\tLoss: 0.463761\n",
            "Validation set: Average loss: 0.4553\n",
            "\n",
            "Train Epoch: 3 [0/1152 0%]\tLoss: 0.455595\n",
            "Train Epoch: 3 [160/1152 14%]\tLoss: 0.454709\n",
            "Train Epoch: 3 [320/1152 28%]\tLoss: 0.439992\n",
            "Train Epoch: 3 [480/1152 42%]\tLoss: 0.412756\n",
            "Train Epoch: 3 [640/1152 56%]\tLoss: 0.415766\n",
            "Train Epoch: 3 [800/1152 69%]\tLoss: 0.382553\n",
            "Train Epoch: 3 [960/1152 83%]\tLoss: 0.381914\n",
            "Train Epoch: 3 [1120/1152 97%]\tLoss: 0.394598\n",
            "Validation set: Average loss: 0.3933\n",
            "\n",
            "Train Epoch: 4 [0/1152 0%]\tLoss: 0.365635\n",
            "Train Epoch: 4 [160/1152 14%]\tLoss: 0.379468\n",
            "Train Epoch: 4 [320/1152 28%]\tLoss: 0.366128\n",
            "Train Epoch: 4 [480/1152 42%]\tLoss: 0.360600\n",
            "Train Epoch: 4 [640/1152 56%]\tLoss: 0.384800\n",
            "Train Epoch: 4 [800/1152 69%]\tLoss: 0.355206\n",
            "Train Epoch: 4 [960/1152 83%]\tLoss: 0.373584\n",
            "Train Epoch: 4 [1120/1152 97%]\tLoss: 0.344576\n",
            "Validation set: Average loss: 0.3509\n",
            "\n",
            "Train Epoch: 5 [0/1152 0%]\tLoss: 0.366757\n",
            "Train Epoch: 5 [160/1152 14%]\tLoss: 0.340694\n",
            "Train Epoch: 5 [320/1152 28%]\tLoss: 0.311529\n",
            "Train Epoch: 5 [480/1152 42%]\tLoss: 0.343308\n",
            "Train Epoch: 5 [640/1152 56%]\tLoss: 0.318602\n",
            "Train Epoch: 5 [800/1152 69%]\tLoss: 0.298569\n",
            "Train Epoch: 5 [960/1152 83%]\tLoss: 0.314321\n",
            "Train Epoch: 5 [1120/1152 97%]\tLoss: 0.288724\n",
            "Validation set: Average loss: 0.3194\n",
            "\n",
            "Train Epoch: 6 [0/1152 0%]\tLoss: 0.316250\n",
            "Train Epoch: 6 [160/1152 14%]\tLoss: 0.286629\n",
            "Train Epoch: 6 [320/1152 28%]\tLoss: 0.280131\n",
            "Train Epoch: 6 [480/1152 42%]\tLoss: 0.305159\n",
            "Train Epoch: 6 [640/1152 56%]\tLoss: 0.312098\n",
            "Train Epoch: 6 [800/1152 69%]\tLoss: 0.292834\n",
            "Train Epoch: 6 [960/1152 83%]\tLoss: 0.291186\n",
            "Train Epoch: 6 [1120/1152 97%]\tLoss: 0.295439\n",
            "Validation set: Average loss: 0.2982\n",
            "\n",
            "Train Epoch: 7 [0/1152 0%]\tLoss: 0.271586\n",
            "Train Epoch: 7 [160/1152 14%]\tLoss: 0.249550\n",
            "Train Epoch: 7 [320/1152 28%]\tLoss: 0.249080\n",
            "Train Epoch: 7 [480/1152 42%]\tLoss: 0.257300\n",
            "Train Epoch: 7 [640/1152 56%]\tLoss: 0.268444\n",
            "Train Epoch: 7 [800/1152 69%]\tLoss: 0.281199\n",
            "Train Epoch: 7 [960/1152 83%]\tLoss: 0.272079\n",
            "Train Epoch: 7 [1120/1152 97%]\tLoss: 0.279359\n",
            "Validation set: Average loss: 0.2810\n",
            "\n",
            "Train Epoch: 8 [0/1152 0%]\tLoss: 0.287939\n",
            "Train Epoch: 8 [160/1152 14%]\tLoss: 0.273588\n",
            "Train Epoch: 8 [320/1152 28%]\tLoss: 0.264318\n",
            "Train Epoch: 8 [480/1152 42%]\tLoss: 0.264502\n",
            "Train Epoch: 8 [640/1152 56%]\tLoss: 0.237490\n",
            "Train Epoch: 8 [800/1152 69%]\tLoss: 0.257281\n",
            "Train Epoch: 8 [960/1152 83%]\tLoss: 0.229379\n",
            "Train Epoch: 8 [1120/1152 97%]\tLoss: 0.228414\n",
            "Validation set: Average loss: 0.2665\n",
            "\n",
            "Train Epoch: 9 [0/1152 0%]\tLoss: 0.231306\n",
            "Train Epoch: 9 [160/1152 14%]\tLoss: 0.236836\n",
            "Train Epoch: 9 [320/1152 28%]\tLoss: 0.260299\n",
            "Train Epoch: 9 [480/1152 42%]\tLoss: 0.218882\n",
            "Train Epoch: 9 [640/1152 56%]\tLoss: 0.230759\n",
            "Train Epoch: 9 [800/1152 69%]\tLoss: 0.267392\n",
            "Train Epoch: 9 [960/1152 83%]\tLoss: 0.277669\n",
            "Train Epoch: 9 [1120/1152 97%]\tLoss: 0.268954\n",
            "Validation set: Average loss: 0.2570\n",
            "\n",
            "Train Epoch: 10 [0/1152 0%]\tLoss: 0.240390\n",
            "Train Epoch: 10 [160/1152 14%]\tLoss: 0.202610\n",
            "Train Epoch: 10 [320/1152 28%]\tLoss: 0.211666\n",
            "Train Epoch: 10 [480/1152 42%]\tLoss: 0.220134\n",
            "Train Epoch: 10 [640/1152 56%]\tLoss: 0.249190\n",
            "Train Epoch: 10 [800/1152 69%]\tLoss: 0.232358\n",
            "Train Epoch: 10 [960/1152 83%]\tLoss: 0.213026\n",
            "Train Epoch: 10 [1120/1152 97%]\tLoss: 0.197994\n",
            "Validation set: Average loss: 0.2487\n",
            "\n",
            "Train Epoch: 11 [0/1152 0%]\tLoss: 0.237940\n",
            "Train Epoch: 11 [160/1152 14%]\tLoss: 0.218643\n",
            "Train Epoch: 11 [320/1152 28%]\tLoss: 0.211206\n",
            "Train Epoch: 11 [480/1152 42%]\tLoss: 0.241454\n",
            "Train Epoch: 11 [640/1152 56%]\tLoss: 0.235819\n",
            "Train Epoch: 11 [800/1152 69%]\tLoss: 0.230321\n",
            "Train Epoch: 11 [960/1152 83%]\tLoss: 0.251565\n",
            "Train Epoch: 11 [1120/1152 97%]\tLoss: 0.273047\n",
            "Validation set: Average loss: 0.2422\n",
            "\n",
            "Train Epoch: 12 [0/1152 0%]\tLoss: 0.242267\n",
            "Train Epoch: 12 [160/1152 14%]\tLoss: 0.211604\n",
            "Train Epoch: 12 [320/1152 28%]\tLoss: 0.221644\n",
            "Train Epoch: 12 [480/1152 42%]\tLoss: 0.185790\n",
            "Train Epoch: 12 [640/1152 56%]\tLoss: 0.213043\n",
            "Train Epoch: 12 [800/1152 69%]\tLoss: 0.236018\n",
            "Train Epoch: 12 [960/1152 83%]\tLoss: 0.193253\n",
            "Train Epoch: 12 [1120/1152 97%]\tLoss: 0.221405\n",
            "Validation set: Average loss: 0.2405\n",
            "\n",
            "Train Epoch: 13 [0/1152 0%]\tLoss: 0.210507\n",
            "Train Epoch: 13 [160/1152 14%]\tLoss: 0.212562\n",
            "Train Epoch: 13 [320/1152 28%]\tLoss: 0.252688\n",
            "Train Epoch: 13 [480/1152 42%]\tLoss: 0.213329\n",
            "Train Epoch: 13 [640/1152 56%]\tLoss: 0.211839\n",
            "Train Epoch: 13 [800/1152 69%]\tLoss: 0.227551\n",
            "Train Epoch: 13 [960/1152 83%]\tLoss: 0.194115\n",
            "Train Epoch: 13 [1120/1152 97%]\tLoss: 0.233426\n",
            "Validation set: Average loss: 0.2331\n",
            "\n",
            "Train Epoch: 14 [0/1152 0%]\tLoss: 0.211586\n",
            "Train Epoch: 14 [160/1152 14%]\tLoss: 0.222321\n",
            "Train Epoch: 14 [320/1152 28%]\tLoss: 0.226942\n",
            "Train Epoch: 14 [480/1152 42%]\tLoss: 0.228143\n",
            "Train Epoch: 14 [640/1152 56%]\tLoss: 0.194432\n",
            "Train Epoch: 14 [800/1152 69%]\tLoss: 0.234364\n",
            "Train Epoch: 14 [960/1152 83%]\tLoss: 0.223453\n",
            "Train Epoch: 14 [1120/1152 97%]\tLoss: 0.207344\n",
            "Validation set: Average loss: 0.2301\n",
            "\n",
            "Train Epoch: 15 [0/1152 0%]\tLoss: 0.231018\n",
            "Train Epoch: 15 [160/1152 14%]\tLoss: 0.204376\n",
            "Train Epoch: 15 [320/1152 28%]\tLoss: 0.189770\n",
            "Train Epoch: 15 [480/1152 42%]\tLoss: 0.188446\n",
            "Train Epoch: 15 [640/1152 56%]\tLoss: 0.210218\n",
            "Train Epoch: 15 [800/1152 69%]\tLoss: 0.242848\n",
            "Train Epoch: 15 [960/1152 83%]\tLoss: 0.201313\n",
            "Train Epoch: 15 [1120/1152 97%]\tLoss: 0.204762\n",
            "Validation set: Average loss: 0.2265\n",
            "\n",
            "Train Epoch: 16 [0/1152 0%]\tLoss: 0.239818\n",
            "Train Epoch: 16 [160/1152 14%]\tLoss: 0.200240\n",
            "Train Epoch: 16 [320/1152 28%]\tLoss: 0.178471\n",
            "Train Epoch: 16 [480/1152 42%]\tLoss: 0.185681\n",
            "Train Epoch: 16 [640/1152 56%]\tLoss: 0.169647\n",
            "Train Epoch: 16 [800/1152 69%]\tLoss: 0.245001\n",
            "Train Epoch: 16 [960/1152 83%]\tLoss: 0.174725\n",
            "Train Epoch: 16 [1120/1152 97%]\tLoss: 0.176825\n",
            "Validation set: Average loss: 0.2267\n",
            "\n",
            "Train Epoch: 17 [0/1152 0%]\tLoss: 0.191510\n",
            "Train Epoch: 17 [160/1152 14%]\tLoss: 0.235176\n",
            "Train Epoch: 17 [320/1152 28%]\tLoss: 0.174097\n",
            "Train Epoch: 17 [480/1152 42%]\tLoss: 0.230119\n",
            "Train Epoch: 17 [640/1152 56%]\tLoss: 0.188764\n",
            "Train Epoch: 17 [800/1152 69%]\tLoss: 0.193161\n",
            "Train Epoch: 17 [960/1152 83%]\tLoss: 0.230893\n",
            "Train Epoch: 17 [1120/1152 97%]\tLoss: 0.188211\n",
            "Validation set: Average loss: 0.2231\n",
            "\n",
            "Train Epoch: 18 [0/1152 0%]\tLoss: 0.169265\n",
            "Train Epoch: 18 [160/1152 14%]\tLoss: 0.144566\n",
            "Train Epoch: 18 [320/1152 28%]\tLoss: 0.190447\n",
            "Train Epoch: 18 [480/1152 42%]\tLoss: 0.193155\n",
            "Train Epoch: 18 [640/1152 56%]\tLoss: 0.150301\n",
            "Train Epoch: 18 [800/1152 69%]\tLoss: 0.210409\n",
            "Train Epoch: 18 [960/1152 83%]\tLoss: 0.180705\n",
            "Train Epoch: 18 [1120/1152 97%]\tLoss: 0.235649\n",
            "Validation set: Average loss: 0.2191\n",
            "\n",
            "Train Epoch: 19 [0/1152 0%]\tLoss: 0.184770\n",
            "Train Epoch: 19 [160/1152 14%]\tLoss: 0.197500\n",
            "Train Epoch: 19 [320/1152 28%]\tLoss: 0.189915\n",
            "Train Epoch: 19 [480/1152 42%]\tLoss: 0.203100\n",
            "Train Epoch: 19 [640/1152 56%]\tLoss: 0.174890\n",
            "Train Epoch: 19 [800/1152 69%]\tLoss: 0.165128\n",
            "Train Epoch: 19 [960/1152 83%]\tLoss: 0.198307\n",
            "Train Epoch: 19 [1120/1152 97%]\tLoss: 0.202307\n",
            "Validation set: Average loss: 0.2204\n",
            "\n",
            "Train Epoch: 20 [0/1152 0%]\tLoss: 0.161004\n",
            "Train Epoch: 20 [160/1152 14%]\tLoss: 0.219608\n",
            "Train Epoch: 20 [320/1152 28%]\tLoss: 0.167493\n",
            "Train Epoch: 20 [480/1152 42%]\tLoss: 0.187285\n",
            "Train Epoch: 20 [640/1152 56%]\tLoss: 0.185514\n",
            "Train Epoch: 20 [800/1152 69%]\tLoss: 0.182670\n",
            "Train Epoch: 20 [960/1152 83%]\tLoss: 0.181919\n",
            "Train Epoch: 20 [1120/1152 97%]\tLoss: 0.181276\n",
            "Validation set: Average loss: 0.2168\n",
            "\n",
            "Train Epoch: 21 [0/1152 0%]\tLoss: 0.196481\n",
            "Train Epoch: 21 [160/1152 14%]\tLoss: 0.198289\n",
            "Train Epoch: 21 [320/1152 28%]\tLoss: 0.182433\n",
            "Train Epoch: 21 [480/1152 42%]\tLoss: 0.179513\n",
            "Train Epoch: 21 [640/1152 56%]\tLoss: 0.188226\n",
            "Train Epoch: 21 [800/1152 69%]\tLoss: 0.196366\n",
            "Train Epoch: 21 [960/1152 83%]\tLoss: 0.155917\n",
            "Train Epoch: 21 [1120/1152 97%]\tLoss: 0.179664\n",
            "Validation set: Average loss: 0.2163\n",
            "\n",
            "Train Epoch: 22 [0/1152 0%]\tLoss: 0.176988\n",
            "Train Epoch: 22 [160/1152 14%]\tLoss: 0.176420\n",
            "Train Epoch: 22 [320/1152 28%]\tLoss: 0.161858\n",
            "Train Epoch: 22 [480/1152 42%]\tLoss: 0.172504\n",
            "Train Epoch: 22 [640/1152 56%]\tLoss: 0.133816\n",
            "Train Epoch: 22 [800/1152 69%]\tLoss: 0.176597\n",
            "Train Epoch: 22 [960/1152 83%]\tLoss: 0.175924\n",
            "Train Epoch: 22 [1120/1152 97%]\tLoss: 0.171450\n",
            "Validation set: Average loss: 0.2155\n",
            "\n",
            "Train Epoch: 23 [0/1152 0%]\tLoss: 0.220300\n",
            "Train Epoch: 23 [160/1152 14%]\tLoss: 0.191644\n",
            "Train Epoch: 23 [320/1152 28%]\tLoss: 0.191824\n",
            "Train Epoch: 23 [480/1152 42%]\tLoss: 0.158995\n",
            "Train Epoch: 23 [640/1152 56%]\tLoss: 0.187197\n",
            "Train Epoch: 23 [800/1152 69%]\tLoss: 0.167581\n",
            "Train Epoch: 23 [960/1152 83%]\tLoss: 0.164137\n",
            "Train Epoch: 23 [1120/1152 97%]\tLoss: 0.202725\n",
            "Validation set: Average loss: 0.2119\n",
            "\n",
            "Train Epoch: 24 [0/1152 0%]\tLoss: 0.181803\n",
            "Train Epoch: 24 [160/1152 14%]\tLoss: 0.163644\n",
            "Train Epoch: 24 [320/1152 28%]\tLoss: 0.191307\n",
            "Train Epoch: 24 [480/1152 42%]\tLoss: 0.167941\n",
            "Train Epoch: 24 [640/1152 56%]\tLoss: 0.181275\n",
            "Train Epoch: 24 [800/1152 69%]\tLoss: 0.191841\n",
            "Train Epoch: 24 [960/1152 83%]\tLoss: 0.200903\n",
            "Train Epoch: 24 [1120/1152 97%]\tLoss: 0.161687\n",
            "Validation set: Average loss: 0.2117\n",
            "\n",
            "Train Epoch: 25 [0/1152 0%]\tLoss: 0.212972\n",
            "Train Epoch: 25 [160/1152 14%]\tLoss: 0.164376\n",
            "Train Epoch: 25 [320/1152 28%]\tLoss: 0.163978\n",
            "Train Epoch: 25 [480/1152 42%]\tLoss: 0.148463\n",
            "Train Epoch: 25 [640/1152 56%]\tLoss: 0.166519\n",
            "Train Epoch: 25 [800/1152 69%]\tLoss: 0.191585\n",
            "Train Epoch: 25 [960/1152 83%]\tLoss: 0.164868\n",
            "Train Epoch: 25 [1120/1152 97%]\tLoss: 0.184666\n",
            "Validation set: Average loss: 0.2139\n",
            "\n",
            "Train Epoch: 26 [0/1152 0%]\tLoss: 0.169312\n",
            "Train Epoch: 26 [160/1152 14%]\tLoss: 0.229251\n",
            "Train Epoch: 26 [320/1152 28%]\tLoss: 0.186101\n",
            "Train Epoch: 26 [480/1152 42%]\tLoss: 0.180995\n",
            "Train Epoch: 26 [640/1152 56%]\tLoss: 0.147124\n",
            "Train Epoch: 26 [800/1152 69%]\tLoss: 0.176694\n",
            "Train Epoch: 26 [960/1152 83%]\tLoss: 0.158641\n",
            "Train Epoch: 26 [1120/1152 97%]\tLoss: 0.166916\n",
            "Validation set: Average loss: 0.2140\n",
            "\n",
            "Train Epoch: 27 [0/1152 0%]\tLoss: 0.218843\n",
            "Train Epoch: 27 [160/1152 14%]\tLoss: 0.131024\n",
            "Train Epoch: 27 [320/1152 28%]\tLoss: 0.161924\n",
            "Train Epoch: 27 [480/1152 42%]\tLoss: 0.167677\n",
            "Train Epoch: 27 [640/1152 56%]\tLoss: 0.170761\n",
            "Train Epoch: 27 [800/1152 69%]\tLoss: 0.164026\n",
            "Train Epoch: 27 [960/1152 83%]\tLoss: 0.174683\n",
            "Train Epoch: 27 [1120/1152 97%]\tLoss: 0.171599\n",
            "Validation set: Average loss: 0.2114\n",
            "\n",
            "Train Epoch: 28 [0/1152 0%]\tLoss: 0.214410\n",
            "Train Epoch: 28 [160/1152 14%]\tLoss: 0.174715\n",
            "Train Epoch: 28 [320/1152 28%]\tLoss: 0.142418\n",
            "Train Epoch: 28 [480/1152 42%]\tLoss: 0.164019\n",
            "Train Epoch: 28 [640/1152 56%]\tLoss: 0.207175\n",
            "Train Epoch: 28 [800/1152 69%]\tLoss: 0.133813\n",
            "Train Epoch: 28 [960/1152 83%]\tLoss: 0.148928\n",
            "Train Epoch: 28 [1120/1152 97%]\tLoss: 0.148376\n",
            "Validation set: Average loss: 0.2127\n",
            "\n",
            "Train Epoch: 29 [0/1152 0%]\tLoss: 0.158643\n",
            "Train Epoch: 29 [160/1152 14%]\tLoss: 0.173799\n",
            "Train Epoch: 29 [320/1152 28%]\tLoss: 0.195706\n",
            "Train Epoch: 29 [480/1152 42%]\tLoss: 0.140195\n",
            "Train Epoch: 29 [640/1152 56%]\tLoss: 0.176569\n",
            "Train Epoch: 29 [800/1152 69%]\tLoss: 0.164633\n",
            "Train Epoch: 29 [960/1152 83%]\tLoss: 0.190756\n",
            "Train Epoch: 29 [1120/1152 97%]\tLoss: 0.130628\n",
            "Validation set: Average loss: 0.2122\n",
            "\n",
            "Train Epoch: 30 [0/1152 0%]\tLoss: 0.150195\n",
            "Train Epoch: 30 [160/1152 14%]\tLoss: 0.166781\n",
            "Train Epoch: 30 [320/1152 28%]\tLoss: 0.145421\n",
            "Train Epoch: 30 [480/1152 42%]\tLoss: 0.169711\n",
            "Train Epoch: 30 [640/1152 56%]\tLoss: 0.166075\n",
            "Train Epoch: 30 [800/1152 69%]\tLoss: 0.131648\n",
            "Train Epoch: 30 [960/1152 83%]\tLoss: 0.153409\n",
            "Train Epoch: 30 [1120/1152 97%]\tLoss: 0.126288\n",
            "Validation set: Average loss: 0.2114\n",
            "\n",
            "CPU times: user 47.5 s, sys: 8.05 s, total: 55.5 s\n",
            "Wall time: 55.7 s\n"
          ],
          "name": "stdout"
        }
      ]
    },
    {
      "metadata": {
        "id": "0FQYCThgq6RJ",
        "colab_type": "code",
        "outputId": "3457d367-2d4d-4596-8bfc-c5f7c7a0794c",
        "colab": {
          "base_uri": "https://localhost:8080/",
          "height": 376
        }
      },
      "cell_type": "code",
      "source": [
        "# The schema allows to see if the model was properly fitted\n",
        "# that allows us to learn if the initial learning rate was appropriate\n",
        "plt.title(\"Model loss\")\n",
        "plt.plot(train_loss, label=\"train\")\n",
        "plt.plot(val_loss, label=\"validation\")\n",
        "plt.ylabel(\"loss\")\n",
        "plt.xlabel(\"epoch\")\n",
        "plt.legend()\n",
        "plt.show()"
      ],
      "execution_count": 95,
      "outputs": [
        {
          "output_type": "display_data",
          "data": {
            "image/png": "[encoded data removed]",
            "text/plain": [
              "<matplotlib.figure.Figure at 0x7fb6a52a94a8>"
            ]
          },
          "metadata": {
            "tags": []
          }
        }
      ]
    },
    {
      "metadata": {
        "id": "DVf1FbF-xVmr",
        "colab_type": "text"
      },
      "cell_type": "markdown",
      "source": [
        "### Treshold optimization\n",
        "DISCLAIMER : Does not work as intended.\n",
        "\n",
        "In that part we strive to optimize the treshold of activation of each label, in order to maximize F1 score"
      ]
    },
    {
      "metadata": {
        "id": "4o36IqHs80PG",
        "colab_type": "code",
        "colab": {
          "base_uri": "https://localhost:8080/",
          "height": 237
        },
        "outputId": "f593ff52-0700-4cd4-8138-4af5b372e10f"
      },
      "cell_type": "code",
      "source": [
        "# cell deprecated\n",
        "def compute_f1_for_treshold(treshold):\n",
        "  \"\"\"\n",
        "  Compute the f1 value for each label for a given treshold. It is an auxiliary\n",
        "  function for optimizing the treshold for f1 value maximization.\n",
        "  \"\"\"\n",
        "  prec = [0 for _ in range(14)]\n",
        "  rec = [0 for _ in range(14)]\n",
        "  f1 = [0 for _ in range(14)]\n",
        "  for (inputv, targetv) in test_loader:\n",
        "    \n",
        "    inputv = inputv.to(device)\n",
        "    bounded_output = torch.sigmoid(model(inputv))\n",
        "    for ilabel in range(0, 14):\n",
        "      labels_output = bounded_output[:, ilabel] # Non activated value\n",
        "      pred_label = labels_output.data.gt(treshold) # Activation\n",
        "\n",
        "      truth_label = targetv[:, ilabel]\n",
        "      #print(ilabel, VOC[ilabel], \"   \\t\", pred_label)\n",
        "      #print(\"    expected\\t\", truth_label)\n",
        "      # Confusion matrix\n",
        "      tp = (pred_label + truth_label.data.to(device).byte()).eq(2).sum()\n",
        "      fp = (pred_label - truth_label.data.to(device).byte()).eq(1).sum()\n",
        "      fn = (pred_label - truth_label.data.to(device).byte()).eq(-1).sum()\n",
        "      tn = (pred_label + truth_label.data.to(device).byte()).eq(0).sum()\n",
        "\n",
        "      if tp+fp!=0:\n",
        "        prec[ilabel] += tp.float() / (tp + fp)\n",
        "      else:\n",
        "        prec[ilabel] += 0.0\n",
        "      if tp+fn != 0:\n",
        "        rec[ilabel] += tp.float() / (tp + fn)\n",
        "      else:\n",
        "        rec[ilabel] += 0.0\n",
        "  for ilabel in range(0, 14):\n",
        "    prec[ilabel] /= len(test_loader)\n",
        "    rec[ilabel] /= len(test_loader)\n",
        "    if (prec[ilabel]+rec[ilabel])==0:\n",
        "      f1[ilabel] = 0\n",
        "    else: \n",
        "      f1tensor = 2*(prec[ilabel]*rec[ilabel])/(prec[ilabel]+rec[ilabel])\n",
        "      f1[ilabel] = f1tensor.data.item()\n",
        "  return np.array(f1)\n",
        "compute_f1_for_treshold(0.1)"
      ],
      "execution_count": 209,
      "outputs": [
        {
          "output_type": "error",
          "ename": "NameError",
          "evalue": "ignored",
          "traceback": [
            "\u001b[0;31m---------------------------------------------------------------------------\u001b[0m",
            "\u001b[0;31mNameError\u001b[0m                                 Traceback (most recent call last)",
            "\u001b[0;32m<ipython-input-209-66d0a2ae6729>\u001b[0m in \u001b[0;36m<module>\u001b[0;34m()\u001b[0m\n\u001b[0;32m----> 1\u001b[0;31m \u001b[0;34m@\u001b[0m\u001b[0mdeprecated\u001b[0m\u001b[0;34m\u001b[0m\u001b[0;34m\u001b[0m\u001b[0m\n\u001b[0m\u001b[1;32m      2\u001b[0m \u001b[0;32mdef\u001b[0m \u001b[0mcompute_f1_for_treshold\u001b[0m\u001b[0;34m(\u001b[0m\u001b[0mtreshold\u001b[0m\u001b[0;34m)\u001b[0m\u001b[0;34m:\u001b[0m\u001b[0;34m\u001b[0m\u001b[0;34m\u001b[0m\u001b[0m\n\u001b[1;32m      3\u001b[0m   \"\"\"\n\u001b[1;32m      4\u001b[0m   \u001b[0mCompute\u001b[0m \u001b[0mthe\u001b[0m \u001b[0mf1\u001b[0m \u001b[0mvalue\u001b[0m \u001b[0;32mfor\u001b[0m \u001b[0meach\u001b[0m \u001b[0mlabel\u001b[0m \u001b[0;32mfor\u001b[0m \u001b[0ma\u001b[0m \u001b[0mgiven\u001b[0m \u001b[0mtreshold\u001b[0m\u001b[0;34m.\u001b[0m \u001b[0mIt\u001b[0m \u001b[0;32mis\u001b[0m \u001b[0man\u001b[0m \u001b[0mauxiliary\u001b[0m\u001b[0;34m\u001b[0m\u001b[0;34m\u001b[0m\u001b[0m\n\u001b[1;32m      5\u001b[0m   \u001b[0mfunction\u001b[0m \u001b[0;32mfor\u001b[0m \u001b[0moptimizing\u001b[0m \u001b[0mthe\u001b[0m \u001b[0mtreshold\u001b[0m \u001b[0;32mfor\u001b[0m \u001b[0mf1\u001b[0m \u001b[0mvalue\u001b[0m \u001b[0mmaximization\u001b[0m\u001b[0;34m.\u001b[0m\u001b[0;34m\u001b[0m\u001b[0;34m\u001b[0m\u001b[0m\n",
            "\u001b[0;31mNameError\u001b[0m: name 'deprecated' is not defined"
          ]
        }
      ]
    },
    {
      "metadata": {
        "id": "PBXYIwG1ZhWu",
        "colab_type": "code",
        "colab": {
          "base_uri": "https://localhost:8080/",
          "height": 69
        },
        "outputId": "3a82675f-06dd-4f0c-b065-9cf63cfe11ef"
      },
      "cell_type": "code",
      "source": [
        "import sklearn.metrics\n",
        "def compute_f1_sklearn_by_label(treshold):\n",
        "    f1s = np.array([0.0 for _ in range(14)])\n",
        "    nb_batch = 0\n",
        "    for (inputv, targetv) in test_loader:\n",
        "\n",
        "      inputv = inputv.to(device)\n",
        "      bounded_output = torch.sigmoid(model(inputv))\n",
        "      nb_batch += 1\n",
        "    \n",
        "      for ilabel in range(0, 14):\n",
        "        \n",
        "        labels_output = bounded_output[:, ilabel] # Non activated value\n",
        "        pred_label = labels_output.data.gt(treshold) # Activation\n",
        "\n",
        "        truth_label = targetv[:, ilabel]\n",
        "\n",
        "        f1 = sklearn.metrics.f1_score(truth_label.cpu(), pred_label.cpu(), average=\"micro\")\n",
        "        if f1==1.0: f1=0\n",
        "        f1s[ilabel] += f1\n",
        "       \n",
        "    for i in range(14):\n",
        "      f1s[i] /= nb_batch\n",
        "    return f1s\n",
        "print(compute_f1_for_treshold(0.1))"
      ],
      "execution_count": 218,
      "outputs": [
        {
          "output_type": "stream",
          "text": [
            "[0.         0.05555556 0.         0.02777778 0.4359366  0.\n",
            " 0.46079987 0.         0.40793762 0.         0.         0.70828259\n",
            " 0.         0.        ]\n"
          ],
          "name": "stdout"
        }
      ]
    },
    {
      "metadata": {
        "id": "NmKCirCyamNh",
        "colab_type": "code",
        "colab": {
          "base_uri": "https://localhost:8080/",
          "height": 34
        },
        "outputId": "51629560-4be5-48fd-c5a9-b291a7d03a64"
      },
      "cell_type": "code",
      "source": [
        "import sklearn.metrics\n",
        "def compute_f1_sklearn(tresholds):\n",
        "    nb_batch = 0\n",
        "    f1 = 0\n",
        "    for (inputv, targetv) in test_loader:\n",
        "      nb_batch += 1\n",
        "      inputv = inputv.to(device)\n",
        "      bounded_output = torch.sigmoid(model(inputv))\n",
        "      pred_label = bounded_output.data.gt(tresholds) # Activation\n",
        "      f1 += sklearn.metrics.f1_score(targetv.cpu(), pred_label.cpu(), average=\"micro\")\n",
        "    f1 /= nb_batch #Average over all batches\n",
        "    return f1\n",
        "tresholds = [0.3 for _ in range(14)]\n",
        "tresholds_as_tensor = torch.Tensor(tresholds).to(device)\n",
        "compute_f1_sklearn(tresholds_as_tensor)"
      ],
      "execution_count": 225,
      "outputs": [
        {
          "output_type": "execute_result",
          "data": {
            "text/plain": [
              "0.5518216587869277"
            ]
          },
          "metadata": {
            "tags": []
          },
          "execution_count": 225
        }
      ]
    },
    {
      "metadata": {
        "id": "e4p03yGshqTs",
        "colab_type": "code",
        "colab": {
          "base_uri": "https://localhost:8080/",
          "height": 361
        },
        "outputId": "c92853f3-5e87-498c-e9fb-e2152e7d5278"
      },
      "cell_type": "code",
      "source": [
        "# Optimizing treshold for each label : Iterating over labels\n",
        "# Dropout layers have the effect of making a network not returning the same output for a same output at different runs\n",
        "# This means that F1 score function will be \"noisy\", ie it won't be a smooth curve.\n",
        "# This makes optimization much more complicate than simply a SGD descent. To be tolerant of that case, \n",
        "# we check all values in order to not be tricked by noise, and choose the observed maximum.\n",
        "class tresholdOptimizer():\n",
        "  def __init__(self, paces=30, max=1): # High pace means more precision but slower computation\n",
        "    wrapper = lambda array: [[elem] for elem in array]\n",
        "    self.tresholds = np.linspace(0,max,paces)\n",
        "    for t in self.tresholds:\n",
        "      if t==0:\n",
        "        self.tab = wrapper(compute_f1_sklearn_by_label(t))\n",
        "        #self.tab = wrapper(compute_f1_for_treshold(t))\n",
        "      else:\n",
        "        #aux = compute_f1_for_treshold(t)\n",
        "        aux = compute_f1_sklearn_by_label(t)\n",
        "        self.tab = np.hstack((self.tab, wrapper(aux)))\n",
        "        \n",
        "  def view(self):\n",
        "    plt.xlabel(\"treshold\")\n",
        "    plt.ylabel(\"F1 score\")\n",
        "    for label in range(0,14):\n",
        "      plt.plot(self.tresholds , self.tab[label], label=oneHotTransformer.vocabulary[label])\n",
        "      imax = np.argmax(self.tab[label])\n",
        "      plt.scatter(self.tresholds[imax], self.tab[label][imax], marker=\"+\")\n",
        "    plt.legend()\n",
        "    plt.show()\n",
        "\n",
        "  def get_best_tresholds(self):\n",
        "    res = []\n",
        "    for label in range(0,14):\n",
        "      imax=np.argmax(self.tab[label])\n",
        "      res.append(self.tresholds[imax])\n",
        "    return res\n",
        "\n",
        "treshold_opt = tresholdOptimizer()\n",
        "treshold_opt.view()"
      ],
      "execution_count": 178,
      "outputs": [
        {
          "output_type": "display_data",
          "data": {
            "image/png": "[encoded data removed]",
            "text/plain": [
              "<matplotlib.figure.Figure at 0x7fb6a1888be0>"
            ]
          },
          "metadata": {
            "tags": []
          }
        }
      ]
    },
    {
      "metadata": {
        "id": "k8Pz4Koct-Ez",
        "colab_type": "code",
        "colab": {
          "base_uri": "https://localhost:8080/",
          "height": 52
        },
        "outputId": "57c575a0-34d8-42ca-a918-b183bd3f8013"
      },
      "cell_type": "code",
      "source": [
        "# CAREFUL! It appears that my implementation does not work. A constant treshold of 0.2\n",
        "# appear to yield much better f1 than my implementation. Some fields are detected as performing best with 0, \n",
        "# with our optimizer which is wrong as shown below.\n",
        "best_tresholds = [0.3, 0.3,\n",
        " 0.3, 0.3,\n",
        " 0.3, 0.3,\n",
        " 0.3, 0.3,\n",
        " 0.3, 0.3,\n",
        " 0.3, 0.3,\n",
        " 0.3, 0.3]\n",
        "# best_tresholds = treshold_opt.get_best_tresholds() # Is actually not the best..!\n",
        "\n",
        "best_tresholds_as_tensor = torch.Tensor(best_tresholds).to(device) \n",
        "f1 = compute_f1_sklearn(best_tresholds_as_tensor)\n",
        "print(\"F1 score : {:.2f}%\\n\".format(f1*100))"
      ],
      "execution_count": 205,
      "outputs": [
        {
          "output_type": "stream",
          "text": [
            "F1 score : 54.38%\n",
            "\n"
          ],
          "name": "stdout"
        }
      ]
    },
    {
      "metadata": {
        "id": "M_alI9uxkzjy",
        "colab_type": "code",
        "outputId": "b8ea0e2b-a218-4124-8d05-421522b27cb4",
        "colab": {
          "base_uri": "https://localhost:8080/",
          "height": 625
        }
      },
      "cell_type": "code",
      "source": [
        "# Have a look at results\n",
        "# So we can know what error is common\n",
        "for i, sample in enumerate(test_loader):\n",
        "    inputv, targetv = sample\n",
        "    inputv = inputv.to(device)\n",
        "    output = model(inputv)\n",
        "    \n",
        "    #print(\"Prediction\\n\", output)\n",
        "    tresholds = treshold_opt.get_best_tresholds()\n",
        "    tresholds_as_tensor = torch.Tensor(tresholds).to(device) \n",
        "    pred = output.data.gt(tresholds_as_tensor) # Activated output\n",
        "    print(\"Prediction\\n\", pred)\n",
        "    print(\"Truth\\n\", targetv)\n",
        "    break"
      ],
      "execution_count": 206,
      "outputs": [
        {
          "output_type": "stream",
          "text": [
            "Prediction\n",
            " tensor([[0, 0, 0, 0, 0, 0, 0, 0, 0, 0, 0, 1, 0, 0],\n",
            "        [0, 0, 0, 0, 0, 0, 0, 0, 0, 0, 0, 0, 0, 0],\n",
            "        [0, 0, 0, 0, 0, 0, 0, 0, 0, 0, 0, 0, 0, 0],\n",
            "        [0, 0, 0, 0, 0, 0, 0, 0, 0, 0, 0, 0, 0, 0],\n",
            "        [0, 0, 0, 0, 0, 0, 0, 0, 0, 0, 0, 0, 0, 0],\n",
            "        [0, 0, 0, 0, 0, 0, 0, 0, 0, 0, 0, 0, 0, 0],\n",
            "        [0, 0, 0, 0, 0, 0, 0, 0, 0, 0, 0, 0, 0, 0],\n",
            "        [0, 0, 0, 0, 0, 0, 0, 0, 0, 0, 0, 0, 0, 0],\n",
            "        [0, 0, 0, 0, 0, 0, 0, 0, 0, 0, 0, 0, 0, 0],\n",
            "        [0, 0, 0, 0, 0, 0, 0, 0, 0, 0, 0, 0, 0, 0],\n",
            "        [0, 0, 0, 0, 0, 0, 0, 0, 0, 0, 0, 0, 0, 0],\n",
            "        [0, 0, 0, 0, 0, 0, 0, 0, 0, 0, 0, 1, 0, 0],\n",
            "        [0, 0, 0, 0, 0, 0, 0, 0, 0, 0, 0, 1, 0, 0],\n",
            "        [0, 0, 0, 0, 1, 0, 1, 0, 0, 0, 0, 1, 0, 0],\n",
            "        [0, 0, 0, 0, 0, 0, 0, 0, 0, 0, 0, 0, 0, 0],\n",
            "        [0, 0, 0, 0, 0, 0, 0, 0, 0, 0, 0, 1, 0, 0]], device='cuda:0',\n",
            "       dtype=torch.uint8)\n",
            "Truth\n",
            " tensor([[0, 0, 0, 0, 0, 0, 0, 0, 0, 0, 0, 1, 0, 0],\n",
            "        [0, 0, 0, 0, 0, 0, 0, 0, 0, 0, 0, 1, 0, 0],\n",
            "        [0, 0, 0, 0, 0, 0, 0, 0, 1, 0, 0, 1, 0, 0],\n",
            "        [0, 0, 0, 0, 0, 0, 0, 0, 0, 1, 0, 0, 0, 0],\n",
            "        [0, 0, 0, 0, 1, 0, 0, 0, 1, 0, 0, 1, 0, 0],\n",
            "        [0, 0, 0, 0, 1, 0, 1, 0, 0, 0, 0, 1, 0, 0],\n",
            "        [0, 0, 0, 0, 0, 0, 0, 0, 0, 0, 0, 0, 0, 0],\n",
            "        [0, 0, 0, 0, 0, 0, 0, 0, 0, 0, 0, 0, 0, 0],\n",
            "        [0, 0, 0, 0, 0, 0, 0, 0, 0, 0, 0, 0, 0, 0],\n",
            "        [0, 0, 0, 0, 1, 0, 0, 0, 1, 0, 0, 1, 0, 0],\n",
            "        [0, 0, 0, 0, 1, 0, 0, 0, 0, 0, 0, 1, 0, 0],\n",
            "        [0, 0, 0, 0, 1, 0, 1, 0, 0, 0, 0, 1, 0, 0],\n",
            "        [0, 0, 0, 0, 0, 0, 0, 0, 1, 0, 0, 1, 0, 0],\n",
            "        [0, 0, 0, 0, 0, 0, 0, 0, 0, 0, 0, 0, 0, 0],\n",
            "        [0, 0, 0, 0, 0, 0, 0, 0, 0, 0, 0, 0, 0, 0],\n",
            "        [0, 0, 0, 0, 0, 0, 0, 0, 1, 0, 0, 1, 0, 0]])\n"
          ],
          "name": "stdout"
        }
      ]
    },
    {
      "metadata": {
        "colab_type": "code",
        "id": "hT6IMKO4N6Cv",
        "scrolled": true,
        "colab": {}
      },
      "cell_type": "code",
      "source": [
        "img_shape = {}\n",
        "for current_img_path in all_img_paths:\n",
        "    current_img_vector =  plt.imread( current_img_path )\n",
        "    \n",
        "    #if (str(str(current_img_vector.shape)) == \"(128, 128)\"):\n",
        "    #    print(current_img_vector.shape, current_img_path)\n",
        "    #    unicolor_name = current_img_path\n",
        "    #    unicolor = current_img_vector\n",
        "    if(str(current_img_vector.shape) not in img_shape.keys()):\n",
        "        img_shape[str(current_img_vector.shape)] = []\n",
        "    img_shape[str(current_img_vector.shape)].append(current_img_path)"
      ],
      "execution_count": 0,
      "outputs": []
    },
    {
      "metadata": {
        "colab_type": "code",
        "id": "irMDtCAsN6Cy",
        "outputId": "d83268b1-6025-4623-977c-b5a7ba8e3318",
        "colab": {
          "base_uri": "https://localhost:8080/",
          "height": 34
        }
      },
      "cell_type": "code",
      "source": [
        "img_shape.keys()"
      ],
      "execution_count": 0,
      "outputs": [
        {
          "output_type": "execute_result",
          "data": {
            "text/plain": [
              "dict_keys(['(128, 128, 3)', '(128, 128)'])"
            ]
          },
          "metadata": {
            "tags": []
          },
          "execution_count": 28
        }
      ]
    },
    {
      "metadata": {
        "colab_type": "text",
        "id": "3qzWpfrLN6C4"
      },
      "cell_type": "markdown",
      "source": [
        "RGB images"
      ]
    },
    {
      "metadata": {
        "colab_type": "code",
        "id": "wfigVD6LN6C5",
        "colab": {}
      },
      "cell_type": "code",
      "source": [
        "img_vector_3 = {}\n",
        "#To process with all images, don't forget to remove \"[:10]\"\n",
        "for current_img_path in img_shape[\"(128, 128, 3)\"][:1024]:\n",
        "    I =  plt.imread( current_img_path )\n",
        "    modified_current_img_vector = np.array([I[:,:,0], I[:,:,1], I[:,:,2]])\n",
        "    img_vector_3[current_img_path.split(\"/\")[-1].split(\".\")[0].split(\"im\")[-1]] = modified_current_img_vector\n"
      ],
      "execution_count": 0,
      "outputs": []
    },
    {
      "metadata": {
        "colab_type": "text",
        "id": "AtXNxIJDN6C8"
      },
      "cell_type": "markdown",
      "source": [
        "Grey images"
      ]
    },
    {
      "metadata": {
        "colab_type": "code",
        "id": "QBovoeZqN6C-",
        "colab": {}
      },
      "cell_type": "code",
      "source": [
        "img_vector_1 = {}\n",
        "\n",
        "for current_img_path in img_shape[\"(128, 128)\"]:\n",
        "    current_img_vector =  plt.imread( current_img_path )\n",
        "    #Do we have to reshape to (128*128) or (1,128*128) ?\n",
        "    img_vector_1[current_img_path.split(\"/\")[-1].split(\".\")[0].split(\"im\")[-1]] = np.reshape(current_img_vector, (1,128,128))\n"
      ],
      "execution_count": 0,
      "outputs": []
    },
    {
      "metadata": {
        "colab_type": "code",
        "id": "9t_OiEJUN6DK",
        "scrolled": true,
        "colab": {}
      },
      "cell_type": "code",
      "source": [
        "nb_img_vector_3 = len(img_vector_3.keys())"
      ],
      "execution_count": 0,
      "outputs": []
    },
    {
      "metadata": {
        "colab_type": "text",
        "id": "LMXs9Ka2N6DN"
      },
      "cell_type": "markdown",
      "source": [
        "Create train dataset and test dataset from 3 dimention images"
      ]
    },
    {
      "metadata": {
        "colab_type": "code",
        "id": "mwX1NO3BN6DP",
        "colab": {}
      },
      "cell_type": "code",
      "source": [
        "\n",
        "batch_size = 64\n",
        "\n",
        "img_names = rd.sample(list(img_vector_3.keys()), nb_img_vector_3)\n",
        "train_img_name = img_names[ :int(nb_img_vector_3 * 0.8)]\n",
        "test_img_name = img_names[ int(nb_img_vector_3 * 0.8):]\n",
        "\n",
        "\n",
        "X_Train = torch.from_numpy(np.array([ [ img_vector_3[ train_img_name[id_name*batch_size + id_batch]]  for id_batch in range(batch_size) ] for id_name in range(int(len(train_img_name)/batch_size))]))\n",
        "y_Train = torch.from_numpy(np.array([ [ img_labels[   train_img_name[id_name*batch_size + id_batch]]  for id_batch in range(batch_size) ]for id_name in range(int(len(train_img_name)/batch_size))]))\n",
        "\n",
        "X_Test = torch.from_numpy(np.array([ [ img_vector_3[ test_img_name[id_name*batch_size + id_batch]]  for id_batch in range(batch_size) ] for id_name in range(int(len(test_img_name)/batch_size))]))\n",
        "y_Test = torch.from_numpy(np.array([ [ img_labels[   test_img_name[id_name*batch_size + id_batch]]  for id_batch in range(batch_size) ]for id_name in range(int(len(test_img_name)/batch_size))]))\n",
        "\n",
        "X_Train = X_Train.type('torch.FloatTensor')\n",
        "y_Train = y_Train.type('torch.FloatTensor')\n",
        "X_Test = X_Test.type('torch.FloatTensor')\n",
        "y_Test = y_Test.type('torch.FloatTensor')\n"
      ],
      "execution_count": 0,
      "outputs": []
    },
    {
      "metadata": {
        "colab_type": "code",
        "id": "Gvld2qpyN6DS",
        "outputId": "d4e7a97f-df2b-489f-d426-68f3fb935ea8",
        "colab": {
          "base_uri": "https://localhost:8080/",
          "height": 86
        }
      },
      "cell_type": "code",
      "source": [
        "print(X_Train.shape)\n",
        "print(y_Train.shape)\n",
        "print(X_Test.shape)\n",
        "print(y_Test.shape)"
      ],
      "execution_count": 0,
      "outputs": [
        {
          "output_type": "stream",
          "text": [
            "torch.Size([12, 64, 3, 128, 128])\n",
            "torch.Size([12, 64, 14])\n",
            "torch.Size([3, 64, 3, 128, 128])\n",
            "torch.Size([3, 64, 14])\n"
          ],
          "name": "stdout"
        }
      ]
    },
    {
      "metadata": {
        "colab_type": "code",
        "id": "F_wsUDyWN6DY",
        "outputId": "5606dc59-f2a8-4b00-b0e7-c6eb8a6226b6",
        "colab": {
          "base_uri": "https://localhost:8080/",
          "height": 34
        }
      },
      "cell_type": "code",
      "source": [
        "X_Test.shape"
      ],
      "execution_count": 0,
      "outputs": [
        {
          "output_type": "execute_result",
          "data": {
            "text/plain": [
              "torch.Size([3, 64, 3, 128, 128])"
            ]
          },
          "metadata": {
            "tags": []
          },
          "execution_count": 36
        }
      ]
    },
    {
      "metadata": {
        "colab_type": "code",
        "id": "tUslzKd4N6Dj",
        "outputId": "bc0b3995-b40e-43c2-9bdf-13a70b838b5a",
        "colab": {
          "base_uri": "https://localhost:8080/",
          "height": 34
        }
      },
      "cell_type": "code",
      "source": [
        "X_Test[0].shape"
      ],
      "execution_count": 0,
      "outputs": [
        {
          "output_type": "execute_result",
          "data": {
            "text/plain": [
              "torch.Size([64, 3, 128, 128])"
            ]
          },
          "metadata": {
            "tags": []
          },
          "execution_count": 37
        }
      ]
    },
    {
      "metadata": {
        "colab_type": "text",
        "id": "Cbp_n2GnN6EV"
      },
      "cell_type": "markdown",
      "source": [
        "## Save your model\n",
        "\n",
        "It might be useful to save your model if you want to continue your work later, or use it for inference later."
      ]
    },
    {
      "metadata": {
        "colab_type": "code",
        "id": "oCZPjfH_N6EY",
        "colab": {}
      },
      "cell_type": "code",
      "source": [
        "torch.save(model.state_dict(), 'model.pkl')"
      ],
      "execution_count": 0,
      "outputs": []
    },
    {
      "metadata": {
        "colab_type": "text",
        "id": "2aXYpGaLN6Ec"
      },
      "cell_type": "markdown",
      "source": [
        "The model file should now be visible in the \"Home\" screen of the jupyter notebooks interface.  There you should be able to select it and press \"download\".  [See more here on how to load the model back](https://github.com/pytorch/pytorch/blob/761d6799beb3afa03657a71776412a2171ee7533/docs/source/notes/serialization.rst) if you want to continue training later."
      ]
    },
    {
      "metadata": {
        "colab_type": "text",
        "id": "ncKwVsBvN6Ed"
      },
      "cell_type": "markdown",
      "source": [
        "## Download test set\n",
        "\n",
        "The testset will be made available during the last week before the deadline and can be downloaded in the same way as the training set."
      ]
    },
    {
      "metadata": {
        "id": "kVQ48Nb1INwG",
        "colab_type": "code",
        "colab": {}
      },
      "cell_type": "code",
      "source": [
        "to_test_path = 'to_test'\n",
        "dl_file = 'dl2018-image-test.zip'\n",
        "dl_url = 'https://users.aalto.fi/~mvsjober/misc/'\n",
        "\n",
        "zip_path = os.path.join(to_test_path, dl_file)\n",
        "if not os.path.isfile(zip_path):\n",
        "    download_url(dl_url + dl_file, root=to_test_path, filename=dl_file, md5=None)\n",
        "\n",
        "with zipfile.ZipFile(zip_path) as zip_f:\n",
        "    zip_f.extractall(to_test_path)"
      ],
      "execution_count": 0,
      "outputs": []
    },
    {
      "metadata": {
        "colab_type": "text",
        "id": "f04wJ1xXN6Ee"
      },
      "cell_type": "markdown",
      "source": [
        "## Predict for test set\n",
        "\n",
        "You should return your predictions for the test set in a plain text file.  The text file contains one row for each test set image.  Each row contains a binary prediction for each label (separated by a single space), 1 if it's present in the image, and 0 if not. The order of the labels is as follows (alphabetic order of the label names):\n",
        "\n",
        "    baby bird car clouds dog female flower male night people portrait river sea tree\n",
        "\n",
        "An example row could like like this if your system predicts the presense of a bird and clouds:\n",
        "\n",
        "    0 1 0 1 0 0 0 0 0 0 0 0 0 0\n",
        "    \n",
        "The order of the rows should be according to the numeric order of the image numbers.  In the test set, this means that the first row refers to image `im20001.jpg`, the second to `im20002.jpg`, and so on."
      ]
    },
    {
      "metadata": {
        "colab_type": "text",
        "id": "lyQFBPVxN6Ef"
      },
      "cell_type": "markdown",
      "source": [
        "If you have the prediction output matrix prepared in `y` you can use the following function to save it to a text file."
      ]
    },
    {
      "metadata": {
        "id": "hHnY564V9UX-",
        "colab_type": "code",
        "colab": {}
      },
      "cell_type": "code",
      "source": [
        "order = ['baby', # given order, most likely different from the order constructed\n",
        " 'bird',         # automatically in the preprocessing part.\n",
        " 'car',\n",
        " 'clouds',\n",
        " 'dog',\n",
        " 'female',\n",
        " 'flower',\n",
        " 'male',\n",
        " 'night',\n",
        " 'people',\n",
        " 'portrait',\n",
        " 'river',\n",
        " 'sea',\n",
        " 'tree']\n",
        "# Permutation table (arrays' indices to permute) \n",
        "switch = [0 for _ in range(14)]\n",
        "for i in range(14):\n",
        "  searched =  order[i]\n",
        "  switch[i] = oneHotTransformer.vocabulary.index(searched)\n",
        "\n",
        "def batch_output_in_right_order(batch_pred, order_switch):\n",
        "  return batch_pred[:, order_switch]\n",
        "  \n",
        "\n",
        "# Example for one batch\n",
        "inputv, targetv = next(test_loader.__iter__())\n",
        "inputv = inputv.to(device)\n",
        "best_tresholds_as_tensor = torch.Tensor([0.2]*14).to(device)\n",
        "batch_pred = torch.sigmoid(model(inputv).to(device)) > best_tresholds_as_tensor\n",
        "\n",
        "batch_right_order = batch_output_in_right_order(batch_pred, switch)\n"
      ],
      "execution_count": 0,
      "outputs": []
    },
    {
      "metadata": {
        "id": "fydgHSqnM31Z",
        "colab_type": "code",
        "colab": {
          "base_uri": "https://localhost:8080/",
          "height": 437
        },
        "outputId": "f7096051-14ea-4a85-bbea-6e6e9a8d6dc7"
      },
      "cell_type": "code",
      "source": [
        "# Double check it works\n",
        "print(\"Truth: \", targetv[0])\n",
        "print(\"Labelled Truth: \", oneHotTransformer.toVocabulary(targetv[0]))\n",
        "\n",
        "ex0 = batch_right_order[0]\n",
        "\n",
        "\n",
        "print(\"-\"*10)\n",
        "print(\"new order\", order)\n",
        "#print(inputv.cpu().numpy()[0][0])\n",
        "\n",
        "\n",
        "targetv_good_order = batch_output_in_right_order(targetv, switch)\n",
        "t0 = targetv_good_order[0]\n",
        "plt.imshow(inputv.cpu().numpy()[0][0], cmap=\"gray\")\n",
        "#print(batch_output_in_right_order(batch_pred, switch))\n",
        "print(\"re ordered\", t0)\n",
        "plt.show()"
      ],
      "execution_count": 79,
      "outputs": [
        {
          "output_type": "stream",
          "text": [
            "Truth:  tensor([0, 0, 0, 0, 1, 0, 1, 0, 0, 0, 0, 1, 0, 0])\n",
            "Labelled Truth:  ['female', 'portrait', 'people']\n",
            "----------\n",
            "new order ['baby', 'bird', 'car', 'clouds', 'dog', 'female', 'flower', 'male', 'night', 'people', 'portrait', 'river', 'sea', 'tree']\n",
            "re ordered tensor([0, 0, 0, 0, 0, 1, 0, 0, 0, 1, 1, 0, 0, 0])\n"
          ],
          "name": "stdout"
        },
        {
          "output_type": "display_data",
          "data": {
            "image/png": "[encoded data removed]",
            "text/plain": [
              "<matplotlib.figure.Figure at 0x7fb6a4d6b588>"
            ]
          },
          "metadata": {
            "tags": []
          }
        }
      ]
    },
    {
      "metadata": {
        "colab_type": "code",
        "id": "qqJTyNzYN6Eg",
        "colab": {}
      },
      "cell_type": "code",
      "source": [
        "np.savetxt('results.txt', y, fmt='%d')"
      ],
      "execution_count": 0,
      "outputs": []
    }
  ]
}