{
 "cells": [
  {
   "cell_type": "markdown",
   "metadata": {},
   "source": [
    "# DATA20001 Deep Learning - Group Project\n",
    "## Image project\n",
    "\n",
    "**Due Thursday, December 13, before 23:59.**\n",
    "\n",
    "The task is to learn to assign the correct labels to a set of images.  The images are originally from a photo-sharing site and released under Creative Commons-licenses allowing sharing.  The training set contains 20 000 images. We have resized them and cropped them to 128x128 to make the task a bit more manageable.\n",
    "\n",
    "We're only giving you the code for downloading the data. The rest you'll have to do yourselves.\n",
    "\n",
    "Some comments and hints particular to the image project:\n",
    "\n",
    "- One image may belong to many classes in this problem, i.e., it's a multi-label classification problem. In fact there are images that don't belong to any of our classes, and you should also be able to handle these correctly. Pay careful attention to how you design the outputs of the network (e.g., what activation to use) and what loss function should be used.\n",
    "\n",
    "- As the dataset is pretty imbalanced, don't focus too strictly on the outputs being probabilistic. (Meaning that the right threshold for selecting the label might not be 0.5.)\n",
    "\n",
    "- Image files can be loaded as numpy matrices for example using `imread` from `matplotlib.pyplot`. Most images are color, but a few grayscale. You need to handle the grayscale ones somehow as they would have a different number of color channels (depth) than the color ones.\n",
    "\n",
    "- In the exercises we used e.g., `torchvision.datasets.MNIST` to handle the loading of the data in suitable batches. Here, you need to handle the dataloading yourself.  The easiest way is probably to create a custom `Dataset`. [See for example here for a tutorial](https://github.com/utkuozbulak/pytorch-custom-dataset-examples)."
   ]
  },
  {
   "cell_type": "markdown",
   "metadata": {},
   "source": [
    "## Download the data"
   ]
  },
  {
   "cell_type": "code",
   "execution_count": 1,
   "metadata": {},
   "outputs": [],
   "source": [
    "import os\n",
    "import torch\n",
    "import torchvision\n",
    "from torchvision.datasets.utils import download_url\n",
    "import zipfile\n"
   ]
  },
  {
   "cell_type": "code",
   "execution_count": 1,
   "metadata": {},
   "outputs": [
    {
     "name": "stdout",
     "output_type": "stream",
     "text": [
      "Downloading https://users.aalto.fi/mvsjober/misc/dl2018-image-proj.zip to train/dl2018-image-proj.zip\n"
     ]
    }
   ],
   "source": [
    "train_path = 'train'\n",
    "dl_file = 'dl2018-image-proj.zip'\n",
    "dl_url = 'https://users.aalto.fi/mvsjober/misc/'\n",
    "\n",
    "zip_path = os.path.join(train_path, dl_file)\n",
    "if not os.path.isfile(zip_path):\n",
    "    download_url(dl_url + dl_file, root=train_path, filename=dl_file, md5=None)\n",
    "\n",
    "with zipfile.ZipFile(zip_path) as zip_f:\n",
    "    zip_f.extractall(train_path)\n",
    "    #os.unlink(zip_path)"
   ]
  },
  {
   "cell_type": "code",
   "execution_count": 175,
   "metadata": {},
   "outputs": [
    {
     "name": "stdout",
     "output_type": "stream",
     "text": [
      "Using GPU!\n"
     ]
    }
   ],
   "source": [
    "if torch.cuda.is_available():\n",
    "    print('Using GPU!')\n",
    "    device = torch.device('cuda')\n",
    "else:\n",
    "    print('Using CPU')\n",
    "    device = torch.device('cpu')"
   ]
  },
  {
   "cell_type": "markdown",
   "metadata": {},
   "source": [
    "The above command downloaded and extracted the data files into the `train` subdirectory.\n",
    "\n",
    "The images can be found in `train/images`, and are named as `im1.jpg`, `im2.jpg` and so on until `im20000.jpg`.\n",
    "\n",
    "The class labels, or annotations, can be found in `train/annotations` as `CLASSNAME.txt`, where CLASSNAME is one of the fourteen classes: *baby, bird, car, clouds, dog, female, flower, male, night, people, portrait, river, sea,* and *tree*.\n",
    "\n",
    "Each annotation file is a simple text file that lists the images that depict that class, one per line. The images are listed with their number, not the full filename. For example `5969` refers to the image `im5969.jpg`."
   ]
  },
  {
   "cell_type": "markdown",
   "metadata": {},
   "source": [
    "## Your stuff goes here ..."
   ]
  },
  {
   "cell_type": "code",
   "execution_count": 44,
   "metadata": {},
   "outputs": [],
   "source": [
    "import os\n",
    "from os import listdir\n",
    "import matplotlib.pyplot as plt\n",
    "import pandas as pd\n",
    "import numpy as np\n",
    "import random as rd\n",
    "import torch\n",
    "import torch.nn as nn\n",
    "import torch.nn.functional as F\n",
    "from torchvision import datasets, transforms\n",
    "import matplotlib.pyplot as plt\n",
    "import numpy as np\n",
    "img_path = \"./train/images/\"\n",
    "labels_path = \"./train/annotations/\"\n"
   ]
  },
  {
   "cell_type": "markdown",
   "metadata": {},
   "source": [
    "Get all annotations & images paths"
   ]
  },
  {
   "cell_type": "code",
   "execution_count": 4,
   "metadata": {},
   "outputs": [],
   "source": [
    "all_img_paths = sorted([img_path + current_img_name  for current_img_name  in listdir(img_path) ])\n",
    "all_labels_paths = sorted([labels_path + current_label_name  for current_label_name  in listdir(labels_path) ])"
   ]
  },
  {
   "cell_type": "code",
   "execution_count": 5,
   "metadata": {},
   "outputs": [],
   "source": [
    "all_img_nb = [all_img_paths[i].split(\"/\")[-1].split(\".\")[0].split(\"im\")[-1] for i in range(len(all_img_paths))]\n",
    "all_labels_names = [all_labels_paths[i].split(\"/\")[-1].split(\".\")[0] for i in range(len(all_labels_paths))]"
   ]
  },
  {
   "cell_type": "markdown",
   "metadata": {},
   "source": [
    "LABELS PREPROCESSING "
   ]
  },
  {
   "cell_type": "markdown",
   "metadata": {},
   "source": [
    "ADD labelled Images"
   ]
  },
  {
   "cell_type": "code",
   "execution_count": 6,
   "metadata": {},
   "outputs": [],
   "source": [
    "img_labels = {}\n",
    "for current_label in range(len(all_labels_paths)):\n",
    "    current_label_contents = pd.read_csv(all_labels_paths[current_label])\n",
    "    current_label_img_nb = sorted(np.append(list(current_label_contents), current_label_contents.get_values() ).tolist())\n",
    "    for current_img in current_label_img_nb:\n",
    "        if( current_img not in img_labels.keys()):\n",
    "            img_labels[current_img] = np.zeros(len(all_labels_names))\n",
    "        img_labels[current_img][current_label] = 1\n",
    "        "
   ]
  },
  {
   "cell_type": "markdown",
   "metadata": {},
   "source": [
    "ADD unlabelled images"
   ]
  },
  {
   "cell_type": "code",
   "execution_count": 7,
   "metadata": {},
   "outputs": [],
   "source": [
    "def unmatched_set(a, b):\n",
    "    return [[a_i for a_i in a if a_i not in b], [b_i for b_i in b if b_i not in a]]"
   ]
  },
  {
   "cell_type": "markdown",
   "metadata": {},
   "source": [
    "Get disjoined sets of unlabelled images and inexistent labelled images ."
   ]
  },
  {
   "cell_type": "code",
   "execution_count": 8,
   "metadata": {
    "scrolled": true
   },
   "outputs": [],
   "source": [
    "unmatched_set_images = unmatched_set( list(img_labels.keys()) , np.array(all_img_nb))"
   ]
  },
  {
   "cell_type": "code",
   "execution_count": 9,
   "metadata": {},
   "outputs": [],
   "source": [
    "for current_unlab_img in unmatched_set_images[1]:\n",
    "    img_labels[current_unlab_img] = np.zeros(len(all_labels_names))"
   ]
  },
  {
   "cell_type": "markdown",
   "metadata": {},
   "source": [
    "IMAGES PREPROCESSING"
   ]
  },
  {
   "cell_type": "markdown",
   "metadata": {},
   "source": [
    "There are 2 kinds of pictures :  \n",
    "  - the first kind : The shapes equal to (128, 128, 3)\n",
    "  - the second kind : The shapes equal to (128, 128)\n",
    "  "
   ]
  },
  {
   "cell_type": "code",
   "execution_count": 10,
   "metadata": {},
   "outputs": [],
   "source": [
    "img_shape = {}\n",
    "for current_img_math in all_img_paths:\n",
    "    current_img_vector =  plt.imread( current_img_math )\n",
    "    if(str(current_img_vector.shape) not in img_shape.keys()):\n",
    "        img_shape[str(current_img_vector.shape)] = []\n",
    "    img_shape[str(current_img_vector.shape)].append(current_img_math)"
   ]
  },
  {
   "cell_type": "code",
   "execution_count": 11,
   "metadata": {},
   "outputs": [
    {
     "data": {
      "text/plain": [
       "dict_keys(['(128, 128, 3)', '(128, 128)'])"
      ]
     },
     "execution_count": 11,
     "metadata": {},
     "output_type": "execute_result"
    }
   ],
   "source": [
    "img_shape.keys()"
   ]
  },
  {
   "cell_type": "code",
   "execution_count": 146,
   "metadata": {},
   "outputs": [],
   "source": [
    "img_vector_3 = {}\n",
    "#To process with all images, don't forget to remove \"[:10]\"\n",
    "for current_img_math in img_shape[\"(128, 128, 3)\"][:10]:\n",
    "    I =  plt.imread( current_img_math )\n",
    "    modified_current_img_vector = np.array([I[:,:,0], I[:,:,1], I[:,:,2]])\n",
    "    img_vector_3[current_img_math.split(\"/\")[-1].split(\".\")[0].split(\"im\")[-1]] = modified_current_img_vector\n"
   ]
  },
  {
   "cell_type": "code",
   "execution_count": 147,
   "metadata": {},
   "outputs": [],
   "source": [
    "img_vector_1 = {}\n",
    "\n",
    "for current_img_math in img_shape[\"(128, 128)\"]:\n",
    "    current_img_vector =  plt.imread( current_img_math )\n",
    "    #Do we have to reshape to (128*128) or (1,128*128) ?\n",
    "    img_vector_1[current_img_math.split(\"/\")[-1].split(\".\")[0].split(\"im\")[-1]] = np.reshape(current_img_vector, (1,128,128))\n"
   ]
  },
  {
   "cell_type": "code",
   "execution_count": 148,
   "metadata": {
    "scrolled": true
   },
   "outputs": [],
   "source": [
    "nb_img_vector_3 = len(img_vector_3.keys())"
   ]
  },
  {
   "cell_type": "markdown",
   "metadata": {},
   "source": [
    "Create train dataset and test dataset from 3 dimention images"
   ]
  },
  {
   "cell_type": "code",
   "execution_count": 149,
   "metadata": {},
   "outputs": [],
   "source": [
    "img_names = rd.sample(list(img_vector_3.keys()), nb_img_vector_3)\n",
    "train_img_name = img_names[ :int(nb_img_vector_3 * 0.8)]\n",
    "test_img_name = img_names[ int(nb_img_vector_3 * 0.8):]"
   ]
  },
  {
   "cell_type": "code",
   "execution_count": 155,
   "metadata": {},
   "outputs": [],
   "source": [
    "X_Train = torch.from_numpy(np.array([img_vector_3[current_name] for current_name in train_img_name]))\n",
    "y_Train = torch.from_numpy(np.array([img_labels[current_name] for current_name in train_img_name]))\n",
    "                   \n",
    "X_Test = torch.from_numpy(np.array([img_vector_3[current_name] for current_name in test_img_name]))\n",
    "y_Test = torch.from_numpy(np.array([img_labels[current_name] for current_name in test_img_name]))\n"
   ]
  },
  {
   "cell_type": "code",
   "execution_count": 156,
   "metadata": {},
   "outputs": [
    {
     "name": "stdout",
     "output_type": "stream",
     "text": [
      "torch.Size([8, 3, 128, 128])\n",
      "torch.Size([8, 14])\n",
      "torch.Size([2, 3, 128, 128])\n",
      "torch.Size([2, 14])\n"
     ]
    }
   ],
   "source": [
    "print(X_Train.shape)\n",
    "print(y_Train.shape)\n",
    "print(X_Test.shape)\n",
    "print(y_Test.shape)"
   ]
  },
  {
   "cell_type": "code",
   "execution_count": 177,
   "metadata": {},
   "outputs": [],
   "source": [
    "X_Train = X_Train.type('torch.FloatTensor')\n",
    "X_Train = X_Train.to(device)"
   ]
  },
  {
   "cell_type": "code",
   "execution_count": 178,
   "metadata": {},
   "outputs": [],
   "source": [
    "a = nn.Conv2d(3, 10, kernel_size=3)"
   ]
  },
  {
   "cell_type": "code",
   "execution_count": 193,
   "metadata": {},
   "outputs": [
    {
     "name": "stdout",
     "output_type": "stream",
     "text": [
      "Net(\n",
      "  (conv1): Conv2d(3, 10, kernel_size=(3, 3), stride=(1, 1))\n",
      "  (conv2): Conv2d(10, 20, kernel_size=(3, 3), stride=(1, 1))\n",
      "  (mp): MaxPool2d(kernel_size=2, stride=2, padding=0, dilation=1, ceil_mode=False)\n",
      "  (do): Dropout(p=0.5)\n",
      "  (bn1): BatchNorm1d(18000, eps=1e-05, momentum=0.1, affine=True, track_running_stats=True)\n",
      "  (fc1): Linear(in_features=18000, out_features=240, bias=True)\n",
      "  (fc2): Linear(in_features=240, out_features=120, bias=True)\n",
      "  (fcout): Linear(in_features=120, out_features=14, bias=True)\n",
      ")\n"
     ]
    }
   ],
   "source": [
    "\n",
    "class Net(nn.Module):\n",
    "    def __init__(self ):\n",
    "        super(Net, self).__init__()\n",
    "        self.conv1 = nn.Conv2d(3, 10, kernel_size=3)\n",
    "        self.conv2 = nn.Conv2d(10, 20, kernel_size=3)\n",
    "        self.mp = nn.MaxPool2d(2)\n",
    "        self.do = nn.Dropout(p=0.5)\n",
    "        self.bn1 = nn.BatchNorm1d(num_features=18000)\n",
    "        self.fc1 = nn.Linear(18000, 240)\n",
    "        self.fc2 = nn.Linear(240, 120)\n",
    "        self.fcout = nn.Linear(120, 14)\n",
    "        \n",
    "    def forward(self, x):\n",
    "        in_size = x.size(0)\n",
    "        x = F.relu(self.mp(self.conv1(x)))\n",
    "        x = F.relu(self.mp(self.conv2(x)))\n",
    "        x = x.view(in_size, -1)  # flatten the tensor\n",
    "        x = self.do(x)\n",
    "        x =  F.relu(self.bn1(x))\n",
    "        x = F.relu((self.fc1(x)))\n",
    "        x = F.relu((self.fc2(x)))\n",
    "        x = F.log_softmax(self.fcout(x))\n",
    "        return x\n",
    "    \n",
    "    \n",
    "model = Net( ).to(device)\n",
    "optimizer = torch.optim.SGD(model.parameters(), lr=0.01, momentum=0.5) \n",
    "criterion = nn.CrossEntropyLoss()  \n",
    "print(model)"
   ]
  },
  {
   "cell_type": "code",
   "execution_count": 195,
   "metadata": {},
   "outputs": [
    {
     "name": "stderr",
     "output_type": "stream",
     "text": [
      "/usr/local/lib/python3.6/dist-packages/ipykernel_launcher.py:23: UserWarning: Implicit dimension choice for log_softmax has been deprecated. Change the call to include dim=X as an argument.\n"
     ]
    },
    {
     "data": {
      "text/plain": [
       "tensor([[-2.6770, -2.5025, -2.5379, -2.6824, -2.7544, -2.6537, -2.7956, -2.5776,\n",
       "         -2.6870, -2.4910, -2.7000, -2.6004, -2.5591, -2.7950],\n",
       "        [-2.6698, -2.5309, -2.5533, -2.6442, -2.7354, -2.6965, -2.7778, -2.5421,\n",
       "         -2.6740, -2.5462, -2.6746, -2.6234, -2.5575, -2.7688],\n",
       "        [-2.7350, -2.4887, -2.5471, -2.6729, -2.7072, -2.5958, -2.7546, -2.5885,\n",
       "         -2.7635, -2.5328, -2.6999, -2.6252, -2.5236, -2.7751],\n",
       "        [-2.6766, -2.4875, -2.5672, -2.7032, -2.7433, -2.6239, -2.7407, -2.5419,\n",
       "         -2.7228, -2.5722, -2.6406, -2.6306, -2.5669, -2.7798],\n",
       "        [-2.7514, -2.4746, -2.5771, -2.7198, -2.6571, -2.7039, -2.7198, -2.5131,\n",
       "         -2.6766, -2.5852, -2.6067, -2.6755, -2.5921, -2.7429],\n",
       "        [-2.6629, -2.5050, -2.5597, -2.7096, -2.7157, -2.6131, -2.7534, -2.5485,\n",
       "         -2.6670, -2.5443, -2.7261, -2.6013, -2.5911, -2.8011],\n",
       "        [-2.7394, -2.5090, -2.5554, -2.7308, -2.6514, -2.6665, -2.7516, -2.5678,\n",
       "         -2.6979, -2.5029, -2.6381, -2.6254, -2.5678, -2.7997],\n",
       "        [-2.7422, -2.5472, -2.4855, -2.6900, -2.6734, -2.6192, -2.7555, -2.5544,\n",
       "         -2.6839, -2.5469, -2.6758, -2.6496, -2.5931, -2.7809]],\n",
       "       device='cuda:0', grad_fn=<LogSoftmaxBackward>)"
      ]
     },
     "execution_count": 195,
     "metadata": {},
     "output_type": "execute_result"
    }
   ],
   "source": [
    "model.forward(X_Train)"
   ]
  },
  {
   "cell_type": "markdown",
   "metadata": {},
   "source": [
    "## Save your model\n",
    "\n",
    "It might be useful to save your model if you want to continue your work later, or use it for inference later."
   ]
  },
  {
   "cell_type": "code",
   "execution_count": null,
   "metadata": {},
   "outputs": [],
   "source": [
    "torch.save(model.state_dict(), 'model.pkl')"
   ]
  },
  {
   "cell_type": "markdown",
   "metadata": {},
   "source": [
    "The model file should now be visible in the \"Home\" screen of the jupyter notebooks interface.  There you should be able to select it and press \"download\".  [See more here on how to load the model back](https://github.com/pytorch/pytorch/blob/761d6799beb3afa03657a71776412a2171ee7533/docs/source/notes/serialization.rst) if you want to continue training later."
   ]
  },
  {
   "cell_type": "markdown",
   "metadata": {},
   "source": [
    "## Download test set\n",
    "\n",
    "The testset will be made available during the last week before the deadline and can be downloaded in the same way as the training set."
   ]
  },
  {
   "cell_type": "markdown",
   "metadata": {},
   "source": [
    "## Predict for test set\n",
    "\n",
    "You should return your predictions for the test set in a plain text file.  The text file contains one row for each test set image.  Each row contains a binary prediction for each label (separated by a single space), 1 if it's present in the image, and 0 if not. The order of the labels is as follows (alphabetic order of the label names):\n",
    "\n",
    "    baby bird car clouds dog female flower male night people portrait river sea tree\n",
    "\n",
    "An example row could like like this if your system predicts the presense of a bird and clouds:\n",
    "\n",
    "    0 1 0 1 0 0 0 0 0 0 0 0 0 0\n",
    "    \n",
    "The order of the rows should be according to the numeric order of the image numbers.  In the test set, this means that the first row refers to image `im20001.jpg`, the second to `im20002.jpg`, and so on."
   ]
  },
  {
   "cell_type": "markdown",
   "metadata": {},
   "source": [
    "If you have the prediction output matrix prepared in `y` you can use the following function to save it to a text file."
   ]
  },
  {
   "cell_type": "code",
   "execution_count": null,
   "metadata": {},
   "outputs": [],
   "source": [
    "np.savetxt('results.txt', y, fmt='%d')"
   ]
  }
 ],
 "metadata": {
  "kernelspec": {
   "display_name": "Python 3",
   "language": "python",
   "name": "python3"
  },
  "language_info": {
   "codemirror_mode": {
    "name": "ipython",
    "version": 3
   },
   "file_extension": ".py",
   "mimetype": "text/x-python",
   "name": "python",
   "nbconvert_exporter": "python",
   "pygments_lexer": "ipython3",
   "version": "3.6.7"
  }
 },
 "nbformat": 4,
 "nbformat_minor": 2
}
