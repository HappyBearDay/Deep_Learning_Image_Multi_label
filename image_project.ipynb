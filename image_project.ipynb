{
  "nbformat": 4,
  "nbformat_minor": 0,
  "metadata": {
    "colab": {
      "name": "image_project.ipynb",
      "version": "0.3.2",
      "provenance": [],
      "collapsed_sections": [
        "Cv5rJVZ2P-Hq",
        "DVf1FbF-xVmr",
        "Cbp_n2GnN6EV",
        "ncKwVsBvN6Ed"
      ],
      "toc_visible": true
    },
    "kernelspec": {
      "display_name": "Python 3",
      "language": "python",
      "name": "python3"
    },
    "accelerator": "GPU"
  },
  "cells": [
    {
      "metadata": {
        "colab_type": "text",
        "id": "o5cz6o5sN6BV"
      },
      "cell_type": "markdown",
      "source": [
        "# DATA20001 Deep Learning - Group Project\n",
        "## Image project\n",
        "\n",
        "**Due Thursday, December 13, before 23:59.**\n",
        "\n",
        "The task is to learn to assign the correct labels to a set of images.  The images are originally from a photo-sharing site and released under Creative Commons-licenses allowing sharing.  The training set contains 20 000 images. We have resized them and cropped them to 128x128 to make the task a bit more manageable.\n",
        "\n",
        "We're only giving you the code for downloading the data. The rest you'll have to do yourselves.\n",
        "\n",
        "Some comments and hints particular to the image project:\n",
        "\n",
        "- One image may belong to many classes in this problem, i.e., it's a multi-label classification problem. In fact there are images that don't belong to any of our classes, and you should also be able to handle these correctly. Pay careful attention to how you design the outputs of the network (e.g., what activation to use) and what loss function should be used.\n",
        "\n",
        "- As the dataset is pretty imbalanced, don't focus too strictly on the outputs being probabilistic. (Meaning that the right threshold for selecting the label might not be 0.5.)\n",
        "\n",
        "- Image files can be loaded as numpy matrices for example using `imread` from `matplotlib.pyplot`. Most images are color, but a few grayscale. You need to handle the grayscale ones somehow as they would have a different number of color channels (depth) than the color ones.\n",
        "\n",
        "- In the exercises we used e.g., `torchvision.datasets.MNIST` to handle the loading of the data in suitable batches. Here, you need to handle the dataloading yourself.  The easiest way is probably to create a custom `Dataset`. [See for example here for a tutorial](https://github.com/utkuozbulak/pytorch-custom-dataset-examples)."
      ]
    },
    {
      "metadata": {
        "colab_type": "code",
        "id": "iMioZJz0OGWX",
        "outputId": "b724375c-6153-460c-8779-e882890c2493",
        "colab": {
          "base_uri": "https://localhost:8080/",
          "height": 211
        }
      },
      "cell_type": "code",
      "source": [
        "! pip install torch torchvision torchsummary sklearn"
      ],
      "execution_count": 1,
      "outputs": [
        {
          "output_type": "stream",
          "text": [
            "Requirement already satisfied: torch in /usr/local/lib/python3.6/dist-packages (1.0.0)\n",
            "Requirement already satisfied: torchvision in /usr/local/lib/python3.6/dist-packages (0.2.1)\n",
            "Requirement already satisfied: torchsummary in /usr/local/lib/python3.6/dist-packages (1.5.1)\n",
            "Requirement already satisfied: sklearn in /usr/local/lib/python3.6/dist-packages (0.0)\n",
            "Requirement already satisfied: six in /usr/local/lib/python3.6/dist-packages (from torchvision) (1.11.0)\n",
            "Requirement already satisfied: numpy in /usr/local/lib/python3.6/dist-packages (from torchvision) (1.14.6)\n",
            "Requirement already satisfied: pillow>=4.1.1 in /usr/local/lib/python3.6/dist-packages (from torchvision) (4.1.1)\n",
            "Requirement already satisfied: scikit-learn in /usr/local/lib/python3.6/dist-packages (from sklearn) (0.20.2)\n",
            "Requirement already satisfied: olefile in /usr/local/lib/python3.6/dist-packages (from pillow>=4.1.1->torchvision) (0.46)\n",
            "Requirement already satisfied: scipy>=0.13.3 in /usr/local/lib/python3.6/dist-packages (from scikit-learn->sklearn) (1.1.0)\n"
          ],
          "name": "stdout"
        }
      ]
    },
    {
      "metadata": {
        "colab_type": "text",
        "id": "ETU_n-NCN6BX"
      },
      "cell_type": "markdown",
      "source": [
        "## Download the data"
      ]
    },
    {
      "metadata": {
        "colab_type": "code",
        "id": "8HPeRa7JN6BY",
        "colab": {}
      },
      "cell_type": "code",
      "source": [
        "import os\n",
        "import torch\n",
        "import torchvision\n",
        "from torchvision.datasets.utils import download_url\n",
        "import zipfile"
      ],
      "execution_count": 0,
      "outputs": []
    },
    {
      "metadata": {
        "colab_type": "code",
        "id": "lRKFdNkGN6Bd",
        "colab": {}
      },
      "cell_type": "code",
      "source": [
        "train_path = 'train'\n",
        "dl_file = 'dl2018-image-proj.zip'\n",
        "dl_url = 'https://users.aalto.fi/mvsjober/misc/'\n",
        "\n",
        "zip_path = os.path.join(train_path, dl_file)\n",
        "if not os.path.isfile(zip_path):\n",
        "    download_url(dl_url + dl_file, root=train_path, filename=dl_file, md5=None)\n",
        "\n",
        "with zipfile.ZipFile(zip_path) as zip_f:\n",
        "    zip_f.extractall(train_path)\n",
        "    #os.unlink(zip_path)"
      ],
      "execution_count": 0,
      "outputs": []
    },
    {
      "metadata": {
        "colab_type": "code",
        "id": "SYucMUzKN6Bh",
        "outputId": "8f056c33-fed7-49e9-a639-456d319ac1c2",
        "colab": {
          "base_uri": "https://localhost:8080/",
          "height": 34
        }
      },
      "cell_type": "code",
      "source": [
        "if torch.cuda.is_available():\n",
        "    print('Using GPU!')\n",
        "    device = torch.device('cuda')\n",
        "else:\n",
        "    print('Using CPU')\n",
        "    device = torch.device('cpu')"
      ],
      "execution_count": 4,
      "outputs": [
        {
          "output_type": "stream",
          "text": [
            "Using GPU!\n"
          ],
          "name": "stdout"
        }
      ]
    },
    {
      "metadata": {
        "colab_type": "text",
        "id": "e4OBeshoN6Bn"
      },
      "cell_type": "markdown",
      "source": [
        "The above command downloaded and extracted the data files into the `train` subdirectory.\n",
        "\n",
        "The images can be found in `train/images`, and are named as `im1.jpg`, `im2.jpg` and so on until `im20000.jpg`.\n",
        "\n",
        "The class labels, or annotations, can be found in `train/annotations` as `CLASSNAME.txt`, where CLASSNAME is one of the fourteen classes: *baby, bird, car, clouds, dog, female, flower, male, night, people, portrait, river, sea,* and *tree*.\n",
        "\n",
        "Each annotation file is a simple text file that lists the images that depict that class, one per line. The images are listed with their number, not the full filename. For example `5969` refers to the image `im5969.jpg`."
      ]
    },
    {
      "metadata": {
        "colab_type": "text",
        "id": "p7NS0wddN6Bp"
      },
      "cell_type": "markdown",
      "source": [
        "## Your stuff goes here ..."
      ]
    },
    {
      "metadata": {
        "colab_type": "code",
        "id": "CBSFUnlrN6Bq",
        "colab": {}
      },
      "cell_type": "code",
      "source": [
        "import os\n",
        "from os import listdir\n",
        "import matplotlib.pyplot as plt\n",
        "import pandas as pd\n",
        "import numpy as np\n",
        "import random as rd\n",
        "import torch\n",
        "import torch.nn as nn\n",
        "import torch.nn.functional as F\n",
        "from torchvision import datasets, transforms\n",
        "import matplotlib.pyplot as plt\n",
        "import numpy as np\n",
        "img_path = \"./train/images/\"\n",
        "labels_path = \"./train/annotations/\""
      ],
      "execution_count": 0,
      "outputs": []
    },
    {
      "metadata": {
        "colab_type": "code",
        "id": "wAnheWovPhsl",
        "outputId": "a76d8856-fd95-4924-94e1-36baf436ff72",
        "colab": {
          "base_uri": "https://localhost:8080/",
          "height": 72
        }
      },
      "cell_type": "code",
      "source": [
        "!pip install pillow==4.1.1\n",
        "%reload_ext autoreload\n",
        "%autoreload"
      ],
      "execution_count": 6,
      "outputs": [
        {
          "output_type": "stream",
          "text": [
            "Requirement already satisfied: pillow==4.1.1 in /usr/local/lib/python3.6/dist-packages (4.1.1)\n",
            "Requirement already satisfied: olefile in /usr/local/lib/python3.6/dist-packages (from pillow==4.1.1) (0.46)\n"
          ],
          "name": "stdout"
        }
      ]
    },
    {
      "metadata": {
        "colab_type": "text",
        "id": "bOmN6xaIN6Bt"
      },
      "cell_type": "markdown",
      "source": [
        "### Data preprocessing"
      ]
    },
    {
      "metadata": {
        "id": "QOMJuyOlLiTt",
        "colab_type": "code",
        "colab": {}
      },
      "cell_type": "code",
      "source": [
        "images_path = \"train/images/\" \n",
        "image_files = [(images_path+f) for f in os.listdir(images_path) \\\n",
        "                if os.path.isfile(os.path.join(images_path, f))]\n",
        "images = []\n",
        "for current_img_path in image_files:\n",
        "    current_img_vector =  plt.imread( current_img_path )\n",
        "    filename_without_extension = os.path.basename(current_img_path)[:-4] # :-4 to drop the extension\n",
        "    img_num = filename_without_extension[2:] # drop the heading \"im\"\n",
        "    images += [img_num]\n",
        "del image_files"
      ],
      "execution_count": 0,
      "outputs": []
    },
    {
      "metadata": {
        "colab_type": "code",
        "id": "xdCSaC65N6Bu",
        "colab": {}
      },
      "cell_type": "code",
      "source": [
        "images_path = \"train/images/\" \n",
        "image_files = [(images_path+f) for f in os.listdir(images_path) \\\n",
        "                if os.path.isfile(os.path.join(images_path, f))]\n",
        "grayscale_images = []\n",
        "colorscale_images = []\n",
        "for current_img_path in image_files:\n",
        "    current_img_vector =  plt.imread( current_img_path )\n",
        "    if len(current_img_vector.shape)==2: # If shape is (128, 128) (no color channels)\n",
        "        filename_without_extension = os.path.basename(current_img_path)[:-4] # :-4 to drop the extension\n",
        "        img_num = filename_without_extension[2:] # drop the heading \"im\"\n",
        "        grayscale_images+=[img_num]\n",
        "    else:\n",
        "        filename_without_extension = os.path.basename(current_img_path)[:-4] # :-4 to drop the extension\n",
        "        img_num = filename_without_extension[2:] # drop the heading \"im\"\n",
        "        colorscale_images+=[img_num]\n",
        "del image_files"
      ],
      "execution_count": 0,
      "outputs": []
    },
    {
      "metadata": {
        "id": "ALIgjfnheR8o",
        "colab_type": "text"
      },
      "cell_type": "markdown",
      "source": [
        ""
      ]
    },
    {
      "metadata": {
        "colab_type": "code",
        "id": "IUx_enEdN6By",
        "colab": {}
      },
      "cell_type": "code",
      "source": [
        "data=images\n",
        "labels = [[] for _ in range(len(data))] # Empty list of labels\n",
        "annotations_path = \"train/annotations/\"\n",
        "annotations_files = [(annotations_path+f) for f in os.listdir(annotations_path) \\\n",
        "        if os.path.isfile(os.path.join(annotations_path, f))]\n",
        "for file in annotations_files:\n",
        "    label = os.path.basename(file)[:-4] # :-4 to drop the extension\n",
        "    with open(file) as f: # file is the name of the label currently read\n",
        "        img_nums = f.read().split()\n",
        "    for img_num in img_nums:\n",
        "        if img_num not in data:\n",
        "            continue\n",
        "        labels[data.index(img_num)].append(label)"
      ],
      "execution_count": 0,
      "outputs": []
    },
    {
      "metadata": {
        "colab_type": "code",
        "id": "xlpZq0l6N6B3",
        "colab": {}
      },
      "cell_type": "code",
      "source": [
        "class OneHotTransformer:\n",
        "    def __init__(self):\n",
        "        annotations_files = [(annotations_path+f) for f in os.listdir(annotations_path) \\\n",
        "                    if os.path.isfile(os.path.join(annotations_path, f))]\n",
        "        self.vocabulary = []\n",
        "        for file in annotations_files:\n",
        "            label = os.path.basename(file)[:-4] # :-4 to drop the extension\n",
        "            self.vocabulary.append(label)\n",
        "    def toOneHot(self, labels):\n",
        "        res = [0]*len(self.vocabulary)\n",
        "        for i, voc in enumerate(self.vocabulary):\n",
        "            if voc in labels:\n",
        "                res[i] = 1\n",
        "        return np.array(res)\n",
        "    def toVocabulary(self, onehot):\n",
        "        res = []\n",
        "        for i, n in enumerate(onehot):\n",
        "            if n: res.append(self.vocabulary[i])\n",
        "        return res\n",
        "oneHotTransformer = OneHotTransformer()"
      ],
      "execution_count": 0,
      "outputs": []
    },
    {
      "metadata": {
        "colab_type": "code",
        "id": "69SbHK3SN6B6",
        "colab": {}
      },
      "cell_type": "code",
      "source": [
        "# Files to pytorch dataset\n",
        "# Inspired from https://github.com/pytorch/vision/blob/master/torchvision/datasets/mnist.py\n",
        "from torch.utils.data.dataset import Dataset\n",
        "from torchvision import datasets, transforms\n",
        "from PIL import Image\n",
        "\n",
        "#merging_method : \n",
        "# 0 : Convert  a colored image to grey image\n",
        "# 1 : Complete a grey    image with zeros   to a have colored image\n",
        "# 2 : Complete a grey    image with himself to a have colored image\n",
        "\n",
        "\n",
        "class imageDataset(Dataset):\n",
        "    def __init__(self, data_basenames, merging_method = 2, channels = 3, height = 128, width = 128, transforms = transforms.Compose([\n",
        "        #transforms.Resize(256),\n",
        "        #transforms.CenterCrop(224),\n",
        "        transforms.ToTensor(),\n",
        "    #    transforms.Normalize([0.485, 0.456, 0.406], [0.229, 0.224, 0.225])\n",
        "    ])):\n",
        "        \"\"\"\n",
        "        data_basenames is a list of id of image, such as [\"9885\", \"9886\"]\n",
        "        transforms is a list of transformation. it last element should be transforms.ToTensor()\n",
        "        \"\"\"\n",
        "        def parse_labels(data_paths):\n",
        "            \"\"\" Parse to one hot \"\"\"\n",
        "            labels = [[] for _ in range(len(data_paths))] # Empty list of labels\n",
        "            annotations_path = \"train/annotations/\"\n",
        "            annotations_files = [(annotations_path+f) for f in os.listdir(annotations_path) \\\n",
        "                    if os.path.isfile(os.path.join(annotations_path, f))]\n",
        "            vocabulary = []\n",
        "            for file in annotations_files:\n",
        "                label = os.path.basename(file)[:-4] # :-4 to drop the extension\n",
        "                vocabulary.append(label)\n",
        "                with open(file) as f: # file is the name of the label currently read\n",
        "                    img_nums = f.read().split()\n",
        "                for img_num in img_nums:\n",
        "                    if img_num not in data_paths:\n",
        "                        continue\n",
        "                    labels[data_paths.index(img_num)].append(label)\n",
        "            return labels\n",
        "          \n",
        "        self.data = data_basenames\n",
        "        self.labels = parse_labels(data_basenames)\n",
        "        self.channels = channels\n",
        "        self.height = height\n",
        "        self.width = width\n",
        "        self.transforms = transforms\n",
        "        self.data_len = len(data_basenames)\n",
        "        self.merging_method = merging_method\n",
        "\n",
        "    def __getitem__(self, index):\n",
        "        img_path = \"train/images/im\" + self.data[index] + \".jpg\"\n",
        "        data = Image.open(img_path)\n",
        "        \n",
        "        if self.transforms is not None:\n",
        "            img = self.transforms(data)\n",
        "        #labels = np.array(self.labels[index])\n",
        "        #print(self.labels[index])\n",
        "        \n",
        "        if(self.merging_method == 0 ):\n",
        "            \n",
        "            if img.shape[0] == 3:\n",
        "              img = img[0] + img[1] + img[2]\n",
        "              img /= 3\n",
        "              img = img.reshape((1, 128, 128))\n",
        "              \n",
        "        elif(self.merging_method == 1):\n",
        "          \n",
        "            if img.shape[0] == 1:  # change graysclae images to RGB\n",
        "                zeros_torser = torch.zeros([1, 128, 128])\n",
        "                img = torch.cat((img,zeros_torser, zeros_torser),0)\n",
        "                \n",
        "        elif(self.merging_method == 2):  \n",
        "            if img.shape[0] == 1:  # change graysclae images to RGB\n",
        "                img = torch.cat((img,img, img),0)\n",
        "        \n",
        "            \n",
        "        labels = self.labels[index]\n",
        "        one_hot_labels = oneHotTransformer.toOneHot(labels)\n",
        "        return img, one_hot_labels\n",
        "\n",
        "    def __len__(self):\n",
        "        return self.data_len\n",
        "\n",
        "    \n"
      ],
      "execution_count": 0,
      "outputs": []
    },
    {
      "metadata": {
        "id": "jHCGMd-16rea",
        "colab_type": "code",
        "colab": {}
      },
      "cell_type": "code",
      "source": [
        "import random\n",
        "random.shuffle(images) # So we make sure test data has all kinds of label, in case\n",
        "                                 # the repartition is not even according to label names\n",
        "\n",
        "batch_size = 128\n",
        "\n",
        "# 80% train, 20% test\n",
        "index_cut =  int(len(images)*0.8)\n",
        "merge_method = 2\n",
        "\n",
        "train_dataset_orig = imageDataset(images[:index_cut], merging_method = merge_method)\n",
        "train_dataset_augmentation = imageDataset(images[:index_cut],\n",
        "                                       merging_method = merge_method,\n",
        "                                       transforms = transforms.Compose([\n",
        "                                           transforms.RandomRotation(40),\n",
        "                                           transforms.ToTensor(),\n",
        "                                       ])\n",
        "                                      )\n",
        "train_dataset = torch.utils.data.ConcatDataset([train_dataset_orig, train_dataset_augmentation])\n",
        "train_loader = torch.utils.data.DataLoader(dataset=train_dataset_orig,\n",
        "                                          batch_size=batch_size,\n",
        "                                          shuffle=True)\n",
        "\n",
        "test_dataset = imageDataset(images[index_cut:], merging_method = merge_method)\n",
        "test_loader = torch.utils.data.DataLoader(dataset=test_dataset,\n",
        "                                          batch_size=batch_size,\n",
        "                                          shuffle=True)"
      ],
      "execution_count": 0,
      "outputs": []
    },
    {
      "metadata": {
        "colab_type": "code",
        "id": "pNMm0PheN6B-",
        "colab": {}
      },
      "cell_type": "code",
      "source": [
        "data, target = next(train_loader.__iter__()) # Iteration works!"
      ],
      "execution_count": 0,
      "outputs": []
    },
    {
      "metadata": {
        "id": "-N71pB9TKKPK",
        "colab_type": "code",
        "outputId": "cc3bfbf5-406d-4d34-800d-1a3a96d79563",
        "colab": {
          "base_uri": "https://localhost:8080/",
          "height": 744
        }
      },
      "cell_type": "code",
      "source": [
        "# 3 channel show\n",
        "data, target = next(train_loader.__iter__()) # Iteration works!\n",
        "\n",
        "d0 = data[0]\n",
        "print(d0)\n",
        "t0 = target[0]\n",
        "\n",
        "f, axs = plt.subplots(1,3)\n",
        "axs[0].imshow(d0[0])\n",
        "axs[1].imshow(d0[1])\n",
        "axs[2].imshow(d0[2])\n",
        "plt.show()\n",
        "\n",
        "arr_ = d0.transpose(0,-1)\n",
        "arr_ = np.rot90(arr_, 3)\n",
        "arr_ = np.flip(arr_, axis=1)\n",
        "plt.imshow(arr_)\n",
        "plt.grid(None)\n",
        "plt.show()\n",
        "print(t0)\n",
        "print(\"labels:\", oneHotTransformer.toVocabulary(t0))"
      ],
      "execution_count": 68,
      "outputs": [
        {
          "output_type": "error",
          "ename": "RuntimeError",
          "evalue": "ignored",
          "traceback": [
            "\u001b[0;31m---------------------------------------------------------------------------\u001b[0m",
            "\u001b[0;31mRuntimeError\u001b[0m                              Traceback (most recent call last)",
            "\u001b[0;32m<ipython-input-68-28d2d46a0cb7>\u001b[0m in \u001b[0;36m<module>\u001b[0;34m()\u001b[0m\n\u001b[0;32m----> 1\u001b[0;31m \u001b[0mdata\u001b[0m\u001b[0;34m,\u001b[0m \u001b[0mtarget\u001b[0m \u001b[0;34m=\u001b[0m \u001b[0mnext\u001b[0m\u001b[0;34m(\u001b[0m\u001b[0mtrain_loader\u001b[0m\u001b[0;34m.\u001b[0m\u001b[0m__iter__\u001b[0m\u001b[0;34m(\u001b[0m\u001b[0;34m)\u001b[0m\u001b[0;34m)\u001b[0m \u001b[0;31m# Iteration works!\u001b[0m\u001b[0;34m\u001b[0m\u001b[0;34m\u001b[0m\u001b[0m\n\u001b[0m\u001b[1;32m      2\u001b[0m \u001b[0;34m\u001b[0m\u001b[0m\n\u001b[1;32m      3\u001b[0m \u001b[0md0\u001b[0m \u001b[0;34m=\u001b[0m \u001b[0mdata\u001b[0m\u001b[0;34m[\u001b[0m\u001b[0;36m0\u001b[0m\u001b[0;34m]\u001b[0m\u001b[0;34m\u001b[0m\u001b[0;34m\u001b[0m\u001b[0m\n\u001b[1;32m      4\u001b[0m \u001b[0mprint\u001b[0m\u001b[0;34m(\u001b[0m\u001b[0md0\u001b[0m\u001b[0;34m)\u001b[0m\u001b[0;34m\u001b[0m\u001b[0;34m\u001b[0m\u001b[0m\n\u001b[1;32m      5\u001b[0m \u001b[0mt0\u001b[0m \u001b[0;34m=\u001b[0m \u001b[0mtarget\u001b[0m\u001b[0;34m[\u001b[0m\u001b[0;36m0\u001b[0m\u001b[0;34m]\u001b[0m\u001b[0;34m\u001b[0m\u001b[0;34m\u001b[0m\u001b[0m\n",
            "\u001b[0;32m/usr/local/lib/python3.6/dist-packages/torch/utils/data/dataloader.py\u001b[0m in \u001b[0;36m__next__\u001b[0;34m(self)\u001b[0m\n\u001b[1;32m    613\u001b[0m         \u001b[0;32mif\u001b[0m \u001b[0mself\u001b[0m\u001b[0;34m.\u001b[0m\u001b[0mnum_workers\u001b[0m \u001b[0;34m==\u001b[0m \u001b[0;36m0\u001b[0m\u001b[0;34m:\u001b[0m  \u001b[0;31m# same-process loading\u001b[0m\u001b[0;34m\u001b[0m\u001b[0;34m\u001b[0m\u001b[0m\n\u001b[1;32m    614\u001b[0m             \u001b[0mindices\u001b[0m \u001b[0;34m=\u001b[0m \u001b[0mnext\u001b[0m\u001b[0;34m(\u001b[0m\u001b[0mself\u001b[0m\u001b[0;34m.\u001b[0m\u001b[0msample_iter\u001b[0m\u001b[0;34m)\u001b[0m  \u001b[0;31m# may raise StopIteration\u001b[0m\u001b[0;34m\u001b[0m\u001b[0;34m\u001b[0m\u001b[0m\n\u001b[0;32m--> 615\u001b[0;31m             \u001b[0mbatch\u001b[0m \u001b[0;34m=\u001b[0m \u001b[0mself\u001b[0m\u001b[0;34m.\u001b[0m\u001b[0mcollate_fn\u001b[0m\u001b[0;34m(\u001b[0m\u001b[0;34m[\u001b[0m\u001b[0mself\u001b[0m\u001b[0;34m.\u001b[0m\u001b[0mdataset\u001b[0m\u001b[0;34m[\u001b[0m\u001b[0mi\u001b[0m\u001b[0;34m]\u001b[0m \u001b[0;32mfor\u001b[0m \u001b[0mi\u001b[0m \u001b[0;32min\u001b[0m \u001b[0mindices\u001b[0m\u001b[0;34m]\u001b[0m\u001b[0;34m)\u001b[0m\u001b[0;34m\u001b[0m\u001b[0;34m\u001b[0m\u001b[0m\n\u001b[0m\u001b[1;32m    616\u001b[0m             \u001b[0;32mif\u001b[0m \u001b[0mself\u001b[0m\u001b[0;34m.\u001b[0m\u001b[0mpin_memory\u001b[0m\u001b[0;34m:\u001b[0m\u001b[0;34m\u001b[0m\u001b[0;34m\u001b[0m\u001b[0m\n\u001b[1;32m    617\u001b[0m                 \u001b[0mbatch\u001b[0m \u001b[0;34m=\u001b[0m \u001b[0mpin_memory_batch\u001b[0m\u001b[0;34m(\u001b[0m\u001b[0mbatch\u001b[0m\u001b[0;34m)\u001b[0m\u001b[0;34m\u001b[0m\u001b[0;34m\u001b[0m\u001b[0m\n",
            "\u001b[0;32m/usr/local/lib/python3.6/dist-packages/torch/utils/data/dataloader.py\u001b[0m in \u001b[0;36mdefault_collate\u001b[0;34m(batch)\u001b[0m\n\u001b[1;32m    230\u001b[0m     \u001b[0;32melif\u001b[0m \u001b[0misinstance\u001b[0m\u001b[0;34m(\u001b[0m\u001b[0mbatch\u001b[0m\u001b[0;34m[\u001b[0m\u001b[0;36m0\u001b[0m\u001b[0;34m]\u001b[0m\u001b[0;34m,\u001b[0m \u001b[0mcontainer_abcs\u001b[0m\u001b[0;34m.\u001b[0m\u001b[0mSequence\u001b[0m\u001b[0;34m)\u001b[0m\u001b[0;34m:\u001b[0m\u001b[0;34m\u001b[0m\u001b[0;34m\u001b[0m\u001b[0m\n\u001b[1;32m    231\u001b[0m         \u001b[0mtransposed\u001b[0m \u001b[0;34m=\u001b[0m \u001b[0mzip\u001b[0m\u001b[0;34m(\u001b[0m\u001b[0;34m*\u001b[0m\u001b[0mbatch\u001b[0m\u001b[0;34m)\u001b[0m\u001b[0;34m\u001b[0m\u001b[0;34m\u001b[0m\u001b[0m\n\u001b[0;32m--> 232\u001b[0;31m         \u001b[0;32mreturn\u001b[0m \u001b[0;34m[\u001b[0m\u001b[0mdefault_collate\u001b[0m\u001b[0;34m(\u001b[0m\u001b[0msamples\u001b[0m\u001b[0;34m)\u001b[0m \u001b[0;32mfor\u001b[0m \u001b[0msamples\u001b[0m \u001b[0;32min\u001b[0m \u001b[0mtransposed\u001b[0m\u001b[0;34m]\u001b[0m\u001b[0;34m\u001b[0m\u001b[0;34m\u001b[0m\u001b[0m\n\u001b[0m\u001b[1;32m    233\u001b[0m \u001b[0;34m\u001b[0m\u001b[0m\n\u001b[1;32m    234\u001b[0m     \u001b[0;32mraise\u001b[0m \u001b[0mTypeError\u001b[0m\u001b[0;34m(\u001b[0m\u001b[0;34m(\u001b[0m\u001b[0merror_msg\u001b[0m\u001b[0;34m.\u001b[0m\u001b[0mformat\u001b[0m\u001b[0;34m(\u001b[0m\u001b[0mtype\u001b[0m\u001b[0;34m(\u001b[0m\u001b[0mbatch\u001b[0m\u001b[0;34m[\u001b[0m\u001b[0;36m0\u001b[0m\u001b[0;34m]\u001b[0m\u001b[0;34m)\u001b[0m\u001b[0;34m)\u001b[0m\u001b[0;34m)\u001b[0m\u001b[0;34m)\u001b[0m\u001b[0;34m\u001b[0m\u001b[0;34m\u001b[0m\u001b[0m\n",
            "\u001b[0;32m/usr/local/lib/python3.6/dist-packages/torch/utils/data/dataloader.py\u001b[0m in \u001b[0;36m<listcomp>\u001b[0;34m(.0)\u001b[0m\n\u001b[1;32m    230\u001b[0m     \u001b[0;32melif\u001b[0m \u001b[0misinstance\u001b[0m\u001b[0;34m(\u001b[0m\u001b[0mbatch\u001b[0m\u001b[0;34m[\u001b[0m\u001b[0;36m0\u001b[0m\u001b[0;34m]\u001b[0m\u001b[0;34m,\u001b[0m \u001b[0mcontainer_abcs\u001b[0m\u001b[0;34m.\u001b[0m\u001b[0mSequence\u001b[0m\u001b[0;34m)\u001b[0m\u001b[0;34m:\u001b[0m\u001b[0;34m\u001b[0m\u001b[0;34m\u001b[0m\u001b[0m\n\u001b[1;32m    231\u001b[0m         \u001b[0mtransposed\u001b[0m \u001b[0;34m=\u001b[0m \u001b[0mzip\u001b[0m\u001b[0;34m(\u001b[0m\u001b[0;34m*\u001b[0m\u001b[0mbatch\u001b[0m\u001b[0;34m)\u001b[0m\u001b[0;34m\u001b[0m\u001b[0;34m\u001b[0m\u001b[0m\n\u001b[0;32m--> 232\u001b[0;31m         \u001b[0;32mreturn\u001b[0m \u001b[0;34m[\u001b[0m\u001b[0mdefault_collate\u001b[0m\u001b[0;34m(\u001b[0m\u001b[0msamples\u001b[0m\u001b[0;34m)\u001b[0m \u001b[0;32mfor\u001b[0m \u001b[0msamples\u001b[0m \u001b[0;32min\u001b[0m \u001b[0mtransposed\u001b[0m\u001b[0;34m]\u001b[0m\u001b[0;34m\u001b[0m\u001b[0;34m\u001b[0m\u001b[0m\n\u001b[0m\u001b[1;32m    233\u001b[0m \u001b[0;34m\u001b[0m\u001b[0m\n\u001b[1;32m    234\u001b[0m     \u001b[0;32mraise\u001b[0m \u001b[0mTypeError\u001b[0m\u001b[0;34m(\u001b[0m\u001b[0;34m(\u001b[0m\u001b[0merror_msg\u001b[0m\u001b[0;34m.\u001b[0m\u001b[0mformat\u001b[0m\u001b[0;34m(\u001b[0m\u001b[0mtype\u001b[0m\u001b[0;34m(\u001b[0m\u001b[0mbatch\u001b[0m\u001b[0;34m[\u001b[0m\u001b[0;36m0\u001b[0m\u001b[0;34m]\u001b[0m\u001b[0;34m)\u001b[0m\u001b[0;34m)\u001b[0m\u001b[0;34m)\u001b[0m\u001b[0;34m)\u001b[0m\u001b[0;34m\u001b[0m\u001b[0;34m\u001b[0m\u001b[0m\n",
            "\u001b[0;32m/usr/local/lib/python3.6/dist-packages/torch/utils/data/dataloader.py\u001b[0m in \u001b[0;36mdefault_collate\u001b[0;34m(batch)\u001b[0m\n\u001b[1;32m    207\u001b[0m             \u001b[0mstorage\u001b[0m \u001b[0;34m=\u001b[0m \u001b[0mbatch\u001b[0m\u001b[0;34m[\u001b[0m\u001b[0;36m0\u001b[0m\u001b[0;34m]\u001b[0m\u001b[0;34m.\u001b[0m\u001b[0mstorage\u001b[0m\u001b[0;34m(\u001b[0m\u001b[0;34m)\u001b[0m\u001b[0;34m.\u001b[0m\u001b[0m_new_shared\u001b[0m\u001b[0;34m(\u001b[0m\u001b[0mnumel\u001b[0m\u001b[0;34m)\u001b[0m\u001b[0;34m\u001b[0m\u001b[0;34m\u001b[0m\u001b[0m\n\u001b[1;32m    208\u001b[0m             \u001b[0mout\u001b[0m \u001b[0;34m=\u001b[0m \u001b[0mbatch\u001b[0m\u001b[0;34m[\u001b[0m\u001b[0;36m0\u001b[0m\u001b[0;34m]\u001b[0m\u001b[0;34m.\u001b[0m\u001b[0mnew\u001b[0m\u001b[0;34m(\u001b[0m\u001b[0mstorage\u001b[0m\u001b[0;34m)\u001b[0m\u001b[0;34m\u001b[0m\u001b[0;34m\u001b[0m\u001b[0m\n\u001b[0;32m--> 209\u001b[0;31m         \u001b[0;32mreturn\u001b[0m \u001b[0mtorch\u001b[0m\u001b[0;34m.\u001b[0m\u001b[0mstack\u001b[0m\u001b[0;34m(\u001b[0m\u001b[0mbatch\u001b[0m\u001b[0;34m,\u001b[0m \u001b[0;36m0\u001b[0m\u001b[0;34m,\u001b[0m \u001b[0mout\u001b[0m\u001b[0;34m=\u001b[0m\u001b[0mout\u001b[0m\u001b[0;34m)\u001b[0m\u001b[0;34m\u001b[0m\u001b[0;34m\u001b[0m\u001b[0m\n\u001b[0m\u001b[1;32m    210\u001b[0m     \u001b[0;32melif\u001b[0m \u001b[0melem_type\u001b[0m\u001b[0;34m.\u001b[0m\u001b[0m__module__\u001b[0m \u001b[0;34m==\u001b[0m \u001b[0;34m'numpy'\u001b[0m \u001b[0;32mand\u001b[0m \u001b[0melem_type\u001b[0m\u001b[0;34m.\u001b[0m\u001b[0m__name__\u001b[0m \u001b[0;34m!=\u001b[0m \u001b[0;34m'str_'\u001b[0m\u001b[0;31m \u001b[0m\u001b[0;31m\\\u001b[0m\u001b[0;34m\u001b[0m\u001b[0;34m\u001b[0m\u001b[0m\n\u001b[1;32m    211\u001b[0m             \u001b[0;32mand\u001b[0m \u001b[0melem_type\u001b[0m\u001b[0;34m.\u001b[0m\u001b[0m__name__\u001b[0m \u001b[0;34m!=\u001b[0m \u001b[0;34m'string_'\u001b[0m\u001b[0;34m:\u001b[0m\u001b[0;34m\u001b[0m\u001b[0;34m\u001b[0m\u001b[0m\n",
            "\u001b[0;31mRuntimeError\u001b[0m: invalid argument 0: Sizes of tensors must match except in dimension 0. Got 3 and 1 in dimension 1 at /pytorch/aten/src/TH/generic/THTensorMoreMath.cpp:1333"
          ]
        }
      ]
    },
    {
      "metadata": {
        "colab_type": "text",
        "id": "Cv5rJVZ2P-Hq"
      },
      "cell_type": "markdown",
      "source": [
        "### Models\n",
        "\n",
        "First, simple CNN architecture( exercise 3)"
      ]
    },
    {
      "metadata": {
        "colab_type": "code",
        "id": "0AJm-4rdP8TA",
        "outputId": "849d8e9d-0609-417d-a9ed-3937376e5732",
        "colab": {
          "base_uri": "https://localhost:8080/",
          "height": 714
        }
      },
      "cell_type": "code",
      "source": [
        "class sim_cnn_v1(nn.Module):\n",
        "    def __init__(self, nclass = 14, input_channels=1):\n",
        "        super(sim_cnn_v1,self).__init__()\n",
        "        self.layer1 = nn.Sequential(\n",
        "            nn.Conv2d(input_channels, 16,kernel_size = 3,padding = 0,stride = 1),\n",
        "            nn.BatchNorm2d(16),\n",
        "            nn.ReLU(),\n",
        "            nn.MaxPool2d(kernel_size = 2, stride = 2)\n",
        "        )\n",
        "        self.layer2 = nn.Sequential(\n",
        "            nn.Conv2d(16,32,kernel_size = 3,padding = 0,stride = 1),\n",
        "            nn.BatchNorm2d(32),\n",
        "            nn.ReLU(),\n",
        "            nn.MaxPool2d(kernel_size = 2, stride = 2)\n",
        "        )\n",
        "        self.fc1 = nn.Linear(30*30*32, 30*32)\n",
        "        self.fc2 = nn.Linear(30*32, nclass)\n",
        "        \n",
        "    def forward(self,x):\n",
        "        out = self.layer1(x)\n",
        "        out = self.layer2(out)\n",
        "        out = out.view(out.size(0),-1)\n",
        "        out = F.relu(self.fc1(out))\n",
        "        output = self.fc2(out)\n",
        "        return output\n",
        "        \n",
        "model = sim_cnn_v1().to(device)\n",
        "optimizer = torch.optim.Adam(model.parameters(), lr = 0.01) #Adam\n",
        "criterion = nn.MultiLabelSoftMarginLoss() \n",
        "print(model)\n",
        "from torchsummary import summary\n",
        "summary(model, (1, 128, 128))"
      ],
      "execution_count": 66,
      "outputs": [
        {
          "output_type": "stream",
          "text": [
            "sim_cnn_v1(\n",
            "  (layer1): Sequential(\n",
            "    (0): Conv2d(1, 16, kernel_size=(3, 3), stride=(1, 1))\n",
            "    (1): BatchNorm2d(16, eps=1e-05, momentum=0.1, affine=True, track_running_stats=True)\n",
            "    (2): ReLU()\n",
            "    (3): MaxPool2d(kernel_size=2, stride=2, padding=0, dilation=1, ceil_mode=False)\n",
            "  )\n",
            "  (layer2): Sequential(\n",
            "    (0): Conv2d(16, 32, kernel_size=(3, 3), stride=(1, 1))\n",
            "    (1): BatchNorm2d(32, eps=1e-05, momentum=0.1, affine=True, track_running_stats=True)\n",
            "    (2): ReLU()\n",
            "    (3): MaxPool2d(kernel_size=2, stride=2, padding=0, dilation=1, ceil_mode=False)\n",
            "  )\n",
            "  (fc1): Linear(in_features=28800, out_features=960, bias=True)\n",
            "  (fc2): Linear(in_features=960, out_features=14, bias=True)\n",
            ")\n",
            "----------------------------------------------------------------\n",
            "        Layer (type)               Output Shape         Param #\n",
            "================================================================\n",
            "            Conv2d-1         [-1, 16, 126, 126]             160\n",
            "       BatchNorm2d-2         [-1, 16, 126, 126]              32\n",
            "              ReLU-3         [-1, 16, 126, 126]               0\n",
            "         MaxPool2d-4           [-1, 16, 63, 63]               0\n",
            "            Conv2d-5           [-1, 32, 61, 61]           4,640\n",
            "       BatchNorm2d-6           [-1, 32, 61, 61]              64\n",
            "              ReLU-7           [-1, 32, 61, 61]               0\n",
            "         MaxPool2d-8           [-1, 32, 30, 30]               0\n",
            "            Linear-9                  [-1, 960]      27,648,960\n",
            "           Linear-10                   [-1, 14]          13,454\n",
            "================================================================\n",
            "Total params: 27,667,310\n",
            "Trainable params: 27,667,310\n",
            "Non-trainable params: 0\n",
            "----------------------------------------------------------------\n",
            "Input size (MB): 0.06\n",
            "Forward/backward pass size (MB): 9.25\n",
            "Params size (MB): 105.54\n",
            "Estimated Total Size (MB): 114.86\n",
            "----------------------------------------------------------------\n"
          ],
          "name": "stdout"
        }
      ]
    },
    {
      "metadata": {
        "id": "3YkrsOUHGzWh",
        "colab_type": "code",
        "colab": {}
      },
      "cell_type": "code",
      "source": [
        "class one_layer_cnn(nn.Module):\n",
        "    def __init__(self, nclass = 14, input_channels=1):\n",
        "        super().__init__()\n",
        "        self.layer1 = nn.Sequential(\n",
        "            nn.Conv2d(input_channels,16,kernel_size = 3,padding = 0,stride = 1),\n",
        "            nn.BatchNorm2d(16),\n",
        "            nn.ReLU(),\n",
        "            nn.MaxPool2d(kernel_size = 2, stride = 2)\n",
        "        )\n",
        "        self.fc1 = nn.Linear(16*63*63, nclass)\n",
        "        \n",
        "    def forward(self,x):\n",
        "        out = self.layer1(x)\n",
        "        out = out.view(out.size(0),-1)\n",
        "        output = self.fc1(out)\n",
        "        return torch.sigmoid(output)"
      ],
      "execution_count": 0,
      "outputs": []
    },
    {
      "metadata": {
        "id": "9P5jmw1GDwK8",
        "colab_type": "code",
        "colab": {}
      },
      "cell_type": "code",
      "source": [
        "class deep_cnn(nn.Module):\n",
        "    def __init__(self, input_channels=1):\n",
        "        super().__init__()\n",
        "        self.conv1 = nn.Sequential(\n",
        "            nn.Conv2d(input_channels, 16, kernel_size=5),\n",
        "            nn.BatchNorm2d(16),\n",
        "            nn.ReLU(),\n",
        "            nn.MaxPool2d(5, stride=3)\n",
        "        )\n",
        "        self.conv2 = nn.Sequential(\n",
        "            nn.Conv2d(16, 32, kernel_size=5),\n",
        "            nn.BatchNorm2d(32),\n",
        "            nn.ReLU(),\n",
        "            nn.MaxPool2d(5, stride=3)\n",
        "        )\n",
        "        self.conv3 = nn.Sequential(\n",
        "            nn.Conv2d(32, 64, kernel_size=5),\n",
        "            nn.BatchNorm2d(64),\n",
        "            nn.ReLU(),\n",
        "            nn.MaxPool2d(5, stride=3)\n",
        "        )\n",
        "        self.conv4 = nn.Sequential(\n",
        "            nn.Conv2d(64, 128, kernel_size=5),\n",
        "            nn.BatchNorm2d(128),\n",
        "            nn.ReLU(),\n",
        "            nn.MaxPool2d(10, stride=3)\n",
        "        )\n",
        "        #self.fc1 = nn.Linear(4096, 20)\n",
        "        self.lastlayer = nn.Sequential(\n",
        "   #         nn.Dropout(p=0.5),\n",
        "            nn.Linear(4096//64, 14)\n",
        "        )\n",
        "        \n",
        "    def forward(self, x):\n",
        "        out = self.conv1(x)\n",
        "        out = self.conv2(out)\n",
        "        out = self.conv3(out)\n",
        "        #out = self.conv4(out)\n",
        "        out = out.view(out.size(0),-1)\n",
        "        out = self.lastlayer(out)\n",
        "        return out\n",
        "model = deep_cnn()"
      ],
      "execution_count": 0,
      "outputs": []
    },
    {
      "metadata": {
        "id": "IBoRHb7Bw7Sw",
        "colab_type": "code",
        "colab": {}
      },
      "cell_type": "code",
      "source": [
        "# TODO\n",
        "class lstm(nn.Module):\n",
        "    pass"
      ],
      "execution_count": 0,
      "outputs": []
    },
    {
      "metadata": {
        "colab_type": "text",
        "id": "NSwCiJHTTDYQ"
      },
      "cell_type": "markdown",
      "source": [
        "### Training"
      ]
    },
    {
      "metadata": {
        "colab_type": "code",
        "id": "1ofzw5ggojdp",
        "colab": {}
      },
      "cell_type": "code",
      "source": [
        "def train_net(model, epoch, trainLoss, interval = 10):\n",
        "    # set model to train\n",
        "    model.train()\n",
        "    loss = 0\n",
        "    #acc = 0\n",
        "    \n",
        "    for batch_idx, (data, target) in enumerate(train_loader):\n",
        "        \n",
        "        data = data.to(device) # to GPU\n",
        "        target = target.float().to(device) # to GPU, \".float()\" is improtant, otherwise got error.\n",
        "        \n",
        "        # set zero gradient buffer\n",
        "        optimizer.zero_grad()\n",
        "        \n",
        "        # compute the output and Loss\n",
        "        output = model(data)\n",
        "        Loss = criterion(output, target)\n",
        "        \n",
        "        # back prop\n",
        "        Loss.backward()\n",
        "        \n",
        "        # update weights\n",
        "        optimizer.step()\n",
        "        \n",
        "        # print information\n",
        "        if batch_idx % interval == 0:\n",
        "            print(\"Train Epoch: {} [{}/{} {:.0f}%]\\tLoss: {:.6f}\".format(epoch, len(data)*batch_idx, len(train_loader)*len(data), batch_idx/len(train_loader)*100, Loss.data.item()))   \n",
        "       \n",
        "        loss += Loss\n",
        "    loss/=len(train_loader)\n",
        "    trainLoss.append(loss)\n",
        "\n",
        "def validate(model, lossv, verbose=True):\n",
        "  loss, acc, prec, rec = 0,0,0,0\n",
        "  for i, sample in enumerate(test_loader):\n",
        "    inputv, targetv = sample\n",
        "    inputv = inputv.to(device)\n",
        "    output = model(inputv)\n",
        "   \n",
        "    loss += criterion(output, targetv.data.to(device).float()).data.item()\n",
        "  \n",
        "  loss /= len(test_loader)\n",
        "  \n",
        "  lossv.append(loss)\n",
        "  \n",
        "  if verbose:\n",
        "    print('Validation set: Average loss: {:.4f}\\n'.format(\n",
        "            loss))"
      ],
      "execution_count": 0,
      "outputs": []
    },
    {
      "metadata": {
        "colab_type": "code",
        "id": "KOwb6HuOIwA9",
        "outputId": "afd03d1c-b559-4bd0-efec-79f4cafdca4e",
        "colab": {
          "base_uri": "https://localhost:8080/",
          "height": 2657
        }
      },
      "cell_type": "code",
      "source": [
        "%%time\n",
        "#model = one_layer_cnn().to(device)\n",
        "#model = sim_cnn_v1().to(device)\n",
        "model = deep_cnn(input_channels=3).to(device)\n",
        "#model = lstm()\n",
        "epoch = 10\n",
        "\n",
        "#learning_rate = 0.000001 # for sim_cnn_v1\n",
        "learning_rate = 0.0001 # for deep_cnn\n",
        "optimizer = torch.optim.Adam(model.parameters(), lr = learning_rate) #Adam\n",
        "criterion = nn.MultiLabelSoftMarginLoss()\n",
        "#criterion = nn.BCELoss()\n",
        "train_loss, val_loss = [], []\n",
        "for i in range(1,1+epoch):\n",
        "    train_net(model, i, train_loss)\n",
        "    validate(model, val_loss)"
      ],
      "execution_count": 105,
      "outputs": [
        {
          "output_type": "stream",
          "text": [
            "Train Epoch: 1 [0/16000 0%]\tLoss: 0.852572\n",
            "Train Epoch: 1 [1280/16000 8%]\tLoss: 0.769733\n",
            "Train Epoch: 1 [2560/16000 16%]\tLoss: 0.717237\n",
            "Train Epoch: 1 [3840/16000 24%]\tLoss: 0.691630\n",
            "Train Epoch: 1 [5120/16000 32%]\tLoss: 0.673751\n",
            "Train Epoch: 1 [6400/16000 40%]\tLoss: 0.649412\n",
            "Train Epoch: 1 [7680/16000 48%]\tLoss: 0.625896\n",
            "Train Epoch: 1 [8960/16000 56%]\tLoss: 0.614843\n",
            "Train Epoch: 1 [10240/16000 64%]\tLoss: 0.589076\n",
            "Train Epoch: 1 [11520/16000 72%]\tLoss: 0.582787\n",
            "Train Epoch: 1 [12800/16000 80%]\tLoss: 0.566009\n",
            "Train Epoch: 1 [14080/16000 88%]\tLoss: 0.548768\n",
            "Train Epoch: 1 [15360/16000 96%]\tLoss: 0.527816\n",
            "Validation set: Average loss: 0.5261\n",
            "\n",
            "Train Epoch: 2 [0/16000 0%]\tLoss: 0.520657\n",
            "Train Epoch: 2 [1280/16000 8%]\tLoss: 0.507098\n",
            "Train Epoch: 2 [2560/16000 16%]\tLoss: 0.499979\n",
            "Train Epoch: 2 [3840/16000 24%]\tLoss: 0.478416\n",
            "Train Epoch: 2 [5120/16000 32%]\tLoss: 0.472383\n",
            "Train Epoch: 2 [6400/16000 40%]\tLoss: 0.452370\n",
            "Train Epoch: 2 [7680/16000 48%]\tLoss: 0.448007\n",
            "Train Epoch: 2 [8960/16000 56%]\tLoss: 0.438041\n",
            "Train Epoch: 2 [10240/16000 64%]\tLoss: 0.414991\n",
            "Train Epoch: 2 [11520/16000 72%]\tLoss: 0.411913\n",
            "Train Epoch: 2 [12800/16000 80%]\tLoss: 0.403376\n",
            "Train Epoch: 2 [14080/16000 88%]\tLoss: 0.391296\n",
            "Train Epoch: 2 [15360/16000 96%]\tLoss: 0.377834\n",
            "Validation set: Average loss: 0.3798\n",
            "\n",
            "Train Epoch: 3 [0/16000 0%]\tLoss: 0.377834\n",
            "Train Epoch: 3 [1280/16000 8%]\tLoss: 0.375155\n",
            "Train Epoch: 3 [2560/16000 16%]\tLoss: 0.354369\n",
            "Train Epoch: 3 [3840/16000 24%]\tLoss: 0.361232\n",
            "Train Epoch: 3 [5120/16000 32%]\tLoss: 0.350535\n",
            "Train Epoch: 3 [6400/16000 40%]\tLoss: 0.340672\n",
            "Train Epoch: 3 [7680/16000 48%]\tLoss: 0.340145\n",
            "Train Epoch: 3 [8960/16000 56%]\tLoss: 0.319806\n",
            "Train Epoch: 3 [10240/16000 64%]\tLoss: 0.316976\n",
            "Train Epoch: 3 [11520/16000 72%]\tLoss: 0.313129\n",
            "Train Epoch: 3 [12800/16000 80%]\tLoss: 0.304744\n",
            "Train Epoch: 3 [14080/16000 88%]\tLoss: 0.319584\n",
            "Train Epoch: 3 [15360/16000 96%]\tLoss: 0.295459\n",
            "Validation set: Average loss: 0.2982\n",
            "\n",
            "Train Epoch: 4 [0/16000 0%]\tLoss: 0.299842\n",
            "Train Epoch: 4 [1280/16000 8%]\tLoss: 0.296657\n",
            "Train Epoch: 4 [2560/16000 16%]\tLoss: 0.289143\n",
            "Train Epoch: 4 [3840/16000 24%]\tLoss: 0.288054\n",
            "Train Epoch: 4 [5120/16000 32%]\tLoss: 0.281240\n",
            "Train Epoch: 4 [6400/16000 40%]\tLoss: 0.279396\n",
            "Train Epoch: 4 [7680/16000 48%]\tLoss: 0.267467\n",
            "Train Epoch: 4 [8960/16000 56%]\tLoss: 0.253448\n",
            "Train Epoch: 4 [10240/16000 64%]\tLoss: 0.256564\n",
            "Train Epoch: 4 [11520/16000 72%]\tLoss: 0.284604\n",
            "Train Epoch: 4 [12800/16000 80%]\tLoss: 0.235624\n",
            "Train Epoch: 4 [14080/16000 88%]\tLoss: 0.256417\n",
            "Train Epoch: 4 [15360/16000 96%]\tLoss: 0.242798\n",
            "Validation set: Average loss: 0.2566\n",
            "\n",
            "Train Epoch: 5 [0/16000 0%]\tLoss: 0.247013\n",
            "Train Epoch: 5 [1280/16000 8%]\tLoss: 0.247331\n",
            "Train Epoch: 5 [2560/16000 16%]\tLoss: 0.256975\n",
            "Train Epoch: 5 [3840/16000 24%]\tLoss: 0.231804\n",
            "Train Epoch: 5 [5120/16000 32%]\tLoss: 0.254713\n",
            "Train Epoch: 5 [6400/16000 40%]\tLoss: 0.240686\n",
            "Train Epoch: 5 [7680/16000 48%]\tLoss: 0.247734\n",
            "Train Epoch: 5 [8960/16000 56%]\tLoss: 0.240028\n",
            "Train Epoch: 5 [10240/16000 64%]\tLoss: 0.240586\n",
            "Train Epoch: 5 [11520/16000 72%]\tLoss: 0.254482\n",
            "Train Epoch: 5 [12800/16000 80%]\tLoss: 0.238812\n",
            "Train Epoch: 5 [14080/16000 88%]\tLoss: 0.251719\n",
            "Train Epoch: 5 [15360/16000 96%]\tLoss: 0.218705\n",
            "Validation set: Average loss: 0.2347\n",
            "\n",
            "Train Epoch: 6 [0/16000 0%]\tLoss: 0.227762\n",
            "Train Epoch: 6 [1280/16000 8%]\tLoss: 0.234538\n",
            "Train Epoch: 6 [2560/16000 16%]\tLoss: 0.230876\n",
            "Train Epoch: 6 [3840/16000 24%]\tLoss: 0.219389\n",
            "Train Epoch: 6 [5120/16000 32%]\tLoss: 0.236976\n",
            "Train Epoch: 6 [6400/16000 40%]\tLoss: 0.227345\n",
            "Train Epoch: 6 [7680/16000 48%]\tLoss: 0.219886\n",
            "Train Epoch: 6 [8960/16000 56%]\tLoss: 0.214408\n",
            "Train Epoch: 6 [10240/16000 64%]\tLoss: 0.209209\n",
            "Train Epoch: 6 [11520/16000 72%]\tLoss: 0.227257\n",
            "Train Epoch: 6 [12800/16000 80%]\tLoss: 0.230142\n",
            "Train Epoch: 6 [14080/16000 88%]\tLoss: 0.226752\n",
            "Train Epoch: 6 [15360/16000 96%]\tLoss: 0.223535\n",
            "Validation set: Average loss: 0.2222\n",
            "\n",
            "Train Epoch: 7 [0/16000 0%]\tLoss: 0.226355\n",
            "Train Epoch: 7 [1280/16000 8%]\tLoss: 0.211580\n",
            "Train Epoch: 7 [2560/16000 16%]\tLoss: 0.229475\n",
            "Train Epoch: 7 [3840/16000 24%]\tLoss: 0.213821\n",
            "Train Epoch: 7 [5120/16000 32%]\tLoss: 0.192879\n",
            "Train Epoch: 7 [6400/16000 40%]\tLoss: 0.207623\n",
            "Train Epoch: 7 [7680/16000 48%]\tLoss: 0.211527\n",
            "Train Epoch: 7 [8960/16000 56%]\tLoss: 0.204492\n",
            "Train Epoch: 7 [10240/16000 64%]\tLoss: 0.198117\n",
            "Train Epoch: 7 [11520/16000 72%]\tLoss: 0.218551\n",
            "Train Epoch: 7 [12800/16000 80%]\tLoss: 0.208650\n",
            "Train Epoch: 7 [14080/16000 88%]\tLoss: 0.207884\n",
            "Train Epoch: 7 [15360/16000 96%]\tLoss: 0.209676\n",
            "Validation set: Average loss: 0.2131\n",
            "\n",
            "Train Epoch: 8 [0/16000 0%]\tLoss: 0.212545\n",
            "Train Epoch: 8 [1280/16000 8%]\tLoss: 0.200127\n",
            "Train Epoch: 8 [2560/16000 16%]\tLoss: 0.209203\n",
            "Train Epoch: 8 [3840/16000 24%]\tLoss: 0.212949\n",
            "Train Epoch: 8 [5120/16000 32%]\tLoss: 0.209207\n",
            "Train Epoch: 8 [6400/16000 40%]\tLoss: 0.213255\n",
            "Train Epoch: 8 [7680/16000 48%]\tLoss: 0.223676\n",
            "Train Epoch: 8 [8960/16000 56%]\tLoss: 0.211712\n",
            "Train Epoch: 8 [10240/16000 64%]\tLoss: 0.192324\n",
            "Train Epoch: 8 [11520/16000 72%]\tLoss: 0.195170\n",
            "Train Epoch: 8 [12800/16000 80%]\tLoss: 0.206907\n",
            "Train Epoch: 8 [14080/16000 88%]\tLoss: 0.192717\n",
            "Train Epoch: 8 [15360/16000 96%]\tLoss: 0.207629\n",
            "Validation set: Average loss: 0.2060\n",
            "\n",
            "Train Epoch: 9 [0/16000 0%]\tLoss: 0.202393\n",
            "Train Epoch: 9 [1280/16000 8%]\tLoss: 0.207837\n",
            "Train Epoch: 9 [2560/16000 16%]\tLoss: 0.203639\n",
            "Train Epoch: 9 [3840/16000 24%]\tLoss: 0.194198\n",
            "Train Epoch: 9 [5120/16000 32%]\tLoss: 0.184103\n",
            "Train Epoch: 9 [6400/16000 40%]\tLoss: 0.209813\n",
            "Train Epoch: 9 [7680/16000 48%]\tLoss: 0.205397\n",
            "Train Epoch: 9 [8960/16000 56%]\tLoss: 0.197756\n",
            "Train Epoch: 9 [10240/16000 64%]\tLoss: 0.199323\n",
            "Train Epoch: 9 [11520/16000 72%]\tLoss: 0.180744\n",
            "Train Epoch: 9 [12800/16000 80%]\tLoss: 0.205915\n",
            "Train Epoch: 9 [14080/16000 88%]\tLoss: 0.204825\n",
            "Train Epoch: 9 [15360/16000 96%]\tLoss: 0.179109\n",
            "Validation set: Average loss: 0.2021\n",
            "\n",
            "Train Epoch: 10 [0/16000 0%]\tLoss: 0.199832\n",
            "Train Epoch: 10 [1280/16000 8%]\tLoss: 0.193638\n",
            "Train Epoch: 10 [2560/16000 16%]\tLoss: 0.190430\n",
            "Train Epoch: 10 [3840/16000 24%]\tLoss: 0.174365\n",
            "Train Epoch: 10 [5120/16000 32%]\tLoss: 0.184858\n",
            "Train Epoch: 10 [6400/16000 40%]\tLoss: 0.189235\n",
            "Train Epoch: 10 [7680/16000 48%]\tLoss: 0.182969\n",
            "Train Epoch: 10 [8960/16000 56%]\tLoss: 0.177824\n",
            "Train Epoch: 10 [10240/16000 64%]\tLoss: 0.194589\n",
            "Train Epoch: 10 [11520/16000 72%]\tLoss: 0.192090\n",
            "Train Epoch: 10 [12800/16000 80%]\tLoss: 0.195082\n",
            "Train Epoch: 10 [14080/16000 88%]\tLoss: 0.195351\n",
            "Train Epoch: 10 [15360/16000 96%]\tLoss: 0.203412\n",
            "Validation set: Average loss: 0.1987\n",
            "\n",
            "CPU times: user 4min 15s, sys: 16.3 s, total: 4min 32s\n",
            "Wall time: 4min 32s\n"
          ],
          "name": "stdout"
        }
      ]
    },
    {
      "metadata": {
        "id": "0FQYCThgq6RJ",
        "colab_type": "code",
        "outputId": "6b97b70e-7e47-47d8-8137-10fa3656bf01",
        "colab": {
          "base_uri": "https://localhost:8080/",
          "height": 376
        }
      },
      "cell_type": "code",
      "source": [
        "# The schema allows to see if the model was properly fitted\n",
        "# that allows us to learn if the initial learning rate was appropriate\n",
        "plt.title(\"Model loss\")\n",
        "plt.plot(train_loss, label=\"train\")\n",
        "plt.plot(val_loss, label=\"validation\")\n",
        "plt.ylabel(\"loss\")\n",
        "plt.xlabel(\"epoch\")\n",
        "plt.legend()\n",
        "plt.show()"
      ],
      "execution_count": 102,
      "outputs": [
        {
          "output_type": "display_data",
          "data": {
            "image/png": "[encoded data removed]",
            "text/plain": [
              "<matplotlib.figure.Figure at 0x7f7f27d4c630>"
            ]
          },
          "metadata": {
            "tags": []
          }
        }
      ]
    },
    {
      "metadata": {
        "id": "DVf1FbF-xVmr",
        "colab_type": "text"
      },
      "cell_type": "markdown",
      "source": [
        "### Treshold optimization\n",
        "DISCLAIMER : Does not work as intended.\n",
        "\n",
        "In that part we strive to optimize the treshold of activation of each label, in order to maximize F1 score"
      ]
    },
    {
      "metadata": {
        "id": "YNwv6YM_8i5n",
        "colab_type": "code",
        "colab": {}
      },
      "cell_type": "code",
      "source": [
        "# Concatenating all the batches _label_ output in order to not compute it several \n",
        "# times for F1 score optimization.\n",
        "import sklearn.metrics\n",
        "def make_pred(bounded_output_all, tresholds):\n",
        "  return bounded_output_all.data.gt(tresholds) # Activation\n",
        "\n",
        "def compute_f1(tresholds_as_tensor):\n",
        "  f1 = 0 # Will be the average f1 over all batches (according to their sizes)\n",
        "  for i, (inputv, targetv) in enumerate(test_loader):\n",
        "    inputv = inputv.to(device)\n",
        "    targetv = targetv.to(device)\n",
        "    \n",
        "    batch_size = len(inputv)\n",
        "    bounded_output = torch.sigmoid(model(inputv))\n",
        "    \n",
        "    pred = bounded_output.data.gt(tresholds_as_tensor)\n",
        "    curr_f1 = sklearn.metrics.f1_score(targetv.cpu(), pred.cpu(), average=\"micro\") # same result\n",
        "    f1 += curr_f1 * (batch_size)\n",
        "  return f1/len(test_dataset)"
      ],
      "execution_count": 0,
      "outputs": []
    },
    {
      "metadata": {
        "id": "4iLUrnHkZrpH",
        "colab_type": "code",
        "colab": {}
      },
      "cell_type": "code",
      "source": [
        "ounded_output = torch.sigmoid(model(inputv))"
      ],
      "execution_count": 0,
      "outputs": []
    },
    {
      "metadata": {
        "id": "NZ6R1-YLWbrX",
        "colab_type": "code",
        "colab": {
          "base_uri": "https://localhost:8080/",
          "height": 363
        },
        "outputId": "29c3d5da-f7ea-41de-e91e-4d676e13cacf"
      },
      "cell_type": "code",
      "source": [
        "    plt.xlabel(\"treshold\")\n",
        "    plt.ylabel(\"F1 score\")\n",
        "    for label in range(0,14):\n",
        "      plt.plot(tresholds , tab[label], label=oneHotTransformer.vocabulary[label])\n",
        "      imax = np.argmax(tab[label])\n",
        "      plt.scatter(tresholds[imax], tab[label][imax], marker=\"+\")\n",
        "    plt.legend()\n",
        "    plt.show()"
      ],
      "execution_count": 31,
      "outputs": [
        {
          "output_type": "display_data",
          "data": {
            "image/png": "[encoded data removed]",
            "text/plain": [
              "<matplotlib.figure.Figure at 0x7f7f21ccc390>"
            ]
          },
          "metadata": {
            "tags": []
          }
        }
      ]
    },
    {
      "metadata": {
        "id": "e4p03yGshqTs",
        "colab_type": "code",
        "outputId": "54f5c721-bcfc-4fdb-9727-f91088dc97f0",
        "colab": {
          "base_uri": "https://localhost:8080/",
          "height": 3089
        }
      },
      "cell_type": "code",
      "source": [
        "# Optimizing treshold for each label : Iterating over labels\n",
        "# Dropout layers have the effect of making a network not returning the same output for a same output at different runs\n",
        "# This means that F1 score function will be \"noisy\", ie it won't be a smooth curve.\n",
        "# This makes optimization much more complicate than simply a SGD descent. To be tolerant of that case, \n",
        "# we check all values in order to not be tricked by noise, and choose the observed maximum.\n",
        "\n",
        "    \n",
        "class tresholdOptimizer():\n",
        "  def __init__(self, paces=10, max=1): # High pace means more precision but slower computation\n",
        "    self.tresholds = np.linspace(0,max,paces)\n",
        "    for i in range(14): # label\n",
        "      current_tresholds = [1 for _ in range(14)] # 1 so other labels are never activated,\n",
        "                                                 # and only the currently studied treshold make the f1 vary\n",
        "      f1 = []\n",
        "      print(\"label\", i)\n",
        "      for t in self.tresholds:\n",
        "        current_tresholds[i] = t\n",
        "        tresholds_as_tensor = torch.Tensor(current_tresholds).to(device) \n",
        "        f1_curr = compute_f1(tresholds_as_tensor)\n",
        "        f1.append(f1_curr)\n",
        "        #print(\"  t=\", t, \"\\t f1 =\", f1_curr)\n",
        "      if i==0:\n",
        "        self.tab = [f1]\n",
        "      else:\n",
        "        self.tab.append(f1)\n",
        "        \n",
        "  def view(self):\n",
        "    plt.xlabel(\"treshold\")\n",
        "    plt.ylabel(\"F1 score\")\n",
        "    for label in range(0,14):\n",
        "      plt.plot(self.tresholds , self.tab[label], label=oneHotTransformer.vocabulary[label])\n",
        "      imax = np.argmax(self.tab[label])\n",
        "      plt.scatter(self.tresholds[imax], self.tab[label][imax], marker=\"+\")\n",
        "    plt.legend()\n",
        "    plt.show()\n",
        "\n",
        "  def get_best_tresholds(self):\n",
        "    res = []\n",
        "    for label in range(0,14):\n",
        "      imax=np.argmax(self.tab[label])\n",
        "      res.append(self.tresholds[imax])\n",
        "    return res\n",
        "\n",
        "treshold_opt = tresholdOptimizer(max=0.4) \n",
        "treshold_opt.view()\n",
        "print(\"tresholds:\", treshold_opt.get_best_tresholds())"
      ],
      "execution_count": 37,
      "outputs": [
        {
          "output_type": "stream",
          "text": [
            "label 0\n",
            "  t= 0.0 \t f1 = 0.01738558436554055\n"
          ],
          "name": "stdout"
        },
        {
          "output_type": "stream",
          "text": [
            "/usr/local/lib/python3.6/dist-packages/sklearn/metrics/classification.py:1143: UndefinedMetricWarning: F-score is ill-defined and being set to 0.0 due to no predicted samples.\n",
            "  'precision', 'predicted', average, warn_for)\n"
          ],
          "name": "stderr"
        },
        {
          "output_type": "stream",
          "text": [
            "  t= 0.044444444444444446 \t f1 = 0.0023332271109233692\n",
            "  t= 0.08888888888888889 \t f1 = 0.0\n",
            "  t= 0.13333333333333333 \t f1 = 0.0\n",
            "  t= 0.17777777777777778 \t f1 = 0.0\n",
            "  t= 0.22222222222222224 \t f1 = 0.0\n",
            "  t= 0.26666666666666666 \t f1 = 0.0\n",
            "  t= 0.3111111111111111 \t f1 = 0.0\n",
            "  t= 0.35555555555555557 \t f1 = 0.0\n",
            "  t= 0.4 \t f1 = 0.0\n",
            "label 1\n",
            "  t= 0.0 \t f1 = 0.022946867674901433\n",
            "  t= 0.044444444444444446 \t f1 = 0.02106452738606191\n",
            "  t= 0.08888888888888889 \t f1 = 0.009571118171103147\n",
            "  t= 0.13333333333333333 \t f1 = 0.003446778711484594\n",
            "  t= 0.17777777777777778 \t f1 = 0.0008045254556882464\n",
            "  t= 0.22222222222222224 \t f1 = 0.00037209302325581393\n",
            "  t= 0.26666666666666666 \t f1 = 0.0\n",
            "  t= 0.3111111111111111 \t f1 = 0.0\n",
            "  t= 0.35555555555555557 \t f1 = 0.0\n",
            "  t= 0.4 \t f1 = 0.0\n",
            "label 2\n",
            "  t= 0.0 \t f1 = 0.03660035063359453\n",
            "  t= 0.044444444444444446 \t f1 = 0.03882949077469934\n",
            "  t= 0.08888888888888889 \t f1 = 0.029916956003431524\n",
            "  t= 0.13333333333333333 \t f1 = 0.021351904801913242\n",
            "  t= 0.17777777777777778 \t f1 = 0.012070142426607897\n",
            "  t= 0.22222222222222224 \t f1 = 0.0067460917444937644\n",
            "  t= 0.26666666666666666 \t f1 = 0.004760823649610836\n",
            "  t= 0.3111111111111111 \t f1 = 0.001987719298245614\n",
            "  t= 0.35555555555555557 \t f1 = 0.0026527708850289495\n",
            "  t= 0.4 \t f1 = 0.0006399999999999999\n",
            "label 3\n",
            "  t= 0.0 \t f1 = 0.056251447813329976\n",
            "  t= 0.044444444444444446 \t f1 = 0.07346781638317572\n",
            "  t= 0.08888888888888889 \t f1 = 0.06812684520303017\n",
            "  t= 0.13333333333333333 \t f1 = 0.05529955366848174\n",
            "  t= 0.17777777777777778 \t f1 = 0.05153335209211971\n",
            "  t= 0.22222222222222224 \t f1 = 0.04319081942459384\n",
            "  t= 0.26666666666666666 \t f1 = 0.03405824856224466\n",
            "  t= 0.3111111111111111 \t f1 = 0.02498847805134318\n",
            "  t= 0.35555555555555557 \t f1 = 0.015834891513755542\n",
            "  t= 0.4 \t f1 = 0.014250828907852274\n",
            "label 4\n",
            "  t= 0.0 \t f1 = 0.15365849940829163\n",
            "  t= 0.044444444444444446 \t f1 = 0.1604338795414253\n",
            "  t= 0.08888888888888889 \t f1 = 0.16419242923908675\n",
            "  t= 0.13333333333333333 \t f1 = 0.16213621527424335\n",
            "  t= 0.17777777777777778 \t f1 = 0.14688515395267604\n",
            "  t= 0.22222222222222224 \t f1 = 0.1351371362531984\n",
            "  t= 0.26666666666666666 \t f1 = 0.1234236752087205\n",
            "  t= 0.3111111111111111 \t f1 = 0.10191755271612508\n",
            "  t= 0.35555555555555557 \t f1 = 0.08448729438850475\n",
            "  t= 0.4 \t f1 = 0.06269604249534176\n",
            "label 5\n",
            "  t= 0.0 \t f1 = 0.005731176498509224\n",
            "  t= 0.044444444444444446 \t f1 = 0.0\n",
            "  t= 0.08888888888888889 \t f1 = 0.0\n",
            "  t= 0.13333333333333333 \t f1 = 0.0\n",
            "  t= 0.17777777777777778 \t f1 = 0.0\n",
            "  t= 0.22222222222222224 \t f1 = 0.0\n",
            "  t= 0.26666666666666666 \t f1 = 0.0\n",
            "  t= 0.3111111111111111 \t f1 = 0.0\n",
            "  t= 0.35555555555555557 \t f1 = 0.0\n",
            "  t= 0.4 \t f1 = 0.0\n",
            "label 6\n",
            "  t= 0.0 \t f1 = 0.15586533511201517\n",
            "  t= 0.044444444444444446 \t f1 = 0.17436767836858416\n",
            "  t= 0.08888888888888889 \t f1 = 0.17954728341201567\n",
            "  t= 0.13333333333333333 \t f1 = 0.1758918146510557\n",
            "  t= 0.17777777777777778 \t f1 = 0.16923272632050898\n",
            "  t= 0.22222222222222224 \t f1 = 0.15327469804385604\n",
            "  t= 0.26666666666666666 \t f1 = 0.13767142249291336\n",
            "  t= 0.3111111111111111 \t f1 = 0.12541867740793994\n",
            "  t= 0.35555555555555557 \t f1 = 0.10632445442170779\n",
            "  t= 0.4 \t f1 = 0.08598836138365097\n",
            "label 7\n",
            "  t= 0.0 \t f1 = 0.014481882864493843\n",
            "  t= 0.044444444444444446 \t f1 = 0.007316299259239369\n",
            "  t= 0.08888888888888889 \t f1 = 0.0009102564102564104\n",
            "  t= 0.13333333333333333 \t f1 = 0.0\n",
            "  t= 0.17777777777777778 \t f1 = 0.0\n",
            "  t= 0.22222222222222224 \t f1 = 0.0\n",
            "  t= 0.26666666666666666 \t f1 = 0.0\n",
            "  t= 0.3111111111111111 \t f1 = 0.0\n",
            "  t= 0.35555555555555557 \t f1 = 0.0\n",
            "  t= 0.4 \t f1 = 0.0\n",
            "label 8\n",
            "  t= 0.0 \t f1 = 0.15561424071245597\n",
            "  t= 0.044444444444444446 \t f1 = 0.15872224817503927\n",
            "  t= 0.08888888888888889 \t f1 = 0.15630730866424228\n",
            "  t= 0.13333333333333333 \t f1 = 0.142856351650108\n",
            "  t= 0.17777777777777778 \t f1 = 0.11151192711508097\n",
            "  t= 0.22222222222222224 \t f1 = 0.08036398120496178\n",
            "  t= 0.26666666666666666 \t f1 = 0.04698137217724615\n",
            "  t= 0.3111111111111111 \t f1 = 0.01934149359477727\n",
            "  t= 0.35555555555555557 \t f1 = 0.009987212152406555\n",
            "  t= 0.4 \t f1 = 0.0017557860334822914\n",
            "label 9\n",
            "  t= 0.0 \t f1 = 0.024128894300629002\n",
            "  t= 0.044444444444444446 \t f1 = 0.0110687319545702\n",
            "  t= 0.08888888888888889 \t f1 = 0.0\n",
            "  t= 0.13333333333333333 \t f1 = 0.0\n",
            "  t= 0.17777777777777778 \t f1 = 0.0\n",
            "  t= 0.22222222222222224 \t f1 = 0.0\n",
            "  t= 0.26666666666666666 \t f1 = 0.0\n",
            "  t= 0.3111111111111111 \t f1 = 0.0\n",
            "  t= 0.35555555555555557 \t f1 = 0.0\n",
            "  t= 0.4 \t f1 = 0.0\n",
            "label 10\n",
            "  t= 0.0 \t f1 = 0.027734561930379823\n",
            "  t= 0.044444444444444446 \t f1 = 0.039617491749826164\n",
            "  t= 0.08888888888888889 \t f1 = 0.0347422368149844\n",
            "  t= 0.13333333333333333 \t f1 = 0.023700645283118663\n",
            "  t= 0.17777777777777778 \t f1 = 0.01532109519087931\n",
            "  t= 0.22222222222222224 \t f1 = 0.010513714848582361\n",
            "  t= 0.26666666666666666 \t f1 = 0.008237479556314983\n",
            "  t= 0.3111111111111111 \t f1 = 0.006161525771784346\n",
            "  t= 0.35555555555555557 \t f1 = 0.0016847726324572382\n",
            "  t= 0.4 \t f1 = 0.0008636363636363635\n",
            "label 11\n",
            "  t= 0.0 \t f1 = 0.32226268521094564\n",
            "  t= 0.044444444444444446 \t f1 = 0.32540900107427595\n",
            "  t= 0.08888888888888889 \t f1 = 0.32942409062323663\n",
            "  t= 0.13333333333333333 \t f1 = 0.33196774933399664\n",
            "  t= 0.17777777777777778 \t f1 = 0.33095142977262976\n",
            "  t= 0.22222222222222224 \t f1 = 0.3268918689102838\n",
            "  t= 0.26666666666666666 \t f1 = 0.32224327516367357\n",
            "  t= 0.3111111111111111 \t f1 = 0.30563864075885333\n",
            "  t= 0.35555555555555557 \t f1 = 0.2874616527296844\n",
            "  t= 0.4 \t f1 = 0.2712409627174511\n",
            "label 12\n",
            "  t= 0.0 \t f1 = 0.006037915086577946\n",
            "  t= 0.044444444444444446 \t f1 = 0.0\n",
            "  t= 0.08888888888888889 \t f1 = 0.0\n",
            "  t= 0.13333333333333333 \t f1 = 0.0\n",
            "  t= 0.17777777777777778 \t f1 = 0.0\n",
            "  t= 0.22222222222222224 \t f1 = 0.0\n",
            "  t= 0.26666666666666666 \t f1 = 0.0\n",
            "  t= 0.3111111111111111 \t f1 = 0.0\n",
            "  t= 0.35555555555555557 \t f1 = 0.0\n",
            "  t= 0.4 \t f1 = 0.0\n",
            "label 13\n",
            "  t= 0.0 \t f1 = 0.00920324353988889\n",
            "  t= 0.044444444444444446 \t f1 = 0.0028490986138044964\n",
            "  t= 0.08888888888888889 \t f1 = 0.0\n",
            "  t= 0.13333333333333333 \t f1 = 0.0\n",
            "  t= 0.17777777777777778 \t f1 = 0.0\n",
            "  t= 0.22222222222222224 \t f1 = 0.0\n",
            "  t= 0.26666666666666666 \t f1 = 0.0\n",
            "  t= 0.3111111111111111 \t f1 = 0.0\n",
            "  t= 0.35555555555555557 \t f1 = 0.0\n",
            "  t= 0.4 \t f1 = 0.0\n"
          ],
          "name": "stdout"
        },
        {
          "output_type": "display_data",
          "data": {
            "image/png": "[encoded data removed]",
            "text/plain": [
              "<matplotlib.figure.Figure at 0x7f7f2137edd8>"
            ]
          },
          "metadata": {
            "tags": []
          }
        },
        {
          "output_type": "stream",
          "text": [
            "tresholds: [0.0, 0.0, 0.044444444444444446, 0.044444444444444446, 0.08888888888888889, 0.0, 0.08888888888888889, 0.0, 0.044444444444444446, 0.0, 0.044444444444444446, 0.13333333333333333, 0.0, 0.0]\n"
          ],
          "name": "stdout"
        }
      ]
    },
    {
      "metadata": {
        "id": "k8Pz4Koct-Ez",
        "colab_type": "code",
        "outputId": "65909b83-7ce1-435a-e512-a421268fdd50",
        "colab": {
          "base_uri": "https://localhost:8080/",
          "height": 86
        }
      },
      "cell_type": "code",
      "source": [
        "# CAREFUL! It appears that my implementation does not work. A constant treshold of 0.2\n",
        "# appear to yield much better f1 than my implementation. Some fields are detected as performing best with 0, \n",
        "# with our optimizer which is wrong as shown below.\n",
        "\n",
        "# tresholds = treshold_opt.get_best_tresholds() # Is actually not the best..!\n",
        "\n",
        "\n",
        "tresholds = treshold_opt.get_best_tresholds() # Is actually not the best..!)      \n",
        "tresholds_as_tensor = torch.Tensor(tresholds).to(device)\n",
        "f1 = compute_f1(tresholds_as_tensor)\n",
        "#f1 = sklearn.metrics.f1_score(truth_all.cpu(), pred_all.cpu(), average=\"micro\") # same result\n",
        "print(\"tresholds\", tresholds_as_tensor)\n",
        "print(\"F1 score : {:.2f}%\\n\".format(f1*100))\n",
        "      \n",
        "\n"
      ],
      "execution_count": 48,
      "outputs": [
        {
          "output_type": "stream",
          "text": [
            "tresholds tensor([0.0000, 0.0000, 0.0444, 0.0444, 0.0889, 0.0000, 0.0889, 0.0000, 0.0444,\n",
            "        0.0000, 0.0444, 0.1333, 0.0000, 0.0000], device='cuda:0')\n",
            "F1 score : 15.01%\n",
            "\n"
          ],
          "name": "stdout"
        }
      ]
    },
    {
      "metadata": {
        "id": "YJAW0UJwvJWp",
        "colab_type": "text"
      },
      "cell_type": "markdown",
      "source": [
        "### F1 score"
      ]
    },
    {
      "metadata": {
        "id": "gJfiY_WCutRZ",
        "colab_type": "code",
        "colab": {
          "base_uri": "https://localhost:8080/",
          "height": 106
        },
        "outputId": "342a1c52-e776-487a-eb11-3e5d5a04c4e2"
      },
      "cell_type": "code",
      "source": [
        "tresholds = [0.2 for _ in range(14)]\n",
        "tresholds_as_tensor = torch.Tensor(tresholds).to(device)\n",
        "f1 = compute_f1(tresholds_as_tensor)\n",
        "print(\"tresholds\", tresholds_as_tensor)\n",
        "print(\"F1 score : {:.2f}%\\n\".format(f1*100))"
      ],
      "execution_count": 103,
      "outputs": [
        {
          "output_type": "stream",
          "text": [
            "tresholds tensor([0.2000, 0.2000, 0.2000, 0.2000, 0.2000, 0.2000, 0.2000, 0.2000, 0.2000,\n",
            "        0.2000, 0.2000, 0.2000, 0.2000, 0.2000], device='cuda:0')\n",
            "F1 score : 44.62%\n",
            "\n"
          ],
          "name": "stdout"
        }
      ]
    },
    {
      "metadata": {
        "id": "KzoQrOkPu2IG",
        "colab_type": "code",
        "colab": {}
      },
      "cell_type": "code",
      "source": [
        ""
      ],
      "execution_count": 0,
      "outputs": []
    },
    {
      "metadata": {
        "id": "37ZEYitEYbVv",
        "colab_type": "code",
        "outputId": "870f357e-d6d8-4541-9607-34416c5071b0",
        "colab": {
          "base_uri": "https://localhost:8080/",
          "height": 471
        }
      },
      "cell_type": "code",
      "source": [
        "# Result with \"\"\" Optimized \"\"\" tresholds\n",
        "from sklearn.metrics import classification_report\n",
        "tresholds = treshold_opt.get_best_tresholds() # Is actually not the best..!)      \n",
        "tresholds_as_tensor = torch.Tensor(tresholds).to(device)\n",
        "pred_all = make_pred(bounded_output_all, tresholds_as_tensor)\n",
        "\n",
        "target_names = oneHotTransformer.vocabulary\n",
        "#report = classification_report(truth_all.cpu(), pred_all.cpu(), target_names=target_names, output_dict=True)\n",
        "report = classification_report(truth_all.cpu(), pred_all.cpu(), target_names=target_names)\n",
        "print(\"with tresholds\", list(zip(target_names, tresholds)))\n",
        "print(report)\n",
        "# Apparently, the optimization is good for all f1-score avg _EXCEPT_ micro (compare with the cell below)"
      ],
      "execution_count": 0,
      "outputs": [
        {
          "output_type": "stream",
          "text": [
            "with tresholds [('bird', 0.0), ('tree', 0.0), ('flower', 0.0), ('clouds', 0.0), ('female', 0.13793103448275862), ('river', 0.0), ('portrait', 0.13793103448275862), ('car', 0.0), ('male', 0.10344827586206896), ('dog', 0.0), ('night', 0.0), ('people', 0.0), ('baby', 0.0), ('sea', 0.0)]\n",
            "              precision    recall  f1-score   support\n",
            "\n",
            "        bird       0.01      1.00      0.01         2\n",
            "        tree       0.02      1.00      0.04         6\n",
            "      flower       0.00      1.00      0.01         1\n",
            "      clouds       0.03      1.00      0.05         8\n",
            "      female       0.37      0.95      0.53        92\n",
            "       river       0.00      1.00      0.01         1\n",
            "    portrait       0.33      0.93      0.49        74\n",
            "         car       0.01      1.00      0.01         2\n",
            "        male       0.21      1.00      0.35        59\n",
            "         dog       0.02      1.00      0.03         5\n",
            "       night       0.02      1.00      0.05         7\n",
            "      people       0.56      1.00      0.72       159\n",
            "        baby       0.01      1.00      0.01         2\n",
            "         sea       0.00      1.00      0.01         1\n",
            "\n",
            "   micro avg       0.11      0.98      0.19       419\n",
            "   macro avg       0.11      0.99      0.17       419\n",
            "weighted avg       0.38      0.98      0.53       419\n",
            " samples avg       0.10      0.65      0.18       419\n",
            "\n"
          ],
          "name": "stdout"
        },
        {
          "output_type": "stream",
          "text": [
            "/usr/local/lib/python3.6/dist-packages/sklearn/metrics/classification.py:1145: UndefinedMetricWarning: Recall and F-score are ill-defined and being set to 0.0 in samples with no true labels.\n",
            "  'recall', 'true', average, warn_for)\n"
          ],
          "name": "stderr"
        }
      ]
    },
    {
      "metadata": {
        "id": "1SXRnombZcXg",
        "colab_type": "code",
        "outputId": "056d8762-5304-4f4c-e2fb-b30ee1ff930d",
        "colab": {
          "base_uri": "https://localhost:8080/",
          "height": 541
        }
      },
      "cell_type": "code",
      "source": [
        "# Result with rubbish tresholds\n",
        "from sklearn.metrics import classification_report\n",
        "tresholds = [0.2 for _ in range(14)]\n",
        "tresholds_as_tensor = torch.Tensor(tresholds).to(device)\n",
        "pred_all = make_pred(bounded_output_all, tresholds_as_tensor)\n",
        "\n",
        "target_names = oneHotTransformer.vocabulary\n",
        "#report = classification_report(truth_all.cpu(), pred_all.cpu(), target_names=target_names, output_dict=True)\n",
        "report = classification_report(truth_all.cpu(), pred_all.cpu(), target_names=target_names)\n",
        "print(\"with tresholds\", list(zip(target_names, tresholds)))\n",
        "print(report)"
      ],
      "execution_count": 0,
      "outputs": [
        {
          "output_type": "stream",
          "text": [
            "with tresholds [('bird', 0.2), ('tree', 0.2), ('flower', 0.2), ('clouds', 0.2), ('female', 0.2), ('river', 0.2), ('portrait', 0.2), ('car', 0.2), ('male', 0.2), ('dog', 0.2), ('night', 0.2), ('people', 0.2), ('baby', 0.2), ('sea', 0.2)]\n",
            "              precision    recall  f1-score   support\n",
            "\n",
            "        bird       0.00      0.00      0.00         2\n",
            "        tree       0.00      0.00      0.00         6\n",
            "      flower       0.00      0.00      0.00         1\n",
            "      clouds       0.00      0.00      0.00         8\n",
            "      female       0.41      0.74      0.53        92\n",
            "       river       0.00      0.00      0.00         1\n",
            "    portrait       0.37      0.77      0.50        74\n",
            "         car       0.00      0.00      0.00         2\n",
            "        male       0.21      0.64      0.31        59\n",
            "         dog       0.00      0.00      0.00         5\n",
            "       night       0.00      0.00      0.00         7\n",
            "      people       0.56      0.99      0.71       159\n",
            "        baby       0.00      0.00      0.00         2\n",
            "         sea       0.00      0.00      0.00         1\n",
            "\n",
            "   micro avg       0.41      0.76      0.53       419\n",
            "   macro avg       0.11      0.22      0.15       419\n",
            "weighted avg       0.40      0.76      0.52       419\n",
            " samples avg       0.40      0.47      0.41       419\n",
            "\n"
          ],
          "name": "stdout"
        },
        {
          "output_type": "stream",
          "text": [
            "/usr/local/lib/python3.6/dist-packages/sklearn/metrics/classification.py:1143: UndefinedMetricWarning: Precision and F-score are ill-defined and being set to 0.0 in labels with no predicted samples.\n",
            "  'precision', 'predicted', average, warn_for)\n",
            "/usr/local/lib/python3.6/dist-packages/sklearn/metrics/classification.py:1143: UndefinedMetricWarning: Precision and F-score are ill-defined and being set to 0.0 in samples with no predicted labels.\n",
            "  'precision', 'predicted', average, warn_for)\n",
            "/usr/local/lib/python3.6/dist-packages/sklearn/metrics/classification.py:1145: UndefinedMetricWarning: Recall and F-score are ill-defined and being set to 0.0 in samples with no true labels.\n",
            "  'recall', 'true', average, warn_for)\n"
          ],
          "name": "stderr"
        }
      ]
    },
    {
      "metadata": {
        "id": "M_alI9uxkzjy",
        "colab_type": "code",
        "outputId": "9f01bf44-9022-4924-e680-fa8ae118d108",
        "colab": {
          "base_uri": "https://localhost:8080/",
          "height": 625
        }
      },
      "cell_type": "code",
      "source": [
        "# Have a look at results\n",
        "# So we can know what error is common\n",
        "for i, sample in enumerate(test_loader):\n",
        "    inputv, targetv = sample\n",
        "    inputv = inputv.to(device)\n",
        "    output = model(inputv)\n",
        "    \n",
        "    #print(\"Prediction\\n\", output)\n",
        "    tresholds = treshold_opt.get_best_tresholds()\n",
        "    tresholds_as_tensor = torch.Tensor(tresholds).to(device) \n",
        "    pred = output.data.gt(tresholds_as_tensor) # Activated output\n",
        "    print(\"Prediction\\n\", pred)\n",
        "    print(\"Truth\\n\", targetv)\n",
        "    break"
      ],
      "execution_count": 0,
      "outputs": [
        {
          "output_type": "stream",
          "text": [
            "Prediction\n",
            " tensor([[0, 0, 0, 0, 0, 0, 0, 0, 0, 0, 0, 0, 0, 0],\n",
            "        [0, 0, 0, 0, 0, 0, 0, 0, 0, 0, 0, 0, 0, 0],\n",
            "        [0, 0, 0, 0, 0, 0, 0, 0, 0, 0, 0, 0, 0, 0],\n",
            "        [0, 0, 0, 0, 0, 0, 0, 0, 0, 0, 0, 0, 0, 0],\n",
            "        [0, 0, 0, 0, 0, 0, 0, 0, 0, 0, 0, 0, 0, 0],\n",
            "        [0, 0, 0, 0, 0, 0, 0, 0, 0, 0, 0, 0, 0, 0],\n",
            "        [0, 0, 0, 0, 0, 0, 0, 0, 0, 0, 0, 0, 0, 0],\n",
            "        [0, 0, 0, 0, 0, 0, 0, 0, 0, 0, 0, 0, 0, 0],\n",
            "        [0, 0, 0, 0, 0, 0, 0, 0, 0, 0, 0, 0, 0, 0],\n",
            "        [0, 0, 0, 0, 0, 0, 0, 0, 0, 0, 0, 0, 0, 0],\n",
            "        [0, 0, 0, 0, 0, 0, 0, 0, 0, 0, 0, 0, 0, 0],\n",
            "        [0, 0, 0, 0, 0, 0, 0, 0, 0, 0, 0, 0, 0, 0],\n",
            "        [0, 0, 0, 0, 0, 0, 0, 0, 0, 0, 0, 0, 0, 0],\n",
            "        [0, 0, 0, 0, 0, 0, 0, 0, 0, 0, 0, 0, 0, 0],\n",
            "        [0, 0, 0, 0, 0, 0, 0, 0, 0, 0, 0, 0, 0, 0],\n",
            "        [0, 0, 0, 0, 0, 0, 0, 0, 0, 0, 0, 0, 0, 0]], device='cuda:0',\n",
            "       dtype=torch.uint8)\n",
            "Truth\n",
            " tensor([[0, 0, 0, 0, 0, 0, 0, 0, 0, 0, 0, 0, 0, 0],\n",
            "        [0, 0, 0, 0, 1, 0, 1, 0, 0, 0, 0, 1, 0, 0],\n",
            "        [0, 0, 0, 0, 0, 0, 0, 0, 0, 0, 0, 0, 0, 0],\n",
            "        [0, 0, 0, 0, 1, 0, 1, 0, 0, 0, 0, 1, 0, 0],\n",
            "        [0, 0, 0, 0, 0, 0, 0, 0, 0, 0, 0, 1, 0, 0],\n",
            "        [0, 0, 0, 0, 0, 0, 0, 0, 0, 0, 0, 0, 0, 0],\n",
            "        [0, 0, 0, 0, 0, 0, 0, 0, 0, 0, 0, 0, 0, 0],\n",
            "        [0, 0, 0, 0, 1, 0, 0, 0, 1, 0, 0, 1, 0, 0],\n",
            "        [0, 0, 0, 0, 0, 0, 0, 0, 0, 0, 0, 0, 0, 0],\n",
            "        [0, 0, 0, 0, 0, 0, 0, 0, 1, 0, 0, 1, 0, 0],\n",
            "        [0, 0, 0, 0, 0, 0, 1, 0, 1, 0, 0, 1, 0, 0],\n",
            "        [0, 0, 0, 0, 1, 0, 1, 0, 0, 0, 0, 1, 0, 0],\n",
            "        [0, 0, 0, 0, 1, 0, 1, 0, 0, 0, 0, 1, 0, 0],\n",
            "        [0, 0, 0, 0, 0, 0, 0, 0, 0, 0, 0, 0, 0, 0],\n",
            "        [0, 0, 0, 0, 0, 0, 0, 0, 0, 0, 0, 0, 0, 0],\n",
            "        [0, 0, 0, 0, 1, 0, 0, 0, 1, 0, 0, 1, 0, 0]])\n"
          ],
          "name": "stdout"
        }
      ]
    },
    {
      "metadata": {
        "id": "H0mnKztnZaqj",
        "colab_type": "text"
      },
      "cell_type": "markdown",
      "source": [
        ""
      ]
    },
    {
      "metadata": {
        "colab_type": "text",
        "id": "Cbp_n2GnN6EV"
      },
      "cell_type": "markdown",
      "source": [
        "## Save your model\n",
        "\n",
        "It might be useful to save your model if you want to continue your work later, or use it for inference later."
      ]
    },
    {
      "metadata": {
        "colab_type": "code",
        "id": "oCZPjfH_N6EY",
        "colab": {}
      },
      "cell_type": "code",
      "source": [
        "torch.save(model.state_dict(), 'model.pkl')"
      ],
      "execution_count": 0,
      "outputs": []
    },
    {
      "metadata": {
        "colab_type": "text",
        "id": "2aXYpGaLN6Ec"
      },
      "cell_type": "markdown",
      "source": [
        "The model file should now be visible in the \"Home\" screen of the jupyter notebooks interface.  There you should be able to select it and press \"download\".  [See more here on how to load the model back](https://github.com/pytorch/pytorch/blob/761d6799beb3afa03657a71776412a2171ee7533/docs/source/notes/serialization.rst) if you want to continue training later."
      ]
    },
    {
      "metadata": {
        "colab_type": "text",
        "id": "ncKwVsBvN6Ed"
      },
      "cell_type": "markdown",
      "source": [
        "## Download test set\n",
        "\n",
        "The testset will be made available during the last week before the deadline and can be downloaded in the same way as the training set."
      ]
    },
    {
      "metadata": {
        "id": "kVQ48Nb1INwG",
        "colab_type": "code",
        "colab": {
          "base_uri": "https://localhost:8080/",
          "height": 54
        },
        "outputId": "dbda239f-9e4b-4f9c-e928-bbe1de9fa72d"
      },
      "cell_type": "code",
      "source": [
        "to_test_path = 'to_test'\n",
        "dl_file = 'dl2018-image-test.zip'\n",
        "dl_url = 'https://users.aalto.fi/~mvsjober/misc/'\n",
        "\n",
        "zip_path = os.path.join(to_test_path, dl_file)\n",
        "if not os.path.isfile(zip_path):\n",
        "    download_url(dl_url + dl_file, root=to_test_path, filename=dl_file, md5=None)\n",
        "\n",
        "with zipfile.ZipFile(zip_path) as zip_f:\n",
        "    zip_f.extractall(to_test_path)"
      ],
      "execution_count": 79,
      "outputs": [
        {
          "output_type": "stream",
          "text": [
            "Downloading https://users.aalto.fi/~mvsjober/misc/dl2018-image-test.zip to to_test/dl2018-image-test.zip\n"
          ],
          "name": "stdout"
        }
      ]
    },
    {
      "metadata": {
        "colab_type": "text",
        "id": "f04wJ1xXN6Ee"
      },
      "cell_type": "markdown",
      "source": [
        "## Predict for test set\n",
        "\n",
        "You should return your predictions for the test set in a plain text file.  The text file contains one row for each test set image.  Each row contains a binary prediction for each label (separated by a single space), 1 if it's present in the image, and 0 if not. The order of the labels is as follows (alphabetic order of the label names):\n",
        "\n",
        "    baby bird car clouds dog female flower male night people portrait river sea tree\n",
        "\n",
        "An example row could like like this if your system predicts the presense of a bird and clouds:\n",
        "\n",
        "    0 1 0 1 0 0 0 0 0 0 0 0 0 0\n",
        "    \n",
        "The order of the rows should be according to the numeric order of the image numbers.  In the test set, this means that the first row refers to image `im20001.jpg`, the second to `im20002.jpg`, and so on."
      ]
    },
    {
      "metadata": {
        "colab_type": "text",
        "id": "lyQFBPVxN6Ef"
      },
      "cell_type": "markdown",
      "source": [
        "If you have the prediction output matrix prepared in `y` you can use the following function to save it to a text file."
      ]
    },
    {
      "metadata": {
        "id": "hHnY564V9UX-",
        "colab_type": "code",
        "colab": {}
      },
      "cell_type": "code",
      "source": [
        "order = ['baby', # given order, most likely different from the order constructed\n",
        " 'bird',         # automatically in the preprocessing part.\n",
        " 'car',\n",
        " 'clouds',\n",
        " 'dog',\n",
        " 'female',\n",
        " 'flower',\n",
        " 'male',\n",
        " 'night',\n",
        " 'people',\n",
        " 'portrait',\n",
        " 'river',\n",
        " 'sea',\n",
        " 'tree']\n",
        "# Permutation table (arrays' indices to permute) \n",
        "switch = [0 for _ in range(14)]\n",
        "for i in range(14):\n",
        "  searched =  order[i]\n",
        "  switch[i] = oneHotTransformer.vocabulary.index(searched)\n",
        "\n",
        "def batch_output_in_right_order(batch_pred, order_switch):\n",
        "  return batch_pred[:, order_switch]\n",
        "  \n",
        "\n",
        "# Example for one batch\n",
        "inputv, targetv = next(test_loader.__iter__())\n",
        "inputv = inputv.to(device)\n",
        "best_tresholds_as_tensor = torch.Tensor([0.2]*14).to(device)\n",
        "batch_pred = torch.sigmoid(model(inputv).to(device)) > best_tresholds_as_tensor\n",
        "\n",
        "batch_right_order = batch_output_in_right_order(batch_pred, switch)\n"
      ],
      "execution_count": 0,
      "outputs": []
    },
    {
      "metadata": {
        "id": "fydgHSqnM31Z",
        "colab_type": "code",
        "outputId": "f7096051-14ea-4a85-bbea-6e6e9a8d6dc7",
        "colab": {
          "base_uri": "https://localhost:8080/",
          "height": 437
        }
      },
      "cell_type": "code",
      "source": [
        "# Double check it works\n",
        "print(\"Truth: \", targetv[0])\n",
        "print(\"Labelled Truth: \", oneHotTransformer.toVocabulary(targetv[0]))\n",
        "\n",
        "ex0 = batch_right_order[0]\n",
        "\n",
        "\n",
        "print(\"-\"*10)\n",
        "print(\"new order\", order)\n",
        "#print(inputv.cpu().numpy()[0][0])\n",
        "\n",
        "\n",
        "targetv_good_order = batch_output_in_right_order(targetv, switch)\n",
        "t0 = targetv_good_order[0]\n",
        "plt.imshow(inputv.cpu().numpy()[0][0], cmap=\"gray\")\n",
        "#print(batch_output_in_right_order(batch_pred, switch))\n",
        "print(\"re ordered\", t0)\n",
        "plt.show()\n",
        "\n"
      ],
      "execution_count": 0,
      "outputs": [
        {
          "output_type": "stream",
          "text": [
            "Truth:  tensor([0, 0, 0, 0, 1, 0, 1, 0, 0, 0, 0, 1, 0, 0])\n",
            "Labelled Truth:  ['female', 'portrait', 'people']\n",
            "----------\n",
            "new order ['baby', 'bird', 'car', 'clouds', 'dog', 'female', 'flower', 'male', 'night', 'people', 'portrait', 'river', 'sea', 'tree']\n",
            "re ordered tensor([0, 0, 0, 0, 0, 1, 0, 0, 0, 1, 1, 0, 0, 0])\n"
          ],
          "name": "stdout"
        },
        {
          "output_type": "display_data",
          "data": {
            "image/png": "[encoded data removed]",
            "text/plain": [
              "<matplotlib.figure.Figure at 0x7fb6a4d6b588>"
            ]
          },
          "metadata": {
            "tags": []
          }
        }
      ]
    },
    {
      "metadata": {
        "id": "vQr4-NZimso8",
        "colab_type": "code",
        "colab": {}
      },
      "cell_type": "code",
      "source": [
        "images_path_test = \"to_test/images/\" \n",
        "image_files_test = [(images_path_test+f) for f in os.listdir(images_path_test) \\\n",
        "                if os.path.isfile(os.path.join(images_path_test, f))]\n",
        "\n",
        "image_files_test = sorted(image_files_test)\n",
        "def to_basename(rel_path):\n",
        "  \"\"\" 'to_test/images/im20001.jpg' to '20001' \"\"\"\n",
        "  return rel_path[17:-4] # stripping 17 first chars and last 4 ones (extension of the file)\n",
        "basenames_test = [to_basename(path) for path in image_files_test] \n",
        "\n",
        "to_test_dataset = imageDataset(images[:index_cut], merging_method = merge_method)\n",
        "to_test_loader = torch.utils.data.DataLoader(dataset=to_test_dataset,\n",
        "                                          batch_size=batch_size,\n",
        "                                          shuffle=False)"
      ],
      "execution_count": 0,
      "outputs": []
    },
    {
      "metadata": {
        "id": "2MGJH8DD3-YK",
        "colab_type": "code",
        "colab": {}
      },
      "cell_type": "code",
      "source": [
        ""
      ],
      "execution_count": 0,
      "outputs": []
    },
    {
      "metadata": {
        "id": "lfLRzPjxqz26",
        "colab_type": "code",
        "outputId": "647904b6-7976-483f-8d33-2bb280b951d8",
        "colab": {
          "base_uri": "https://localhost:8080/",
          "height": 139
        }
      },
      "cell_type": "code",
      "source": [
        "inputv, targetv = next(to_test_loader.__iter__())\n",
        "inputv = inputv.to(device)\n",
        "model(inputv)\n",
        "tresholds = treshold_opt.get_best_tresholds()\n",
        "tresholds_as_tensor = torch.Tensor(tresholds).to(device)\n",
        "batch_pred = torch.sigmoid(model(inputv).to(device)) > best_tresholds_as_tensor\n",
        "print(batch_pred)"
      ],
      "execution_count": 84,
      "outputs": [
        {
          "output_type": "stream",
          "text": [
            "tensor([[0, 0, 0,  ..., 0, 0, 0],\n",
            "        [0, 0, 0,  ..., 1, 0, 0],\n",
            "        [0, 0, 0,  ..., 1, 0, 0],\n",
            "        ...,\n",
            "        [0, 0, 0,  ..., 1, 0, 0],\n",
            "        [0, 0, 0,  ..., 1, 0, 0],\n",
            "        [0, 0, 0,  ..., 1, 0, 0]], device='cuda:0', dtype=torch.uint8)\n"
          ],
          "name": "stdout"
        }
      ]
    },
    {
      "metadata": {
        "id": "6OyPGL_JrSUv",
        "colab_type": "code",
        "outputId": "226298b4-67b1-40c7-c61d-d4d36af41add",
        "colab": {
          "base_uri": "https://localhost:8080/",
          "height": 312
        }
      },
      "cell_type": "code",
      "source": [
        "def batchprediction_to_txt(pred):\n",
        "  listpred = pred.data.tolist()\n",
        "  res = \"\"\n",
        "  for labels in listpred:\n",
        "    stringified_labels = map(str, labels)\n",
        "    res += \" \".join(stringified_labels) + \"\\n\"\n",
        "  return res\n",
        "\n",
        "\n",
        "batch_right_order = batch_output_in_right_order(batch_pred, switch)\n",
        "print(batchprediction_to_txt(batch_right_order))\n",
        "# TODO : iterate over dataset and write labels batch by batch with the above function"
      ],
      "execution_count": 0,
      "outputs": [
        {
          "output_type": "stream",
          "text": [
            "0 0 0 0 0 1 0 1 0 1 1 0 0 0\n",
            "0 0 0 0 0 1 0 1 0 1 1 0 0 0\n",
            "0 0 0 0 0 1 0 1 0 1 1 0 0 0\n",
            "0 0 0 0 0 0 0 1 0 0 0 0 0 0\n",
            "0 0 0 0 0 1 0 1 0 1 1 0 0 0\n",
            "0 0 0 0 0 0 0 0 0 1 0 0 0 0\n",
            "0 0 0 0 0 0 0 1 0 1 0 0 0 0\n",
            "0 0 0 0 0 1 0 0 0 1 1 0 0 0\n",
            "0 0 0 0 0 1 0 1 0 1 1 0 0 0\n",
            "0 0 0 0 0 1 0 1 0 1 1 0 0 0\n",
            "0 0 0 0 0 1 0 1 0 1 1 0 0 0\n",
            "0 0 0 0 0 1 0 1 0 1 1 0 0 0\n",
            "0 0 0 0 0 1 0 0 0 1 1 0 0 0\n",
            "0 0 0 0 0 0 0 0 0 1 0 0 0 0\n",
            "0 0 0 0 0 0 0 0 0 1 0 0 0 0\n",
            "0 0 0 0 0 1 0 1 0 1 0 0 0 0\n",
            "\n"
          ],
          "name": "stdout"
        }
      ]
    },
    {
      "metadata": {
        "id": "uWHtjbx_0rJ6",
        "colab_type": "code",
        "colab": {
          "base_uri": "https://localhost:8080/",
          "height": 2188
        },
        "outputId": "105804ce-5773-48f9-d5e6-1ac772b5231f"
      },
      "cell_type": "code",
      "source": [
        "# Concatenate all predictions\n",
        "tresholds = [0.2]*14\n",
        "for i, (inputv, targetv) in enumerate(to_test_loader):\n",
        "  inputv = inputv.to(device)\n",
        "  best_tresholds_as_tensor = torch.Tensor(tresholds).to(device)\n",
        "  batch_pred = torch.sigmoid(model(inputv).to(device)) > best_tresholds_as_tensor\n",
        "  \n",
        "  batch_right_order = batch_output_in_right_order(batch_pred, switch)\n",
        "  print(i+1, \"/\", len(to_test_loader))\n",
        "  if i==0:\n",
        "    y = batch_right_order\n",
        "  else:\n",
        "    y = torch.cat((y, batch_right_order), 0) # Adding new batch to the list of predictions"
      ],
      "execution_count": 89,
      "outputs": [
        {
          "output_type": "stream",
          "text": [
            "0 / 125\n",
            "1 / 125\n",
            "2 / 125\n",
            "3 / 125\n",
            "4 / 125\n",
            "5 / 125\n",
            "6 / 125\n",
            "7 / 125\n",
            "8 / 125\n",
            "9 / 125\n",
            "10 / 125\n",
            "11 / 125\n",
            "12 / 125\n",
            "13 / 125\n",
            "14 / 125\n",
            "15 / 125\n",
            "16 / 125\n",
            "17 / 125\n",
            "18 / 125\n",
            "19 / 125\n",
            "20 / 125\n",
            "21 / 125\n",
            "22 / 125\n",
            "23 / 125\n",
            "24 / 125\n",
            "25 / 125\n",
            "26 / 125\n",
            "27 / 125\n",
            "28 / 125\n",
            "29 / 125\n",
            "30 / 125\n",
            "31 / 125\n",
            "32 / 125\n",
            "33 / 125\n",
            "34 / 125\n",
            "35 / 125\n",
            "36 / 125\n",
            "37 / 125\n",
            "38 / 125\n",
            "39 / 125\n",
            "40 / 125\n",
            "41 / 125\n",
            "42 / 125\n",
            "43 / 125\n",
            "44 / 125\n",
            "45 / 125\n",
            "46 / 125\n",
            "47 / 125\n",
            "48 / 125\n",
            "49 / 125\n",
            "50 / 125\n",
            "51 / 125\n",
            "52 / 125\n",
            "53 / 125\n",
            "54 / 125\n",
            "55 / 125\n",
            "56 / 125\n",
            "57 / 125\n",
            "58 / 125\n",
            "59 / 125\n",
            "60 / 125\n",
            "61 / 125\n",
            "62 / 125\n",
            "63 / 125\n",
            "64 / 125\n",
            "65 / 125\n",
            "66 / 125\n",
            "67 / 125\n",
            "68 / 125\n",
            "69 / 125\n",
            "70 / 125\n",
            "71 / 125\n",
            "72 / 125\n",
            "73 / 125\n",
            "74 / 125\n",
            "75 / 125\n",
            "76 / 125\n",
            "77 / 125\n",
            "78 / 125\n",
            "79 / 125\n",
            "80 / 125\n",
            "81 / 125\n",
            "82 / 125\n",
            "83 / 125\n",
            "84 / 125\n",
            "85 / 125\n",
            "86 / 125\n",
            "87 / 125\n",
            "88 / 125\n",
            "89 / 125\n",
            "90 / 125\n",
            "91 / 125\n",
            "92 / 125\n",
            "93 / 125\n",
            "94 / 125\n",
            "95 / 125\n",
            "96 / 125\n",
            "97 / 125\n",
            "98 / 125\n",
            "99 / 125\n",
            "100 / 125\n",
            "101 / 125\n",
            "102 / 125\n",
            "103 / 125\n",
            "104 / 125\n",
            "105 / 125\n",
            "106 / 125\n",
            "107 / 125\n",
            "108 / 125\n",
            "109 / 125\n",
            "110 / 125\n",
            "111 / 125\n",
            "112 / 125\n",
            "113 / 125\n",
            "114 / 125\n",
            "115 / 125\n",
            "116 / 125\n",
            "117 / 125\n",
            "118 / 125\n",
            "119 / 125\n",
            "120 / 125\n",
            "121 / 125\n",
            "122 / 125\n",
            "123 / 125\n",
            "124 / 125\n"
          ],
          "name": "stdout"
        }
      ]
    },
    {
      "metadata": {
        "colab_type": "code",
        "id": "qqJTyNzYN6Eg",
        "colab": {}
      },
      "cell_type": "code",
      "source": [
        "np.savetxt('results.txt', y.cpu(), fmt='%d')"
      ],
      "execution_count": 0,
      "outputs": []
    }
  ]
}