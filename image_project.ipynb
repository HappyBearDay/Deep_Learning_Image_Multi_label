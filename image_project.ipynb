{
  "nbformat": 4,
  "nbformat_minor": 0,
  "metadata": {
    "colab": {
      "name": "Copy of image_project_loader_Simple Cnn V1.ipynb",
      "version": "0.3.2",
      "provenance": [],
      "collapsed_sections": [
        "Cbp_n2GnN6EV",
        "ncKwVsBvN6Ed",
        "f04wJ1xXN6Ee"
      ],
      "toc_visible": true
    },
    "kernelspec": {
      "display_name": "Python 3",
      "language": "python",
      "name": "python3"
    },
    "accelerator": "GPU"
  },
  "cells": [
    {
      "metadata": {
        "colab_type": "text",
        "id": "o5cz6o5sN6BV"
      },
      "cell_type": "markdown",
      "source": [
        "# DATA20001 Deep Learning - Group Project\n",
        "## Image project\n",
        "\n",
        "**Due Thursday, December 13, before 23:59.**\n",
        "\n",
        "The task is to learn to assign the correct labels to a set of images.  The images are originally from a photo-sharing site and released under Creative Commons-licenses allowing sharing.  The training set contains 20 000 images. We have resized them and cropped them to 128x128 to make the task a bit more manageable.\n",
        "\n",
        "We're only giving you the code for downloading the data. The rest you'll have to do yourselves.\n",
        "\n",
        "Some comments and hints particular to the image project:\n",
        "\n",
        "- One image may belong to many classes in this problem, i.e., it's a multi-label classification problem. In fact there are images that don't belong to any of our classes, and you should also be able to handle these correctly. Pay careful attention to how you design the outputs of the network (e.g., what activation to use) and what loss function should be used.\n",
        "\n",
        "- As the dataset is pretty imbalanced, don't focus too strictly on the outputs being probabilistic. (Meaning that the right threshold for selecting the label might not be 0.5.)\n",
        "\n",
        "- Image files can be loaded as numpy matrices for example using `imread` from `matplotlib.pyplot`. Most images are color, but a few grayscale. You need to handle the grayscale ones somehow as they would have a different number of color channels (depth) than the color ones.\n",
        "\n",
        "- In the exercises we used e.g., `torchvision.datasets.MNIST` to handle the loading of the data in suitable batches. Here, you need to handle the dataloading yourself.  The easiest way is probably to create a custom `Dataset`. [See for example here for a tutorial](https://github.com/utkuozbulak/pytorch-custom-dataset-examples)."
      ]
    },
    {
      "metadata": {
        "colab_type": "code",
        "id": "iMioZJz0OGWX",
        "outputId": "1cc2b439-9d0b-4d7e-d534-273a77982177",
        "colab": {
          "base_uri": "https://localhost:8080/",
          "height": 191
        }
      },
      "cell_type": "code",
      "source": [
        "! pip install torch torchvision torchsummary sklearn"
      ],
      "execution_count": 0,
      "outputs": [
        {
          "output_type": "stream",
          "text": [
            "Requirement already satisfied: torch in /usr/local/lib/python3.6/dist-packages (1.0.0)\n",
            "Requirement already satisfied: torchvision in /usr/local/lib/python3.6/dist-packages (0.2.1)\n",
            "Requirement already satisfied: torchsummary in /usr/local/lib/python3.6/dist-packages (1.5.1)\n",
            "Requirement already satisfied: sklearn in /usr/local/lib/python3.6/dist-packages (0.0)\n",
            "Requirement already satisfied: pillow>=4.1.1 in /usr/local/lib/python3.6/dist-packages (from torchvision) (4.1.1)\n",
            "Requirement already satisfied: six in /usr/local/lib/python3.6/dist-packages (from torchvision) (1.11.0)\n",
            "Requirement already satisfied: numpy in /usr/local/lib/python3.6/dist-packages (from torchvision) (1.14.6)\n",
            "Requirement already satisfied: scikit-learn in /usr/local/lib/python3.6/dist-packages (from sklearn) (0.20.2)\n",
            "Requirement already satisfied: olefile in /usr/local/lib/python3.6/dist-packages (from pillow>=4.1.1->torchvision) (0.46)\n",
            "Requirement already satisfied: scipy>=0.13.3 in /usr/local/lib/python3.6/dist-packages (from scikit-learn->sklearn) (1.1.0)\n"
          ],
          "name": "stdout"
        }
      ]
    },
    {
      "metadata": {
        "colab_type": "text",
        "id": "ETU_n-NCN6BX"
      },
      "cell_type": "markdown",
      "source": [
        "## Download the data"
      ]
    },
    {
      "metadata": {
        "colab_type": "code",
        "id": "8HPeRa7JN6BY",
        "colab": {}
      },
      "cell_type": "code",
      "source": [
        "import os\n",
        "import torch\n",
        "import torchvision\n",
        "from torchvision.datasets.utils import download_url\n",
        "import zipfile"
      ],
      "execution_count": 0,
      "outputs": []
    },
    {
      "metadata": {
        "colab_type": "code",
        "id": "lRKFdNkGN6Bd",
        "colab": {}
      },
      "cell_type": "code",
      "source": [
        "train_path = 'train'\n",
        "dl_file = 'dl2018-image-proj.zip'\n",
        "dl_url = 'https://users.aalto.fi/mvsjober/misc/'\n",
        "\n",
        "zip_path = os.path.join(train_path, dl_file)\n",
        "if not os.path.isfile(zip_path):\n",
        "    download_url(dl_url + dl_file, root=train_path, filename=dl_file, md5=None)\n",
        "\n",
        "with zipfile.ZipFile(zip_path) as zip_f:\n",
        "    zip_f.extractall(train_path)\n",
        "    #os.unlink(zip_path)"
      ],
      "execution_count": 0,
      "outputs": []
    },
    {
      "metadata": {
        "colab_type": "code",
        "id": "SYucMUzKN6Bh",
        "outputId": "f18e8f33-7ba4-4aea-f7b8-15bc3b6c1834",
        "colab": {
          "base_uri": "https://localhost:8080/",
          "height": 34
        }
      },
      "cell_type": "code",
      "source": [
        "if torch.cuda.is_available():\n",
        "    print('Using GPU!')\n",
        "    device = torch.device('cuda')\n",
        "else:\n",
        "    print('Using CPU')\n",
        "    device = torch.device('cpu')"
      ],
      "execution_count": 0,
      "outputs": [
        {
          "output_type": "stream",
          "text": [
            "Using GPU!\n"
          ],
          "name": "stdout"
        }
      ]
    },
    {
      "metadata": {
        "colab_type": "text",
        "id": "e4OBeshoN6Bn"
      },
      "cell_type": "markdown",
      "source": [
        "The above command downloaded and extracted the data files into the `train` subdirectory.\n",
        "\n",
        "The images can be found in `train/images`, and are named as `im1.jpg`, `im2.jpg` and so on until `im20000.jpg`.\n",
        "\n",
        "The class labels, or annotations, can be found in `train/annotations` as `CLASSNAME.txt`, where CLASSNAME is one of the fourteen classes: *baby, bird, car, clouds, dog, female, flower, male, night, people, portrait, river, sea,* and *tree*.\n",
        "\n",
        "Each annotation file is a simple text file that lists the images that depict that class, one per line. The images are listed with their number, not the full filename. For example `5969` refers to the image `im5969.jpg`."
      ]
    },
    {
      "metadata": {
        "colab_type": "text",
        "id": "p7NS0wddN6Bp"
      },
      "cell_type": "markdown",
      "source": [
        "## Your stuff goes here ..."
      ]
    },
    {
      "metadata": {
        "colab_type": "code",
        "id": "CBSFUnlrN6Bq",
        "colab": {}
      },
      "cell_type": "code",
      "source": [
        "import os\n",
        "from os import listdir\n",
        "import matplotlib.pyplot as plt\n",
        "import pandas as pd\n",
        "import numpy as np\n",
        "import random as rd\n",
        "import torch\n",
        "import torch.nn as nn\n",
        "import torch.nn.functional as F\n",
        "from torchvision import datasets, transforms\n",
        "import matplotlib.pyplot as plt\n",
        "import numpy as np\n",
        "img_path = \"./train/images/\"\n",
        "labels_path = \"./train/annotations/\""
      ],
      "execution_count": 0,
      "outputs": []
    },
    {
      "metadata": {
        "colab_type": "code",
        "id": "wAnheWovPhsl",
        "outputId": "377813cf-e30a-4476-b340-97af7849cab6",
        "colab": {
          "base_uri": "https://localhost:8080/",
          "height": 52
        }
      },
      "cell_type": "code",
      "source": [
        "!pip install pillow==4.1.1\n",
        "%reload_ext autoreload\n",
        "%autoreload"
      ],
      "execution_count": 0,
      "outputs": [
        {
          "output_type": "stream",
          "text": [
            "Requirement already satisfied: pillow==4.1.1 in /usr/local/lib/python3.6/dist-packages (4.1.1)\n",
            "Requirement already satisfied: olefile in /usr/local/lib/python3.6/dist-packages (from pillow==4.1.1) (0.46)\n"
          ],
          "name": "stdout"
        }
      ]
    },
    {
      "metadata": {
        "colab_type": "text",
        "id": "bOmN6xaIN6Bt"
      },
      "cell_type": "markdown",
      "source": [
        "### Data preprocessing"
      ]
    },
    {
      "metadata": {
        "colab_type": "code",
        "id": "xdCSaC65N6Bu",
        "colab": {}
      },
      "cell_type": "code",
      "source": [
        "images_path = \"train/images/\" \n",
        "image_files = [(images_path+f) for f in os.listdir(images_path) \\\n",
        "                if os.path.isfile(os.path.join(images_path, f))]\n",
        "grayscale_images = []\n",
        "for current_img_path in image_files:\n",
        "    current_img_vector =  plt.imread( current_img_path )\n",
        "    if len(current_img_vector.shape)==2: # If shape is (128, 128) (no color channels)\n",
        "        filename_without_extension = os.path.basename(current_img_path)[:-4] # :-4 to drop the extension\n",
        "        img_num = filename_without_extension[2:] # drop the heading \"im\"\n",
        "        grayscale_images+=[img_num]\n",
        "del image_files"
      ],
      "execution_count": 0,
      "outputs": []
    },
    {
      "metadata": {
        "colab_type": "code",
        "id": "IUx_enEdN6By",
        "colab": {}
      },
      "cell_type": "code",
      "source": [
        "data=grayscale_images\n",
        "labels = [[] for _ in range(len(data))] # Empty list of labels\n",
        "annotations_path = \"train/annotations/\"\n",
        "annotations_files = [(annotations_path+f) for f in os.listdir(annotations_path) \\\n",
        "        if os.path.isfile(os.path.join(annotations_path, f))]\n",
        "for file in annotations_files:\n",
        "    label = os.path.basename(file)[:-4] # :-4 to drop the extension\n",
        "    with open(file) as f: # file is the name of the label currently read\n",
        "        img_nums = f.read().split()\n",
        "    for img_num in img_nums:\n",
        "        if img_num not in data:\n",
        "            continue\n",
        "        labels[data.index(img_num)].append(label)"
      ],
      "execution_count": 0,
      "outputs": []
    },
    {
      "metadata": {
        "colab_type": "code",
        "id": "xlpZq0l6N6B3",
        "colab": {}
      },
      "cell_type": "code",
      "source": [
        "class OneHotTransformer:\n",
        "    def __init__(self):\n",
        "        annotations_files = [(annotations_path+f) for f in os.listdir(annotations_path) \\\n",
        "                    if os.path.isfile(os.path.join(annotations_path, f))]\n",
        "        self.vocabulary = []\n",
        "        for file in annotations_files:\n",
        "            label = os.path.basename(file)[:-4] # :-4 to drop the extension\n",
        "            self.vocabulary.append(label)\n",
        "    def toOneHot(self, labels):\n",
        "        res = [0]*len(self.vocabulary)\n",
        "        for i, voc in enumerate(self.vocabulary):\n",
        "            if voc in labels:\n",
        "                res[i] = 1\n",
        "        return np.array(res)\n",
        "    def toVocabulary(self, onehot):\n",
        "        res = []\n",
        "        for i, n in enumerate(onehot):\n",
        "            if n: res.append(self.vocabulary[i])\n",
        "        return res\n",
        "oneHotTransformer = OneHotTransformer()"
      ],
      "execution_count": 0,
      "outputs": []
    },
    {
      "metadata": {
        "colab_type": "code",
        "id": "69SbHK3SN6B6",
        "colab": {}
      },
      "cell_type": "code",
      "source": [
        "# Files to pytorch dataset\n",
        "# Inspired from https://github.com/pytorch/vision/blob/master/torchvision/datasets/mnist.py\n",
        "from torch.utils.data.dataset import Dataset\n",
        "from torchvision import datasets, transforms\n",
        "from PIL import Image\n",
        "\n",
        "class imageDataset(Dataset):\n",
        "    def __init__(self, data_basenames, height=128, width=128, transforms=transforms.ToTensor()):\n",
        "        \"\"\"\n",
        "        data_basenames is a list of id of image, such as [\"9885\", \"9886\"]\n",
        "        transforms is a list of transformation. it last element should be transforms.ToTensor()\n",
        "        \"\"\"\n",
        "        def parse_labels(data_paths):\n",
        "            \"\"\" Parse to one hot \"\"\"\n",
        "            labels = [[] for _ in range(len(data_paths))] # Empty list of labels\n",
        "            annotations_path = \"train/annotations/\"\n",
        "            annotations_files = [(annotations_path+f) for f in os.listdir(annotations_path) \\\n",
        "                    if os.path.isfile(os.path.join(annotations_path, f))]\n",
        "            vocabulary = []\n",
        "            for file in annotations_files:\n",
        "                label = os.path.basename(file)[:-4] # :-4 to drop the extension\n",
        "                vocabulary.append(label)\n",
        "                with open(file) as f: # file is the name of the label currently read\n",
        "                    img_nums = f.read().split()\n",
        "                for img_num in img_nums:\n",
        "                    if img_num not in data_paths:\n",
        "                        continue\n",
        "                    labels[data_paths.index(img_num)].append(label)\n",
        "            return labels\n",
        "        self.data = data_basenames\n",
        "        self.labels = parse_labels(data_basenames)\n",
        "        self.height = height\n",
        "        self.width = width\n",
        "        self.transforms = transforms\n",
        "        self.data_len = len(data_basenames)\n",
        "\n",
        "    def __getitem__(self, index):\n",
        "        img_path = \"train/images/im\" + self.data[index] + \".jpg\"\n",
        "        data = Image.open(img_path)\n",
        "        if self.transforms is not None:\n",
        "            img = self.transforms(data)\n",
        "        #labels = np.array(self.labels[index])\n",
        "        #print(self.labels[index])\n",
        "        labels = self.labels[index]\n",
        "        one_hot_labels = oneHotTransformer.toOneHot(labels)\n",
        "        return img, one_hot_labels\n",
        "\n",
        "    def __len__(self):\n",
        "        return self.data_len\n",
        "\n",
        "    \n",
        "import random\n",
        "random.shuffle(grayscale_images) # So we make sure test data has all kinds of label, in case\n",
        "                                 # the repartition is not even according to label names\n",
        "\n",
        "batch_size = 16\n",
        "\n",
        "# 80% train, 20% test\n",
        "index_cut =  int(len(grayscale_images)*0.8)\n",
        "train_dataset = imageDataset(grayscale_images[:index_cut])\n",
        "train_loader = torch.utils.data.DataLoader(dataset=train_dataset,\n",
        "                                          batch_size=batch_size,\n",
        "                                          shuffle=True)\n",
        "test_dataset = imageDataset(grayscale_images[index_cut:])\n",
        "test_loader = torch.utils.data.DataLoader(dataset=test_dataset,\n",
        "                                          batch_size=batch_size,\n",
        "                                          shuffle=True)"
      ],
      "execution_count": 0,
      "outputs": []
    },
    {
      "metadata": {
        "colab_type": "code",
        "id": "pNMm0PheN6B-",
        "colab": {}
      },
      "cell_type": "code",
      "source": [
        "data, target = next(train_loader.__iter__()) # Iteration works!"
      ],
      "execution_count": 0,
      "outputs": []
    },
    {
      "metadata": {
        "colab_type": "text",
        "id": "Cv5rJVZ2P-Hq"
      },
      "cell_type": "markdown",
      "source": [
        "### Models\n",
        "\n",
        "First, simple CNN architecture( exercise 3)"
      ]
    },
    {
      "metadata": {
        "colab_type": "code",
        "id": "0AJm-4rdP8TA",
        "outputId": "97b87cae-d5f8-48c4-f3c0-fcebdee699bb",
        "colab": {
          "base_uri": "https://localhost:8080/",
          "height": 694
        }
      },
      "cell_type": "code",
      "source": [
        "class sim_cnn_v1(nn.Module):\n",
        "    def __init__(self, nclass = 14):\n",
        "        super(sim_cnn_v1,self).__init__()\n",
        "        self.layer1 = nn.Sequential(\n",
        "            nn.Conv2d(1,16,kernel_size = 3,padding = 0,stride = 1),\n",
        "            nn.BatchNorm2d(16),\n",
        "            nn.ReLU(),\n",
        "            nn.MaxPool2d(kernel_size = 2, stride = 2)\n",
        "        )\n",
        "        self.layer2 = nn.Sequential(\n",
        "            nn.Conv2d(16,32,kernel_size = 3,padding = 0,stride = 1),\n",
        "            nn.BatchNorm2d(32),\n",
        "            nn.ReLU(),\n",
        "            nn.MaxPool2d(kernel_size = 2, stride = 2)\n",
        "        )\n",
        "        self.fc1 = nn.Linear(30*30*32, 30*32)\n",
        "        self.fc2 = nn.Linear(30*32, nclass)\n",
        "        \n",
        "    def forward(self,x):\n",
        "        out = self.layer1(x)\n",
        "        out = self.layer2(out)\n",
        "        out = out.view(out.size(0),-1)\n",
        "        out = F.relu(self.fc1(out))\n",
        "        output = self.fc2(out)\n",
        "        return output\n",
        "        \n",
        "model = sim_cnn_v1().to(device)\n",
        "optimizer = torch.optim.Adam(model.parameters(), lr = 0.01) #Adam\n",
        "criterion = nn.MultiLabelSoftMarginLoss() \n",
        "print(model)\n",
        "from torchsummary import summary\n",
        "summary(model, (1, 128, 128))"
      ],
      "execution_count": 0,
      "outputs": [
        {
          "output_type": "stream",
          "text": [
            "sim_cnn_v1(\n",
            "  (layer1): Sequential(\n",
            "    (0): Conv2d(1, 16, kernel_size=(3, 3), stride=(1, 1))\n",
            "    (1): BatchNorm2d(16, eps=1e-05, momentum=0.1, affine=True, track_running_stats=True)\n",
            "    (2): ReLU()\n",
            "    (3): MaxPool2d(kernel_size=2, stride=2, padding=0, dilation=1, ceil_mode=False)\n",
            "  )\n",
            "  (layer2): Sequential(\n",
            "    (0): Conv2d(16, 32, kernel_size=(3, 3), stride=(1, 1))\n",
            "    (1): BatchNorm2d(32, eps=1e-05, momentum=0.1, affine=True, track_running_stats=True)\n",
            "    (2): ReLU()\n",
            "    (3): MaxPool2d(kernel_size=2, stride=2, padding=0, dilation=1, ceil_mode=False)\n",
            "  )\n",
            "  (fc1): Linear(in_features=28800, out_features=960, bias=True)\n",
            "  (fc2): Linear(in_features=960, out_features=14, bias=True)\n",
            ")\n",
            "----------------------------------------------------------------\n",
            "        Layer (type)               Output Shape         Param #\n",
            "================================================================\n",
            "            Conv2d-1         [-1, 16, 126, 126]             160\n",
            "       BatchNorm2d-2         [-1, 16, 126, 126]              32\n",
            "              ReLU-3         [-1, 16, 126, 126]               0\n",
            "         MaxPool2d-4           [-1, 16, 63, 63]               0\n",
            "            Conv2d-5           [-1, 32, 61, 61]           4,640\n",
            "       BatchNorm2d-6           [-1, 32, 61, 61]              64\n",
            "              ReLU-7           [-1, 32, 61, 61]               0\n",
            "         MaxPool2d-8           [-1, 32, 30, 30]               0\n",
            "            Linear-9                  [-1, 960]      27,648,960\n",
            "           Linear-10                   [-1, 14]          13,454\n",
            "================================================================\n",
            "Total params: 27,667,310\n",
            "Trainable params: 27,667,310\n",
            "Non-trainable params: 0\n",
            "----------------------------------------------------------------\n",
            "Input size (MB): 0.06\n",
            "Forward/backward pass size (MB): 9.25\n",
            "Params size (MB): 105.54\n",
            "Estimated Total Size (MB): 114.86\n",
            "----------------------------------------------------------------\n"
          ],
          "name": "stdout"
        }
      ]
    },
    {
      "metadata": {
        "id": "3YkrsOUHGzWh",
        "colab_type": "code",
        "colab": {}
      },
      "cell_type": "code",
      "source": [
        "class one_layer_cnn(nn.Module):\n",
        "    def __init__(self, nclass = 14):\n",
        "        super().__init__()\n",
        "        self.layer1 = nn.Sequential(\n",
        "            nn.Conv2d(1,16,kernel_size = 3,padding = 0,stride = 1),\n",
        "            nn.BatchNorm2d(16),\n",
        "            nn.ReLU(),\n",
        "            nn.MaxPool2d(kernel_size = 2, stride = 2)\n",
        "        )\n",
        "        self.fc1 = nn.Linear(16*63*63, nclass)\n",
        "        \n",
        "    def forward(self,x):\n",
        "        out = self.layer1(x)\n",
        "        out = out.view(out.size(0),-1)\n",
        "        output = self.fc1(out)\n",
        "        return torch.sigmoid(output)"
      ],
      "execution_count": 0,
      "outputs": []
    },
    {
      "metadata": {
        "id": "9P5jmw1GDwK8",
        "colab_type": "code",
        "colab": {}
      },
      "cell_type": "code",
      "source": [
        "class deep_cnn(nn.Module):\n",
        "    def __init__(self):\n",
        "        super().__init__()\n",
        "        self.conv1 = nn.Sequential(\n",
        "            nn.Conv2d(1, 16, kernel_size=5),\n",
        "            nn.BatchNorm2d(16),\n",
        "            nn.ReLU(),\n",
        "            nn.MaxPool2d(5, stride=3)\n",
        "        )\n",
        "        self.conv2 = nn.Sequential(\n",
        "            nn.Conv2d(16, 32, kernel_size=5),\n",
        "            nn.BatchNorm2d(32),\n",
        "            nn.ReLU(),\n",
        "            nn.MaxPool2d(5, stride=3)\n",
        "        )\n",
        "        self.conv3 = nn.Sequential(\n",
        "            nn.Conv2d(32, 64, kernel_size=5),\n",
        "            nn.BatchNorm2d(64),\n",
        "            nn.ReLU(),\n",
        "            nn.MaxPool2d(5, stride=3)\n",
        "        )\n",
        "        self.conv4 = nn.Sequential(\n",
        "            nn.Conv2d(64, 128, kernel_size=5),\n",
        "            nn.BatchNorm2d(128),\n",
        "            nn.ReLU(),\n",
        "            nn.MaxPool2d(10, stride=3)\n",
        "        )\n",
        "        #self.fc1 = nn.Linear(4096, 20)\n",
        "        self.lastlayer = nn.Sequential(\n",
        "   #         nn.Dropout(p=0.5),\n",
        "            nn.Linear(4096//64, 14)\n",
        "        )\n",
        "        \n",
        "    def forward(self, x):\n",
        "        out = self.conv1(x)\n",
        "        out = self.conv2(out)\n",
        "        out = self.conv3(out)\n",
        "        #out = self.conv4(out)\n",
        "        out = out.view(out.size(0),-1)\n",
        "        out = self.lastlayer(out)\n",
        "        return out\n",
        "model = deep_cnn()"
      ],
      "execution_count": 0,
      "outputs": []
    },
    {
      "metadata": {
        "id": "IBoRHb7Bw7Sw",
        "colab_type": "code",
        "colab": {}
      },
      "cell_type": "code",
      "source": [
        "# TODO\n",
        "class lstm(nn.Module):\n",
        "    pass"
      ],
      "execution_count": 0,
      "outputs": []
    },
    {
      "metadata": {
        "colab_type": "text",
        "id": "NSwCiJHTTDYQ"
      },
      "cell_type": "markdown",
      "source": [
        "### Training"
      ]
    },
    {
      "metadata": {
        "colab_type": "code",
        "id": "1ofzw5ggojdp",
        "colab": {}
      },
      "cell_type": "code",
      "source": [
        "def train_net(model, epoch, trainLoss, interval = 10):\n",
        "    # set model to train\n",
        "    model.train()\n",
        "    loss = 0\n",
        "    #acc = 0\n",
        "    \n",
        "    for batch_idx, (data, target) in enumerate(train_loader):\n",
        "        \n",
        "        data = data.to(device) # to GPU\n",
        "        target = target.float().to(device) # to GPU, \".float()\" is improtant, otherwise got error.\n",
        "        \n",
        "        # set zero gradient buffer\n",
        "        optimizer.zero_grad()\n",
        "        \n",
        "        # compute the output and Loss\n",
        "        output = model(data)\n",
        "        Loss = criterion(output, target)\n",
        "        \n",
        "        # back prop\n",
        "        Loss.backward()\n",
        "        \n",
        "        # update weights\n",
        "        optimizer.step()\n",
        "        \n",
        "        # print information\n",
        "        if batch_idx % interval == 0:\n",
        "            print(\"Train Epoch: {} [{}/{} {:.0f}%]\\tLoss: {:.6f}\".format(epoch, len(data)*batch_idx, len(train_loader)*len(data), batch_idx/len(train_loader)*100, Loss.data.item()))   \n",
        "       \n",
        "        loss += Loss\n",
        "    loss/=len(train_loader)\n",
        "    trainLoss.append(loss)\n",
        "\n",
        "def validate(model, lossv, verbose=True):\n",
        "  loss, acc, prec, rec = 0,0,0,0\n",
        "  for i, sample in enumerate(test_loader):\n",
        "    inputv, targetv = sample\n",
        "    inputv = inputv.to(device)\n",
        "    output = model(inputv)\n",
        "   \n",
        "    loss += criterion(output, targetv.data.to(device).float()).data.item()\n",
        "  \n",
        "  loss /= len(test_loader)\n",
        "  \n",
        "  lossv.append(loss)\n",
        "  \n",
        "  if verbose:\n",
        "    print('Validation set: Average loss: {:.4f}\\n'.format(\n",
        "            loss))"
      ],
      "execution_count": 0,
      "outputs": []
    },
    {
      "metadata": {
        "colab_type": "code",
        "id": "KOwb6HuOIwA9",
        "outputId": "a7bd2362-1e15-441c-b713-cd0fce0985bd",
        "colab": {
          "base_uri": "https://localhost:8080/",
          "height": 5262
        }
      },
      "cell_type": "code",
      "source": [
        "%%time\n",
        "#model = one_layer_cnn().to(device)\n",
        "#model = sim_cnn_v1().to(device)\n",
        "model = deep_cnn().to(device)\n",
        "#model = lstm()\n",
        "epoch = 30\n",
        "\n",
        "#learning_rate = 0.000001 # for sim_cnn_v1\n",
        "learning_rate = 0.0001 # for deep_cnn\n",
        "optimizer = torch.optim.Adam(model.parameters(), lr = learning_rate) #Adam\n",
        "criterion = nn.MultiLabelSoftMarginLoss()\n",
        "#criterion = nn.BCELoss()\n",
        "train_loss, val_loss = [], []\n",
        "for i in range(1,1+epoch):\n",
        "    train_net(model, i, train_loss)\n",
        "    validate(model, val_loss)"
      ],
      "execution_count": 0,
      "outputs": [
        {
          "output_type": "stream",
          "text": [
            "Train Epoch: 1 [0/1152 0%]\tLoss: 0.754743\n",
            "Train Epoch: 1 [160/1152 14%]\tLoss: 0.687904\n",
            "Train Epoch: 1 [320/1152 28%]\tLoss: 0.655722\n",
            "Train Epoch: 1 [480/1152 42%]\tLoss: 0.640094\n",
            "Train Epoch: 1 [640/1152 56%]\tLoss: 0.615855\n",
            "Train Epoch: 1 [800/1152 69%]\tLoss: 0.606452\n",
            "Train Epoch: 1 [960/1152 83%]\tLoss: 0.584099\n",
            "Train Epoch: 1 [1120/1152 97%]\tLoss: 0.557639\n",
            "Validation set: Average loss: 0.5603\n",
            "\n",
            "Train Epoch: 2 [0/1152 0%]\tLoss: 0.549240\n",
            "Train Epoch: 2 [160/1152 14%]\tLoss: 0.551658\n",
            "Train Epoch: 2 [320/1152 28%]\tLoss: 0.527117\n",
            "Train Epoch: 2 [480/1152 42%]\tLoss: 0.525078\n",
            "Train Epoch: 2 [640/1152 56%]\tLoss: 0.517114\n",
            "Train Epoch: 2 [800/1152 69%]\tLoss: 0.508889\n",
            "Train Epoch: 2 [960/1152 83%]\tLoss: 0.482218\n",
            "Train Epoch: 2 [1120/1152 97%]\tLoss: 0.461853\n",
            "Validation set: Average loss: 0.4743\n",
            "\n",
            "Train Epoch: 3 [0/1152 0%]\tLoss: 0.473688\n",
            "Train Epoch: 3 [160/1152 14%]\tLoss: 0.472944\n",
            "Train Epoch: 3 [320/1152 28%]\tLoss: 0.462452\n",
            "Train Epoch: 3 [480/1152 42%]\tLoss: 0.448650\n",
            "Train Epoch: 3 [640/1152 56%]\tLoss: 0.430484\n",
            "Train Epoch: 3 [800/1152 69%]\tLoss: 0.419112\n",
            "Train Epoch: 3 [960/1152 83%]\tLoss: 0.421061\n",
            "Train Epoch: 3 [1120/1152 97%]\tLoss: 0.422962\n",
            "Validation set: Average loss: 0.4106\n",
            "\n",
            "Train Epoch: 4 [0/1152 0%]\tLoss: 0.421562\n",
            "Train Epoch: 4 [160/1152 14%]\tLoss: 0.377899\n",
            "Train Epoch: 4 [320/1152 28%]\tLoss: 0.398227\n",
            "Train Epoch: 4 [480/1152 42%]\tLoss: 0.367329\n",
            "Train Epoch: 4 [640/1152 56%]\tLoss: 0.378705\n",
            "Train Epoch: 4 [800/1152 69%]\tLoss: 0.360329\n",
            "Train Epoch: 4 [960/1152 83%]\tLoss: 0.387518\n",
            "Train Epoch: 4 [1120/1152 97%]\tLoss: 0.365551\n",
            "Validation set: Average loss: 0.3635\n",
            "\n",
            "Train Epoch: 5 [0/1152 0%]\tLoss: 0.361388\n",
            "Train Epoch: 5 [160/1152 14%]\tLoss: 0.338263\n",
            "Train Epoch: 5 [320/1152 28%]\tLoss: 0.346464\n",
            "Train Epoch: 5 [480/1152 42%]\tLoss: 0.364957\n",
            "Train Epoch: 5 [640/1152 56%]\tLoss: 0.354148\n",
            "Train Epoch: 5 [800/1152 69%]\tLoss: 0.344888\n",
            "Train Epoch: 5 [960/1152 83%]\tLoss: 0.343851\n",
            "Train Epoch: 5 [1120/1152 97%]\tLoss: 0.305072\n",
            "Validation set: Average loss: 0.3287\n",
            "\n",
            "Train Epoch: 6 [0/1152 0%]\tLoss: 0.359861\n",
            "Train Epoch: 6 [160/1152 14%]\tLoss: 0.310719\n",
            "Train Epoch: 6 [320/1152 28%]\tLoss: 0.328630\n",
            "Train Epoch: 6 [480/1152 42%]\tLoss: 0.321154\n",
            "Train Epoch: 6 [640/1152 56%]\tLoss: 0.313685\n",
            "Train Epoch: 6 [800/1152 69%]\tLoss: 0.293401\n",
            "Train Epoch: 6 [960/1152 83%]\tLoss: 0.295541\n",
            "Train Epoch: 6 [1120/1152 97%]\tLoss: 0.301455\n",
            "Validation set: Average loss: 0.2991\n",
            "\n",
            "Train Epoch: 7 [0/1152 0%]\tLoss: 0.266518\n",
            "Train Epoch: 7 [160/1152 14%]\tLoss: 0.309241\n",
            "Train Epoch: 7 [320/1152 28%]\tLoss: 0.274330\n",
            "Train Epoch: 7 [480/1152 42%]\tLoss: 0.316632\n",
            "Train Epoch: 7 [640/1152 56%]\tLoss: 0.315112\n",
            "Train Epoch: 7 [800/1152 69%]\tLoss: 0.293854\n",
            "Train Epoch: 7 [960/1152 83%]\tLoss: 0.283262\n",
            "Train Epoch: 7 [1120/1152 97%]\tLoss: 0.259425\n",
            "Validation set: Average loss: 0.2796\n",
            "\n",
            "Train Epoch: 8 [0/1152 0%]\tLoss: 0.272296\n",
            "Train Epoch: 8 [160/1152 14%]\tLoss: 0.279786\n",
            "Train Epoch: 8 [320/1152 28%]\tLoss: 0.250206\n",
            "Train Epoch: 8 [480/1152 42%]\tLoss: 0.265390\n",
            "Train Epoch: 8 [640/1152 56%]\tLoss: 0.263791\n",
            "Train Epoch: 8 [800/1152 69%]\tLoss: 0.287288\n",
            "Train Epoch: 8 [960/1152 83%]\tLoss: 0.248914\n",
            "Train Epoch: 8 [1120/1152 97%]\tLoss: 0.235270\n",
            "Validation set: Average loss: 0.2661\n",
            "\n",
            "Train Epoch: 9 [0/1152 0%]\tLoss: 0.287723\n",
            "Train Epoch: 9 [160/1152 14%]\tLoss: 0.231899\n",
            "Train Epoch: 9 [320/1152 28%]\tLoss: 0.243290\n",
            "Train Epoch: 9 [480/1152 42%]\tLoss: 0.239193\n",
            "Train Epoch: 9 [640/1152 56%]\tLoss: 0.280431\n",
            "Train Epoch: 9 [800/1152 69%]\tLoss: 0.249601\n",
            "Train Epoch: 9 [960/1152 83%]\tLoss: 0.219589\n",
            "Train Epoch: 9 [1120/1152 97%]\tLoss: 0.243833\n",
            "Validation set: Average loss: 0.2553\n",
            "\n",
            "Train Epoch: 10 [0/1152 0%]\tLoss: 0.245704\n",
            "Train Epoch: 10 [160/1152 14%]\tLoss: 0.239219\n",
            "Train Epoch: 10 [320/1152 28%]\tLoss: 0.233169\n",
            "Train Epoch: 10 [480/1152 42%]\tLoss: 0.205279\n",
            "Train Epoch: 10 [640/1152 56%]\tLoss: 0.215406\n",
            "Train Epoch: 10 [800/1152 69%]\tLoss: 0.229848\n",
            "Train Epoch: 10 [960/1152 83%]\tLoss: 0.243885\n",
            "Train Epoch: 10 [1120/1152 97%]\tLoss: 0.234785\n",
            "Validation set: Average loss: 0.2469\n",
            "\n",
            "Train Epoch: 11 [0/1152 0%]\tLoss: 0.232051\n",
            "Train Epoch: 11 [160/1152 14%]\tLoss: 0.211456\n",
            "Train Epoch: 11 [320/1152 28%]\tLoss: 0.234299\n",
            "Train Epoch: 11 [480/1152 42%]\tLoss: 0.221159\n",
            "Train Epoch: 11 [640/1152 56%]\tLoss: 0.235545\n",
            "Train Epoch: 11 [800/1152 69%]\tLoss: 0.198694\n",
            "Train Epoch: 11 [960/1152 83%]\tLoss: 0.226508\n",
            "Train Epoch: 11 [1120/1152 97%]\tLoss: 0.214207\n",
            "Validation set: Average loss: 0.2398\n",
            "\n",
            "Train Epoch: 12 [0/1152 0%]\tLoss: 0.196588\n",
            "Train Epoch: 12 [160/1152 14%]\tLoss: 0.227934\n",
            "Train Epoch: 12 [320/1152 28%]\tLoss: 0.216374\n",
            "Train Epoch: 12 [480/1152 42%]\tLoss: 0.211684\n",
            "Train Epoch: 12 [640/1152 56%]\tLoss: 0.227167\n",
            "Train Epoch: 12 [800/1152 69%]\tLoss: 0.219741\n",
            "Train Epoch: 12 [960/1152 83%]\tLoss: 0.231892\n",
            "Train Epoch: 12 [1120/1152 97%]\tLoss: 0.204357\n",
            "Validation set: Average loss: 0.2345\n",
            "\n",
            "Train Epoch: 13 [0/1152 0%]\tLoss: 0.184367\n",
            "Train Epoch: 13 [160/1152 14%]\tLoss: 0.246783\n",
            "Train Epoch: 13 [320/1152 28%]\tLoss: 0.199307\n",
            "Train Epoch: 13 [480/1152 42%]\tLoss: 0.178650\n",
            "Train Epoch: 13 [640/1152 56%]\tLoss: 0.187791\n",
            "Train Epoch: 13 [800/1152 69%]\tLoss: 0.227188\n",
            "Train Epoch: 13 [960/1152 83%]\tLoss: 0.224523\n",
            "Train Epoch: 13 [1120/1152 97%]\tLoss: 0.172518\n",
            "Validation set: Average loss: 0.2300\n",
            "\n",
            "Train Epoch: 14 [0/1152 0%]\tLoss: 0.247288\n",
            "Train Epoch: 14 [160/1152 14%]\tLoss: 0.204287\n",
            "Train Epoch: 14 [320/1152 28%]\tLoss: 0.187279\n",
            "Train Epoch: 14 [480/1152 42%]\tLoss: 0.190811\n",
            "Train Epoch: 14 [640/1152 56%]\tLoss: 0.172374\n",
            "Train Epoch: 14 [800/1152 69%]\tLoss: 0.221522\n",
            "Train Epoch: 14 [960/1152 83%]\tLoss: 0.227776\n",
            "Train Epoch: 14 [1120/1152 97%]\tLoss: 0.214865\n",
            "Validation set: Average loss: 0.2294\n",
            "\n",
            "Train Epoch: 15 [0/1152 0%]\tLoss: 0.205473\n",
            "Train Epoch: 15 [160/1152 14%]\tLoss: 0.205843\n",
            "Train Epoch: 15 [320/1152 28%]\tLoss: 0.212314\n",
            "Train Epoch: 15 [480/1152 42%]\tLoss: 0.210712\n",
            "Train Epoch: 15 [640/1152 56%]\tLoss: 0.245453\n",
            "Train Epoch: 15 [800/1152 69%]\tLoss: 0.220782\n",
            "Train Epoch: 15 [960/1152 83%]\tLoss: 0.206776\n",
            "Train Epoch: 15 [1120/1152 97%]\tLoss: 0.196026\n",
            "Validation set: Average loss: 0.2241\n",
            "\n",
            "Train Epoch: 16 [0/1152 0%]\tLoss: 0.194130\n",
            "Train Epoch: 16 [160/1152 14%]\tLoss: 0.167042\n",
            "Train Epoch: 16 [320/1152 28%]\tLoss: 0.155255\n",
            "Train Epoch: 16 [480/1152 42%]\tLoss: 0.197429\n",
            "Train Epoch: 16 [640/1152 56%]\tLoss: 0.235839\n",
            "Train Epoch: 16 [800/1152 69%]\tLoss: 0.215208\n",
            "Train Epoch: 16 [960/1152 83%]\tLoss: 0.199692\n",
            "Train Epoch: 16 [1120/1152 97%]\tLoss: 0.218352\n",
            "Validation set: Average loss: 0.2224\n",
            "\n",
            "Train Epoch: 17 [0/1152 0%]\tLoss: 0.209236\n",
            "Train Epoch: 17 [160/1152 14%]\tLoss: 0.183756\n",
            "Train Epoch: 17 [320/1152 28%]\tLoss: 0.242242\n",
            "Train Epoch: 17 [480/1152 42%]\tLoss: 0.175370\n",
            "Train Epoch: 17 [640/1152 56%]\tLoss: 0.170709\n",
            "Train Epoch: 17 [800/1152 69%]\tLoss: 0.181468\n",
            "Train Epoch: 17 [960/1152 83%]\tLoss: 0.193664\n",
            "Train Epoch: 17 [1120/1152 97%]\tLoss: 0.177581\n",
            "Validation set: Average loss: 0.2227\n",
            "\n",
            "Train Epoch: 18 [0/1152 0%]\tLoss: 0.227671\n",
            "Train Epoch: 18 [160/1152 14%]\tLoss: 0.188328\n",
            "Train Epoch: 18 [320/1152 28%]\tLoss: 0.223956\n",
            "Train Epoch: 18 [480/1152 42%]\tLoss: 0.239578\n",
            "Train Epoch: 18 [640/1152 56%]\tLoss: 0.206924\n",
            "Train Epoch: 18 [800/1152 69%]\tLoss: 0.189416\n",
            "Train Epoch: 18 [960/1152 83%]\tLoss: 0.180792\n",
            "Train Epoch: 18 [1120/1152 97%]\tLoss: 0.172712\n",
            "Validation set: Average loss: 0.2204\n",
            "\n",
            "Train Epoch: 19 [0/1152 0%]\tLoss: 0.178447\n",
            "Train Epoch: 19 [160/1152 14%]\tLoss: 0.193992\n",
            "Train Epoch: 19 [320/1152 28%]\tLoss: 0.154367\n",
            "Train Epoch: 19 [480/1152 42%]\tLoss: 0.208238\n",
            "Train Epoch: 19 [640/1152 56%]\tLoss: 0.199194\n",
            "Train Epoch: 19 [800/1152 69%]\tLoss: 0.172423\n",
            "Train Epoch: 19 [960/1152 83%]\tLoss: 0.188914\n",
            "Train Epoch: 19 [1120/1152 97%]\tLoss: 0.215215\n",
            "Validation set: Average loss: 0.2164\n",
            "\n",
            "Train Epoch: 20 [0/1152 0%]\tLoss: 0.173412\n",
            "Train Epoch: 20 [160/1152 14%]\tLoss: 0.181692\n",
            "Train Epoch: 20 [320/1152 28%]\tLoss: 0.184891\n",
            "Train Epoch: 20 [480/1152 42%]\tLoss: 0.186211\n",
            "Train Epoch: 20 [640/1152 56%]\tLoss: 0.177953\n",
            "Train Epoch: 20 [800/1152 69%]\tLoss: 0.210782\n",
            "Train Epoch: 20 [960/1152 83%]\tLoss: 0.166153\n",
            "Train Epoch: 20 [1120/1152 97%]\tLoss: 0.172387\n",
            "Validation set: Average loss: 0.2169\n",
            "\n",
            "Train Epoch: 21 [0/1152 0%]\tLoss: 0.159511\n",
            "Train Epoch: 21 [160/1152 14%]\tLoss: 0.192350\n",
            "Train Epoch: 21 [320/1152 28%]\tLoss: 0.194030\n",
            "Train Epoch: 21 [480/1152 42%]\tLoss: 0.208209\n",
            "Train Epoch: 21 [640/1152 56%]\tLoss: 0.181888\n",
            "Train Epoch: 21 [800/1152 69%]\tLoss: 0.191179\n",
            "Train Epoch: 21 [960/1152 83%]\tLoss: 0.146402\n",
            "Train Epoch: 21 [1120/1152 97%]\tLoss: 0.193588\n",
            "Validation set: Average loss: 0.2153\n",
            "\n",
            "Train Epoch: 22 [0/1152 0%]\tLoss: 0.188020\n",
            "Train Epoch: 22 [160/1152 14%]\tLoss: 0.179356\n",
            "Train Epoch: 22 [320/1152 28%]\tLoss: 0.226370\n",
            "Train Epoch: 22 [480/1152 42%]\tLoss: 0.178470\n",
            "Train Epoch: 22 [640/1152 56%]\tLoss: 0.161776\n",
            "Train Epoch: 22 [800/1152 69%]\tLoss: 0.158330\n",
            "Train Epoch: 22 [960/1152 83%]\tLoss: 0.186630\n",
            "Train Epoch: 22 [1120/1152 97%]\tLoss: 0.179111\n",
            "Validation set: Average loss: 0.2155\n",
            "\n",
            "Train Epoch: 23 [0/1152 0%]\tLoss: 0.184180\n",
            "Train Epoch: 23 [160/1152 14%]\tLoss: 0.192603\n",
            "Train Epoch: 23 [320/1152 28%]\tLoss: 0.159156\n",
            "Train Epoch: 23 [480/1152 42%]\tLoss: 0.137535\n",
            "Train Epoch: 23 [640/1152 56%]\tLoss: 0.190937\n",
            "Train Epoch: 23 [800/1152 69%]\tLoss: 0.199924\n",
            "Train Epoch: 23 [960/1152 83%]\tLoss: 0.154770\n",
            "Train Epoch: 23 [1120/1152 97%]\tLoss: 0.170251\n",
            "Validation set: Average loss: 0.2165\n",
            "\n",
            "Train Epoch: 24 [0/1152 0%]\tLoss: 0.183529\n",
            "Train Epoch: 24 [160/1152 14%]\tLoss: 0.219653\n",
            "Train Epoch: 24 [320/1152 28%]\tLoss: 0.184252\n",
            "Train Epoch: 24 [480/1152 42%]\tLoss: 0.159599\n",
            "Train Epoch: 24 [640/1152 56%]\tLoss: 0.150576\n",
            "Train Epoch: 24 [800/1152 69%]\tLoss: 0.149156\n",
            "Train Epoch: 24 [960/1152 83%]\tLoss: 0.153569\n",
            "Train Epoch: 24 [1120/1152 97%]\tLoss: 0.161266\n",
            "Validation set: Average loss: 0.2138\n",
            "\n",
            "Train Epoch: 25 [0/1152 0%]\tLoss: 0.178550\n",
            "Train Epoch: 25 [160/1152 14%]\tLoss: 0.134396\n",
            "Train Epoch: 25 [320/1152 28%]\tLoss: 0.163107\n",
            "Train Epoch: 25 [480/1152 42%]\tLoss: 0.192300\n",
            "Train Epoch: 25 [640/1152 56%]\tLoss: 0.187983\n",
            "Train Epoch: 25 [800/1152 69%]\tLoss: 0.183634\n",
            "Train Epoch: 25 [960/1152 83%]\tLoss: 0.186564\n",
            "Train Epoch: 25 [1120/1152 97%]\tLoss: 0.154152\n",
            "Validation set: Average loss: 0.2151\n",
            "\n",
            "Train Epoch: 26 [0/1152 0%]\tLoss: 0.156203\n",
            "Train Epoch: 26 [160/1152 14%]\tLoss: 0.146554\n",
            "Train Epoch: 26 [320/1152 28%]\tLoss: 0.163583\n",
            "Train Epoch: 26 [480/1152 42%]\tLoss: 0.159027\n",
            "Train Epoch: 26 [640/1152 56%]\tLoss: 0.143749\n",
            "Train Epoch: 26 [800/1152 69%]\tLoss: 0.210315\n",
            "Train Epoch: 26 [960/1152 83%]\tLoss: 0.132725\n",
            "Train Epoch: 26 [1120/1152 97%]\tLoss: 0.153804\n",
            "Validation set: Average loss: 0.2130\n",
            "\n",
            "Train Epoch: 27 [0/1152 0%]\tLoss: 0.141529\n",
            "Train Epoch: 27 [160/1152 14%]\tLoss: 0.163964\n",
            "Train Epoch: 27 [320/1152 28%]\tLoss: 0.161248\n",
            "Train Epoch: 27 [480/1152 42%]\tLoss: 0.197883\n",
            "Train Epoch: 27 [640/1152 56%]\tLoss: 0.155199\n",
            "Train Epoch: 27 [800/1152 69%]\tLoss: 0.146332\n",
            "Train Epoch: 27 [960/1152 83%]\tLoss: 0.136456\n",
            "Train Epoch: 27 [1120/1152 97%]\tLoss: 0.172280\n",
            "Validation set: Average loss: 0.2124\n",
            "\n",
            "Train Epoch: 28 [0/1152 0%]\tLoss: 0.131375\n",
            "Train Epoch: 28 [160/1152 14%]\tLoss: 0.198362\n",
            "Train Epoch: 28 [320/1152 28%]\tLoss: 0.154204\n",
            "Train Epoch: 28 [480/1152 42%]\tLoss: 0.155852\n",
            "Train Epoch: 28 [640/1152 56%]\tLoss: 0.143879\n",
            "Train Epoch: 28 [800/1152 69%]\tLoss: 0.166895\n",
            "Train Epoch: 28 [960/1152 83%]\tLoss: 0.159768\n",
            "Train Epoch: 28 [1120/1152 97%]\tLoss: 0.146027\n",
            "Validation set: Average loss: 0.2110\n",
            "\n",
            "Train Epoch: 29 [0/1152 0%]\tLoss: 0.158484\n",
            "Train Epoch: 29 [160/1152 14%]\tLoss: 0.133629\n",
            "Train Epoch: 29 [320/1152 28%]\tLoss: 0.180071\n",
            "Train Epoch: 29 [480/1152 42%]\tLoss: 0.141470\n",
            "Train Epoch: 29 [640/1152 56%]\tLoss: 0.178043\n",
            "Train Epoch: 29 [800/1152 69%]\tLoss: 0.152829\n",
            "Train Epoch: 29 [960/1152 83%]\tLoss: 0.175247\n",
            "Train Epoch: 29 [1120/1152 97%]\tLoss: 0.137592\n",
            "Validation set: Average loss: 0.2122\n",
            "\n",
            "Train Epoch: 30 [0/1152 0%]\tLoss: 0.184447\n",
            "Train Epoch: 30 [160/1152 14%]\tLoss: 0.132718\n",
            "Train Epoch: 30 [320/1152 28%]\tLoss: 0.194935\n",
            "Train Epoch: 30 [480/1152 42%]\tLoss: 0.171143\n",
            "Train Epoch: 30 [640/1152 56%]\tLoss: 0.156813\n",
            "Train Epoch: 30 [800/1152 69%]\tLoss: 0.163169\n",
            "Train Epoch: 30 [960/1152 83%]\tLoss: 0.153814\n",
            "Train Epoch: 30 [1120/1152 97%]\tLoss: 0.168037\n",
            "Validation set: Average loss: 0.2109\n",
            "\n",
            "CPU times: user 47.2 s, sys: 8.29 s, total: 55.5 s\n",
            "Wall time: 55.8 s\n"
          ],
          "name": "stdout"
        }
      ]
    },
    {
      "metadata": {
        "id": "0FQYCThgq6RJ",
        "colab_type": "code",
        "outputId": "adffd97a-48a9-4221-cfa2-15be5ce2fc98",
        "colab": {
          "base_uri": "https://localhost:8080/",
          "height": 376
        }
      },
      "cell_type": "code",
      "source": [
        "# The schema allows to see if the model was properly fitted\n",
        "# that allows us to learn if the initial learning rate was appropriate\n",
        "plt.title(\"Model loss\")\n",
        "plt.plot(train_loss, label=\"train\")\n",
        "plt.plot(val_loss, label=\"validation\")\n",
        "plt.ylabel(\"loss\")\n",
        "plt.xlabel(\"epoch\")\n",
        "plt.legend()\n",
        "plt.show()"
      ],
      "execution_count": 0,
      "outputs": [
        {
          "output_type": "display_data",
          "data": {
            "image/png": "[encoded data removed]",
            "text/plain": [
              "<matplotlib.figure.Figure at 0x7f70633e8c18>"
            ]
          },
          "metadata": {
            "tags": []
          }
        }
      ]
    },
    {
      "metadata": {
        "id": "DVf1FbF-xVmr",
        "colab_type": "text"
      },
      "cell_type": "markdown",
      "source": [
        "### Treshold optimization\n",
        "DISCLAIMER : Does not work as intended.\n",
        "\n",
        "In that part we strive to optimize the treshold of activation of each label, in order to maximize F1 score"
      ]
    },
    {
      "metadata": {
        "id": "YNwv6YM_8i5n",
        "colab_type": "code",
        "colab": {}
      },
      "cell_type": "code",
      "source": [
        "# Concatenating all the batches _label_ output in order to not compute it several \n",
        "# times for F1 score optimization.\n",
        "\n",
        "def make_pred(bounded_output_all, tresholds):\n",
        "  return bounded_output_all.data.gt(tresholds) # Activation\n",
        "\n",
        "for i, (inputv, targetv) in enumerate(test_loader):\n",
        "  inputv = inputv.to(device)\n",
        "  targetv = targetv.to(device)\n",
        "  bounded_output = torch.sigmoid(model(inputv))\n",
        "  if i==0:\n",
        "    bounded_output_all = bounded_output\n",
        "    truth_all = targetv\n",
        "  else:\n",
        "    bounded_output_all = torch.cat((bounded_output_all, bounded_output), 0)   \n",
        "    truth_all = torch.cat((truth_all, targetv), 0)"
      ],
      "execution_count": 0,
      "outputs": []
    },
    {
      "metadata": {
        "id": "e4p03yGshqTs",
        "colab_type": "code",
        "outputId": "aa79a2c9-913b-4b24-c6d4-20462ff20e8f",
        "colab": {
          "base_uri": "https://localhost:8080/",
          "height": 378
        }
      },
      "cell_type": "code",
      "source": [
        "# Optimizing treshold for each label : Iterating over labels\n",
        "# Dropout layers have the effect of making a network not returning the same output for a same output at different runs\n",
        "# This means that F1 score function will be \"noisy\", ie it won't be a smooth curve.\n",
        "# This makes optimization much more complicate than simply a SGD descent. To be tolerant of that case, \n",
        "# we check all values in order to not be tricked by noise, and choose the observed maximum.\n",
        "\n",
        "\n",
        "def compute_f1(pred, target):\n",
        "  \"\"\" Yields same result as scikit learn's micro averaged f1 but without\n",
        "  a warning. \"\"\"\n",
        "  tp = (pred + target.long()).eq(2).sum()\n",
        "  fp = (pred - target.data.to(device).long()).eq(1).sum()\n",
        "  fn = (pred - target.data.to(device).long()).eq(-1).sum()\n",
        "  tn = (pred + target.data.to(device).long()).eq(0).sum()\n",
        "\n",
        "  if tp+fp!=0:\n",
        "    prec = tp.float() / (tp + fp)\n",
        "  else:\n",
        "    prec = 0.0\n",
        "  if tp+fn != 0:\n",
        "    rec = tp.float() / (tp + fn)\n",
        "  else:\n",
        "    rec = 0.0\n",
        "  if (prec+rec)==0:\n",
        "    f1 = 0.0\n",
        "  else: \n",
        "    f1tensor = 2*(prec*rec)/(prec+rec)\n",
        "    f1 = f1tensor.data.item()\n",
        "  return f1\n",
        "    \n",
        "class tresholdOptimizer():\n",
        "  def __init__(self, paces=30, max=1): # High pace means more precision but slower computation\n",
        "    wrapper = lambda array: [[elem] for elem in array]\n",
        "    self.tresholds = np.linspace(0,max,paces)\n",
        "    \n",
        "    for i in range(14): # label\n",
        "      current_tresholds = [1 for _ in range(14)] # 1 so other labels are never activated,\n",
        "                                                 # and only the currently studied treshold make the f1 vary\n",
        "      f1 = []\n",
        "      for t in self.tresholds:\n",
        "        current_tresholds[i] = t\n",
        "        tresholds_as_tensor = torch.Tensor(current_tresholds).to(device) \n",
        "        bounded_output_all_for_i = bounded_output_all[:, i]\n",
        "        pred_all = make_pred(bounded_output_all, tresholds_as_tensor)\n",
        "        f1_curr = compute_f1(truth_all, pred_all) # For some reason sklearn echoes a warning, but both this function and sklearn's yield the same result\n",
        "        f1.append(f1_curr)\n",
        "      if i==0:\n",
        "        self.tab = [f1]\n",
        "      else:\n",
        "        self.tab.append(f1)\n",
        "        \n",
        "  def view(self):\n",
        "    plt.xlabel(\"treshold\")\n",
        "    plt.ylabel(\"F1 score\")\n",
        "    for label in range(0,14):\n",
        "      plt.plot(self.tresholds , self.tab[label], label=oneHotTransformer.vocabulary[label])\n",
        "      imax = np.argmax(self.tab[label])\n",
        "      plt.scatter(self.tresholds[imax], self.tab[label][imax], marker=\"+\")\n",
        "    plt.legend()\n",
        "    plt.show()\n",
        "\n",
        "  def get_best_tresholds(self):\n",
        "    res = []\n",
        "    for label in range(0,14):\n",
        "      imax=np.argmax(self.tab[label])\n",
        "      res.append(self.tresholds[imax])\n",
        "    return res\n",
        "\n",
        "treshold_opt = tresholdOptimizer()\n",
        "treshold_opt.view()\n",
        "print(\"tresholds:\", treshold_opt.get_best_tresholds())"
      ],
      "execution_count": 195,
      "outputs": [
        {
          "output_type": "display_data",
          "data": {
            "image/png": "[encoded data removed]",
            "text/plain": [
              "<matplotlib.figure.Figure at 0x7f704ced32e8>"
            ]
          },
          "metadata": {
            "tags": []
          }
        },
        {
          "output_type": "stream",
          "text": [
            "tresholds: [0.0, 0.0, 0.0, 0.0, 0.13793103448275862, 0.0, 0.13793103448275862, 0.0, 0.10344827586206896, 0.0, 0.0, 0.0, 0.0, 0.0]\n"
          ],
          "name": "stdout"
        }
      ]
    },
    {
      "metadata": {
        "id": "k8Pz4Koct-Ez",
        "colab_type": "code",
        "outputId": "568879d1-40d6-4c24-d300-7aa8bb3d0580",
        "colab": {
          "base_uri": "https://localhost:8080/",
          "height": 156
        }
      },
      "cell_type": "code",
      "source": [
        "# CAREFUL! It appears that my implementation does not work. A constant treshold of 0.2\n",
        "# appear to yield much better f1 than my implementation. Some fields are detected as performing best with 0, \n",
        "# with our optimizer which is wrong as shown below.\n",
        "\n",
        "# tresholds = treshold_opt.get_best_tresholds() # Is actually not the best..!\n",
        "\n",
        "\n",
        "tresholds = treshold_opt.get_best_tresholds() # Is actually not the best..!)      \n",
        "tresholds_as_tensor = torch.Tensor(tresholds).to(device)\n",
        "pred_all = make_pred(bounded_output_all, tresholds_as_tensor)\n",
        "f1 = compute_f1(pred_all.long(), truth_all)\n",
        "#f1 = sklearn.metrics.f1_score(truth_all.cpu(), pred_all.cpu(), average=\"micro\") # same result\n",
        "print(\"tresholds\", tresholds_as_tensor)\n",
        "print(\"F1 score : {:.2f}%\\n\".format(f1*100))\n",
        "      \n",
        "tresholds = [0.3, 0.3,\n",
        " 0.3, 0.3,\n",
        " 0.3, 0.3,\n",
        " 0.3, 0.3,\n",
        " 0.3, 0.3,\n",
        " 0.3, 0.3,\n",
        " 0.3, 0.3]\n",
        "tresholds_as_tensor = torch.Tensor(tresholds).to(device)\n",
        "pred_all = make_pred(bounded_output_all, tresholds_as_tensor)\n",
        "f1 = compute_f1(pred_all.long(), truth_all)\n",
        "print(\"tresholds\", tresholds_as_tensor)\n",
        "print(\"F1 score : {:.2f}%\\n\".format(f1*100))\n"
      ],
      "execution_count": 220,
      "outputs": [
        {
          "output_type": "stream",
          "text": [
            "tresholds tensor([0.0000, 0.0000, 0.0000, 0.0000, 0.1379, 0.0000, 0.1379, 0.0000, 0.1034,\n",
            "        0.0000, 0.0000, 0.0000, 0.0000, 0.0000], device='cuda:0')\n",
            "F1 score : 19.13%\n",
            "\n",
            "tresholds tensor([0.3000, 0.3000, 0.3000, 0.3000, 0.3000, 0.3000, 0.3000, 0.3000, 0.3000,\n",
            "        0.3000, 0.3000, 0.3000, 0.3000, 0.3000], device='cuda:0')\n",
            "F1 score : 52.24%\n",
            "\n"
          ],
          "name": "stdout"
        }
      ]
    },
    {
      "metadata": {
        "id": "37ZEYitEYbVv",
        "colab_type": "code",
        "colab": {
          "base_uri": "https://localhost:8080/",
          "height": 471
        },
        "outputId": "870f357e-d6d8-4541-9607-34416c5071b0"
      },
      "cell_type": "code",
      "source": [
        "# Result with \"\"\" Optimized \"\"\" tresholds\n",
        "from sklearn.metrics import classification_report\n",
        "tresholds = treshold_opt.get_best_tresholds() # Is actually not the best..!)      \n",
        "tresholds_as_tensor = torch.Tensor(tresholds).to(device)\n",
        "pred_all = make_pred(bounded_output_all, tresholds_as_tensor)\n",
        "\n",
        "target_names = oneHotTransformer.vocabulary\n",
        "#report = classification_report(truth_all.cpu(), pred_all.cpu(), target_names=target_names, output_dict=True)\n",
        "report = classification_report(truth_all.cpu(), pred_all.cpu(), target_names=target_names)\n",
        "print(\"with tresholds\", list(zip(target_names, tresholds)))\n",
        "print(report)\n",
        "# Apparently, the optimization is good for all f1-score avg _EXCEPT_ micro (compare with the cell below)"
      ],
      "execution_count": 234,
      "outputs": [
        {
          "output_type": "stream",
          "text": [
            "with tresholds [('bird', 0.0), ('tree', 0.0), ('flower', 0.0), ('clouds', 0.0), ('female', 0.13793103448275862), ('river', 0.0), ('portrait', 0.13793103448275862), ('car', 0.0), ('male', 0.10344827586206896), ('dog', 0.0), ('night', 0.0), ('people', 0.0), ('baby', 0.0), ('sea', 0.0)]\n",
            "              precision    recall  f1-score   support\n",
            "\n",
            "        bird       0.01      1.00      0.01         2\n",
            "        tree       0.02      1.00      0.04         6\n",
            "      flower       0.00      1.00      0.01         1\n",
            "      clouds       0.03      1.00      0.05         8\n",
            "      female       0.37      0.95      0.53        92\n",
            "       river       0.00      1.00      0.01         1\n",
            "    portrait       0.33      0.93      0.49        74\n",
            "         car       0.01      1.00      0.01         2\n",
            "        male       0.21      1.00      0.35        59\n",
            "         dog       0.02      1.00      0.03         5\n",
            "       night       0.02      1.00      0.05         7\n",
            "      people       0.56      1.00      0.72       159\n",
            "        baby       0.01      1.00      0.01         2\n",
            "         sea       0.00      1.00      0.01         1\n",
            "\n",
            "   micro avg       0.11      0.98      0.19       419\n",
            "   macro avg       0.11      0.99      0.17       419\n",
            "weighted avg       0.38      0.98      0.53       419\n",
            " samples avg       0.10      0.65      0.18       419\n",
            "\n"
          ],
          "name": "stdout"
        },
        {
          "output_type": "stream",
          "text": [
            "/usr/local/lib/python3.6/dist-packages/sklearn/metrics/classification.py:1145: UndefinedMetricWarning: Recall and F-score are ill-defined and being set to 0.0 in samples with no true labels.\n",
            "  'recall', 'true', average, warn_for)\n"
          ],
          "name": "stderr"
        }
      ]
    },
    {
      "metadata": {
        "id": "1SXRnombZcXg",
        "colab_type": "code",
        "colab": {
          "base_uri": "https://localhost:8080/",
          "height": 541
        },
        "outputId": "056d8762-5304-4f4c-e2fb-b30ee1ff930d"
      },
      "cell_type": "code",
      "source": [
        "# Result with rubbish tresholds\n",
        "from sklearn.metrics import classification_report\n",
        "tresholds = [0.2 for _ in range(14)]\n",
        "tresholds_as_tensor = torch.Tensor(tresholds).to(device)\n",
        "pred_all = make_pred(bounded_output_all, tresholds_as_tensor)\n",
        "\n",
        "target_names = oneHotTransformer.vocabulary\n",
        "#report = classification_report(truth_all.cpu(), pred_all.cpu(), target_names=target_names, output_dict=True)\n",
        "report = classification_report(truth_all.cpu(), pred_all.cpu(), target_names=target_names)\n",
        "print(\"with tresholds\", list(zip(target_names, tresholds)))\n",
        "print(report)"
      ],
      "execution_count": 244,
      "outputs": [
        {
          "output_type": "stream",
          "text": [
            "with tresholds [('bird', 0.2), ('tree', 0.2), ('flower', 0.2), ('clouds', 0.2), ('female', 0.2), ('river', 0.2), ('portrait', 0.2), ('car', 0.2), ('male', 0.2), ('dog', 0.2), ('night', 0.2), ('people', 0.2), ('baby', 0.2), ('sea', 0.2)]\n",
            "              precision    recall  f1-score   support\n",
            "\n",
            "        bird       0.00      0.00      0.00         2\n",
            "        tree       0.00      0.00      0.00         6\n",
            "      flower       0.00      0.00      0.00         1\n",
            "      clouds       0.00      0.00      0.00         8\n",
            "      female       0.41      0.74      0.53        92\n",
            "       river       0.00      0.00      0.00         1\n",
            "    portrait       0.37      0.77      0.50        74\n",
            "         car       0.00      0.00      0.00         2\n",
            "        male       0.21      0.64      0.31        59\n",
            "         dog       0.00      0.00      0.00         5\n",
            "       night       0.00      0.00      0.00         7\n",
            "      people       0.56      0.99      0.71       159\n",
            "        baby       0.00      0.00      0.00         2\n",
            "         sea       0.00      0.00      0.00         1\n",
            "\n",
            "   micro avg       0.41      0.76      0.53       419\n",
            "   macro avg       0.11      0.22      0.15       419\n",
            "weighted avg       0.40      0.76      0.52       419\n",
            " samples avg       0.40      0.47      0.41       419\n",
            "\n"
          ],
          "name": "stdout"
        },
        {
          "output_type": "stream",
          "text": [
            "/usr/local/lib/python3.6/dist-packages/sklearn/metrics/classification.py:1143: UndefinedMetricWarning: Precision and F-score are ill-defined and being set to 0.0 in labels with no predicted samples.\n",
            "  'precision', 'predicted', average, warn_for)\n",
            "/usr/local/lib/python3.6/dist-packages/sklearn/metrics/classification.py:1143: UndefinedMetricWarning: Precision and F-score are ill-defined and being set to 0.0 in samples with no predicted labels.\n",
            "  'precision', 'predicted', average, warn_for)\n",
            "/usr/local/lib/python3.6/dist-packages/sklearn/metrics/classification.py:1145: UndefinedMetricWarning: Recall and F-score are ill-defined and being set to 0.0 in samples with no true labels.\n",
            "  'recall', 'true', average, warn_for)\n"
          ],
          "name": "stderr"
        }
      ]
    },
    {
      "metadata": {
        "id": "M_alI9uxkzjy",
        "colab_type": "code",
        "outputId": "9f01bf44-9022-4924-e680-fa8ae118d108",
        "colab": {
          "base_uri": "https://localhost:8080/",
          "height": 625
        }
      },
      "cell_type": "code",
      "source": [
        "# Have a look at results\n",
        "# So we can know what error is common\n",
        "for i, sample in enumerate(test_loader):\n",
        "    inputv, targetv = sample\n",
        "    inputv = inputv.to(device)\n",
        "    output = model(inputv)\n",
        "    \n",
        "    #print(\"Prediction\\n\", output)\n",
        "    tresholds = treshold_opt.get_best_tresholds()\n",
        "    tresholds_as_tensor = torch.Tensor(tresholds).to(device) \n",
        "    pred = output.data.gt(tresholds_as_tensor) # Activated output\n",
        "    print(\"Prediction\\n\", pred)\n",
        "    print(\"Truth\\n\", targetv)\n",
        "    break"
      ],
      "execution_count": 0,
      "outputs": [
        {
          "output_type": "stream",
          "text": [
            "Prediction\n",
            " tensor([[0, 0, 0, 0, 0, 0, 0, 0, 0, 0, 0, 0, 0, 0],\n",
            "        [0, 0, 0, 0, 0, 0, 0, 0, 0, 0, 0, 0, 0, 0],\n",
            "        [0, 0, 0, 0, 0, 0, 0, 0, 0, 0, 0, 0, 0, 0],\n",
            "        [0, 0, 0, 0, 0, 0, 0, 0, 0, 0, 0, 0, 0, 0],\n",
            "        [0, 0, 0, 0, 0, 0, 0, 0, 0, 0, 0, 0, 0, 0],\n",
            "        [0, 0, 0, 0, 0, 0, 0, 0, 0, 0, 0, 0, 0, 0],\n",
            "        [0, 0, 0, 0, 0, 0, 0, 0, 0, 0, 0, 0, 0, 0],\n",
            "        [0, 0, 0, 0, 0, 0, 0, 0, 0, 0, 0, 0, 0, 0],\n",
            "        [0, 0, 0, 0, 0, 0, 0, 0, 0, 0, 0, 0, 0, 0],\n",
            "        [0, 0, 0, 0, 0, 0, 0, 0, 0, 0, 0, 0, 0, 0],\n",
            "        [0, 0, 0, 0, 0, 0, 0, 0, 0, 0, 0, 0, 0, 0],\n",
            "        [0, 0, 0, 0, 0, 0, 0, 0, 0, 0, 0, 0, 0, 0],\n",
            "        [0, 0, 0, 0, 0, 0, 0, 0, 0, 0, 0, 0, 0, 0],\n",
            "        [0, 0, 0, 0, 0, 0, 0, 0, 0, 0, 0, 0, 0, 0],\n",
            "        [0, 0, 0, 0, 0, 0, 0, 0, 0, 0, 0, 0, 0, 0],\n",
            "        [0, 0, 0, 0, 0, 0, 0, 0, 0, 0, 0, 0, 0, 0]], device='cuda:0',\n",
            "       dtype=torch.uint8)\n",
            "Truth\n",
            " tensor([[0, 0, 0, 0, 0, 0, 0, 0, 0, 0, 0, 0, 0, 0],\n",
            "        [0, 0, 0, 0, 1, 0, 1, 0, 0, 0, 0, 1, 0, 0],\n",
            "        [0, 0, 0, 0, 0, 0, 0, 0, 0, 0, 0, 0, 0, 0],\n",
            "        [0, 0, 0, 0, 1, 0, 1, 0, 0, 0, 0, 1, 0, 0],\n",
            "        [0, 0, 0, 0, 0, 0, 0, 0, 0, 0, 0, 1, 0, 0],\n",
            "        [0, 0, 0, 0, 0, 0, 0, 0, 0, 0, 0, 0, 0, 0],\n",
            "        [0, 0, 0, 0, 0, 0, 0, 0, 0, 0, 0, 0, 0, 0],\n",
            "        [0, 0, 0, 0, 1, 0, 0, 0, 1, 0, 0, 1, 0, 0],\n",
            "        [0, 0, 0, 0, 0, 0, 0, 0, 0, 0, 0, 0, 0, 0],\n",
            "        [0, 0, 0, 0, 0, 0, 0, 0, 1, 0, 0, 1, 0, 0],\n",
            "        [0, 0, 0, 0, 0, 0, 1, 0, 1, 0, 0, 1, 0, 0],\n",
            "        [0, 0, 0, 0, 1, 0, 1, 0, 0, 0, 0, 1, 0, 0],\n",
            "        [0, 0, 0, 0, 1, 0, 1, 0, 0, 0, 0, 1, 0, 0],\n",
            "        [0, 0, 0, 0, 0, 0, 0, 0, 0, 0, 0, 0, 0, 0],\n",
            "        [0, 0, 0, 0, 0, 0, 0, 0, 0, 0, 0, 0, 0, 0],\n",
            "        [0, 0, 0, 0, 1, 0, 0, 0, 1, 0, 0, 1, 0, 0]])\n"
          ],
          "name": "stdout"
        }
      ]
    },
    {
      "metadata": {
        "id": "H0mnKztnZaqj",
        "colab_type": "text"
      },
      "cell_type": "markdown",
      "source": [
        ""
      ]
    },
    {
      "metadata": {
        "colab_type": "code",
        "id": "hT6IMKO4N6Cv",
        "scrolled": true,
        "colab": {}
      },
      "cell_type": "code",
      "source": [
        "img_shape = {}\n",
        "for current_img_path in all_img_paths:\n",
        "    current_img_vector =  plt.imread( current_img_path )\n",
        "    \n",
        "    #if (str(str(current_img_vector.shape)) == \"(128, 128)\"):\n",
        "    #    print(current_img_vector.shape, current_img_path)\n",
        "    #    unicolor_name = current_img_path\n",
        "    #    unicolor = current_img_vector\n",
        "    if(str(current_img_vector.shape) not in img_shape.keys()):\n",
        "        img_shape[str(current_img_vector.shape)] = []\n",
        "    img_shape[str(current_img_vector.shape)].append(current_img_path)"
      ],
      "execution_count": 0,
      "outputs": []
    },
    {
      "metadata": {
        "colab_type": "code",
        "id": "irMDtCAsN6Cy",
        "outputId": "d83268b1-6025-4623-977c-b5a7ba8e3318",
        "colab": {
          "base_uri": "https://localhost:8080/",
          "height": 34
        }
      },
      "cell_type": "code",
      "source": [
        "img_shape.keys()"
      ],
      "execution_count": 0,
      "outputs": [
        {
          "output_type": "execute_result",
          "data": {
            "text/plain": [
              "dict_keys(['(128, 128, 3)', '(128, 128)'])"
            ]
          },
          "metadata": {
            "tags": []
          },
          "execution_count": 28
        }
      ]
    },
    {
      "metadata": {
        "colab_type": "text",
        "id": "3qzWpfrLN6C4"
      },
      "cell_type": "markdown",
      "source": [
        "RGB images"
      ]
    },
    {
      "metadata": {
        "colab_type": "code",
        "id": "wfigVD6LN6C5",
        "colab": {}
      },
      "cell_type": "code",
      "source": [
        "img_vector_3 = {}\n",
        "#To process with all images, don't forget to remove \"[:10]\"\n",
        "for current_img_path in img_shape[\"(128, 128, 3)\"][:1024]:\n",
        "    I =  plt.imread( current_img_path )\n",
        "    modified_current_img_vector = np.array([I[:,:,0], I[:,:,1], I[:,:,2]])\n",
        "    img_vector_3[current_img_path.split(\"/\")[-1].split(\".\")[0].split(\"im\")[-1]] = modified_current_img_vector\n"
      ],
      "execution_count": 0,
      "outputs": []
    },
    {
      "metadata": {
        "colab_type": "text",
        "id": "AtXNxIJDN6C8"
      },
      "cell_type": "markdown",
      "source": [
        "Grey images"
      ]
    },
    {
      "metadata": {
        "colab_type": "code",
        "id": "QBovoeZqN6C-",
        "colab": {}
      },
      "cell_type": "code",
      "source": [
        "img_vector_1 = {}\n",
        "\n",
        "for current_img_path in img_shape[\"(128, 128)\"]:\n",
        "    current_img_vector =  plt.imread( current_img_path )\n",
        "    #Do we have to reshape to (128*128) or (1,128*128) ?\n",
        "    img_vector_1[current_img_path.split(\"/\")[-1].split(\".\")[0].split(\"im\")[-1]] = np.reshape(current_img_vector, (1,128,128))\n"
      ],
      "execution_count": 0,
      "outputs": []
    },
    {
      "metadata": {
        "colab_type": "code",
        "id": "9t_OiEJUN6DK",
        "scrolled": true,
        "colab": {}
      },
      "cell_type": "code",
      "source": [
        "nb_img_vector_3 = len(img_vector_3.keys())"
      ],
      "execution_count": 0,
      "outputs": []
    },
    {
      "metadata": {
        "colab_type": "text",
        "id": "LMXs9Ka2N6DN"
      },
      "cell_type": "markdown",
      "source": [
        "Create train dataset and test dataset from 3 dimention images"
      ]
    },
    {
      "metadata": {
        "colab_type": "code",
        "id": "mwX1NO3BN6DP",
        "colab": {}
      },
      "cell_type": "code",
      "source": [
        "\n",
        "batch_size = 64\n",
        "\n",
        "img_names = rd.sample(list(img_vector_3.keys()), nb_img_vector_3)\n",
        "train_img_name = img_names[ :int(nb_img_vector_3 * 0.8)]\n",
        "test_img_name = img_names[ int(nb_img_vector_3 * 0.8):]\n",
        "\n",
        "\n",
        "X_Train = torch.from_numpy(np.array([ [ img_vector_3[ train_img_name[id_name*batch_size + id_batch]]  for id_batch in range(batch_size) ] for id_name in range(int(len(train_img_name)/batch_size))]))\n",
        "y_Train = torch.from_numpy(np.array([ [ img_labels[   train_img_name[id_name*batch_size + id_batch]]  for id_batch in range(batch_size) ]for id_name in range(int(len(train_img_name)/batch_size))]))\n",
        "\n",
        "X_Test = torch.from_numpy(np.array([ [ img_vector_3[ test_img_name[id_name*batch_size + id_batch]]  for id_batch in range(batch_size) ] for id_name in range(int(len(test_img_name)/batch_size))]))\n",
        "y_Test = torch.from_numpy(np.array([ [ img_labels[   test_img_name[id_name*batch_size + id_batch]]  for id_batch in range(batch_size) ]for id_name in range(int(len(test_img_name)/batch_size))]))\n",
        "\n",
        "X_Train = X_Train.type('torch.FloatTensor')\n",
        "y_Train = y_Train.type('torch.FloatTensor')\n",
        "X_Test = X_Test.type('torch.FloatTensor')\n",
        "y_Test = y_Test.type('torch.FloatTensor')\n"
      ],
      "execution_count": 0,
      "outputs": []
    },
    {
      "metadata": {
        "colab_type": "code",
        "id": "Gvld2qpyN6DS",
        "outputId": "d4e7a97f-df2b-489f-d426-68f3fb935ea8",
        "colab": {
          "base_uri": "https://localhost:8080/",
          "height": 86
        }
      },
      "cell_type": "code",
      "source": [
        "print(X_Train.shape)\n",
        "print(y_Train.shape)\n",
        "print(X_Test.shape)\n",
        "print(y_Test.shape)"
      ],
      "execution_count": 0,
      "outputs": [
        {
          "output_type": "stream",
          "text": [
            "torch.Size([12, 64, 3, 128, 128])\n",
            "torch.Size([12, 64, 14])\n",
            "torch.Size([3, 64, 3, 128, 128])\n",
            "torch.Size([3, 64, 14])\n"
          ],
          "name": "stdout"
        }
      ]
    },
    {
      "metadata": {
        "colab_type": "code",
        "id": "F_wsUDyWN6DY",
        "outputId": "5606dc59-f2a8-4b00-b0e7-c6eb8a6226b6",
        "colab": {
          "base_uri": "https://localhost:8080/",
          "height": 34
        }
      },
      "cell_type": "code",
      "source": [
        "X_Test.shape"
      ],
      "execution_count": 0,
      "outputs": [
        {
          "output_type": "execute_result",
          "data": {
            "text/plain": [
              "torch.Size([3, 64, 3, 128, 128])"
            ]
          },
          "metadata": {
            "tags": []
          },
          "execution_count": 36
        }
      ]
    },
    {
      "metadata": {
        "colab_type": "code",
        "id": "tUslzKd4N6Dj",
        "outputId": "bc0b3995-b40e-43c2-9bdf-13a70b838b5a",
        "colab": {
          "base_uri": "https://localhost:8080/",
          "height": 34
        }
      },
      "cell_type": "code",
      "source": [
        "X_Test[0].shape"
      ],
      "execution_count": 0,
      "outputs": [
        {
          "output_type": "execute_result",
          "data": {
            "text/plain": [
              "torch.Size([64, 3, 128, 128])"
            ]
          },
          "metadata": {
            "tags": []
          },
          "execution_count": 37
        }
      ]
    },
    {
      "metadata": {
        "colab_type": "text",
        "id": "Cbp_n2GnN6EV"
      },
      "cell_type": "markdown",
      "source": [
        "## Save your model\n",
        "\n",
        "It might be useful to save your model if you want to continue your work later, or use it for inference later."
      ]
    },
    {
      "metadata": {
        "colab_type": "code",
        "id": "oCZPjfH_N6EY",
        "colab": {}
      },
      "cell_type": "code",
      "source": [
        "torch.save(model.state_dict(), 'model.pkl')"
      ],
      "execution_count": 0,
      "outputs": []
    },
    {
      "metadata": {
        "colab_type": "text",
        "id": "2aXYpGaLN6Ec"
      },
      "cell_type": "markdown",
      "source": [
        "The model file should now be visible in the \"Home\" screen of the jupyter notebooks interface.  There you should be able to select it and press \"download\".  [See more here on how to load the model back](https://github.com/pytorch/pytorch/blob/761d6799beb3afa03657a71776412a2171ee7533/docs/source/notes/serialization.rst) if you want to continue training later."
      ]
    },
    {
      "metadata": {
        "colab_type": "text",
        "id": "ncKwVsBvN6Ed"
      },
      "cell_type": "markdown",
      "source": [
        "## Download test set\n",
        "\n",
        "The testset will be made available during the last week before the deadline and can be downloaded in the same way as the training set."
      ]
    },
    {
      "metadata": {
        "id": "kVQ48Nb1INwG",
        "colab_type": "code",
        "colab": {}
      },
      "cell_type": "code",
      "source": [
        "to_test_path = 'to_test'\n",
        "dl_file = 'dl2018-image-test.zip'\n",
        "dl_url = 'https://users.aalto.fi/~mvsjober/misc/'\n",
        "\n",
        "zip_path = os.path.join(to_test_path, dl_file)\n",
        "if not os.path.isfile(zip_path):\n",
        "    download_url(dl_url + dl_file, root=to_test_path, filename=dl_file, md5=None)\n",
        "\n",
        "with zipfile.ZipFile(zip_path) as zip_f:\n",
        "    zip_f.extractall(to_test_path)"
      ],
      "execution_count": 0,
      "outputs": []
    },
    {
      "metadata": {
        "colab_type": "text",
        "id": "f04wJ1xXN6Ee"
      },
      "cell_type": "markdown",
      "source": [
        "## Predict for test set\n",
        "\n",
        "You should return your predictions for the test set in a plain text file.  The text file contains one row for each test set image.  Each row contains a binary prediction for each label (separated by a single space), 1 if it's present in the image, and 0 if not. The order of the labels is as follows (alphabetic order of the label names):\n",
        "\n",
        "    baby bird car clouds dog female flower male night people portrait river sea tree\n",
        "\n",
        "An example row could like like this if your system predicts the presense of a bird and clouds:\n",
        "\n",
        "    0 1 0 1 0 0 0 0 0 0 0 0 0 0\n",
        "    \n",
        "The order of the rows should be according to the numeric order of the image numbers.  In the test set, this means that the first row refers to image `im20001.jpg`, the second to `im20002.jpg`, and so on."
      ]
    },
    {
      "metadata": {
        "colab_type": "text",
        "id": "lyQFBPVxN6Ef"
      },
      "cell_type": "markdown",
      "source": [
        "If you have the prediction output matrix prepared in `y` you can use the following function to save it to a text file."
      ]
    },
    {
      "metadata": {
        "id": "hHnY564V9UX-",
        "colab_type": "code",
        "colab": {}
      },
      "cell_type": "code",
      "source": [
        "order = ['baby', # given order, most likely different from the order constructed\n",
        " 'bird',         # automatically in the preprocessing part.\n",
        " 'car',\n",
        " 'clouds',\n",
        " 'dog',\n",
        " 'female',\n",
        " 'flower',\n",
        " 'male',\n",
        " 'night',\n",
        " 'people',\n",
        " 'portrait',\n",
        " 'river',\n",
        " 'sea',\n",
        " 'tree']\n",
        "# Permutation table (arrays' indices to permute) \n",
        "switch = [0 for _ in range(14)]\n",
        "for i in range(14):\n",
        "  searched =  order[i]\n",
        "  switch[i] = oneHotTransformer.vocabulary.index(searched)\n",
        "\n",
        "def batch_output_in_right_order(batch_pred, order_switch):\n",
        "  return batch_pred[:, order_switch]\n",
        "  \n",
        "\n",
        "# Example for one batch\n",
        "inputv, targetv = next(test_loader.__iter__())\n",
        "inputv = inputv.to(device)\n",
        "best_tresholds_as_tensor = torch.Tensor([0.2]*14).to(device)\n",
        "batch_pred = torch.sigmoid(model(inputv).to(device)) > best_tresholds_as_tensor\n",
        "\n",
        "batch_right_order = batch_output_in_right_order(batch_pred, switch)\n"
      ],
      "execution_count": 0,
      "outputs": []
    },
    {
      "metadata": {
        "id": "fydgHSqnM31Z",
        "colab_type": "code",
        "outputId": "f7096051-14ea-4a85-bbea-6e6e9a8d6dc7",
        "colab": {
          "base_uri": "https://localhost:8080/",
          "height": 437
        }
      },
      "cell_type": "code",
      "source": [
        "# Double check it works\n",
        "print(\"Truth: \", targetv[0])\n",
        "print(\"Labelled Truth: \", oneHotTransformer.toVocabulary(targetv[0]))\n",
        "\n",
        "ex0 = batch_right_order[0]\n",
        "\n",
        "\n",
        "print(\"-\"*10)\n",
        "print(\"new order\", order)\n",
        "#print(inputv.cpu().numpy()[0][0])\n",
        "\n",
        "\n",
        "targetv_good_order = batch_output_in_right_order(targetv, switch)\n",
        "t0 = targetv_good_order[0]\n",
        "plt.imshow(inputv.cpu().numpy()[0][0], cmap=\"gray\")\n",
        "#print(batch_output_in_right_order(batch_pred, switch))\n",
        "print(\"re ordered\", t0)\n",
        "plt.show()\n",
        "\n"
      ],
      "execution_count": 0,
      "outputs": [
        {
          "output_type": "stream",
          "text": [
            "Truth:  tensor([0, 0, 0, 0, 1, 0, 1, 0, 0, 0, 0, 1, 0, 0])\n",
            "Labelled Truth:  ['female', 'portrait', 'people']\n",
            "----------\n",
            "new order ['baby', 'bird', 'car', 'clouds', 'dog', 'female', 'flower', 'male', 'night', 'people', 'portrait', 'river', 'sea', 'tree']\n",
            "re ordered tensor([0, 0, 0, 0, 0, 1, 0, 0, 0, 1, 1, 0, 0, 0])\n"
          ],
          "name": "stdout"
        },
        {
          "output_type": "display_data",
          "data": {
            "image/png": "[encoded data removed]",
            "text/plain": [
              "<matplotlib.figure.Figure at 0x7fb6a4d6b588>"
            ]
          },
          "metadata": {
            "tags": []
          }
        }
      ]
    },
    {
      "metadata": {
        "id": "vQr4-NZimso8",
        "colab_type": "code",
        "outputId": "867ad769-7015-4f21-ec58-df03ba7c978c",
        "colab": {
          "base_uri": "https://localhost:8080/",
          "height": 34
        }
      },
      "cell_type": "code",
      "source": [
        "images_path_test = \"to_test/images/\" \n",
        "image_files_test = [(images_path_test+f) for f in os.listdir(images_path_test) \\\n",
        "                if os.path.isfile(os.path.join(images_path_test, f))]\n",
        "\n",
        "image_files_test = sorted(image_files_test)\n",
        "def to_basename(rel_path):\n",
        "  \"\"\" 'to_test/images/im20001.jpg' to '20001' \"\"\"\n",
        "  return rel_path[17:-4] # stripping 17 first chars and last 4 ones (extension of the file)\n",
        "basenames_test = [to_basename(path) for path in image_files_test]\n",
        "print(basenames_test[:10])\n",
        "\n",
        "# load dataset\n",
        "# TODO Need color and grayscale handling "
      ],
      "execution_count": 0,
      "outputs": [
        {
          "output_type": "stream",
          "text": [
            "['20001', '20002', '20003', '20004', '20005', '20006', '20007', '20008', '20009', '20010']\n"
          ],
          "name": "stdout"
        }
      ]
    },
    {
      "metadata": {
        "id": "lfLRzPjxqz26",
        "colab_type": "code",
        "outputId": "b52185fb-89b2-454e-946e-829129567219",
        "colab": {
          "base_uri": "https://localhost:8080/",
          "height": 312
        }
      },
      "cell_type": "code",
      "source": [
        "inputv, targetv = next(test_loader.__iter__())\n",
        "inputv = inputv.to(device)\n",
        "model(inputv)\n",
        "tresholds = treshold_opt.get_best_tresholds()\n",
        "tresholds_as_tensor = torch.Tensor(tresholds).to(device)\n",
        "batch_pred = torch.sigmoid(model(inputv).to(device)) > best_tresholds_as_tensor\n",
        "print(batch_pred)"
      ],
      "execution_count": 0,
      "outputs": [
        {
          "output_type": "stream",
          "text": [
            "tensor([[0, 0, 0, 0, 1, 0, 1, 0, 1, 0, 0, 1, 0, 0],\n",
            "        [0, 0, 0, 0, 1, 0, 1, 0, 1, 0, 0, 1, 0, 0],\n",
            "        [0, 0, 0, 0, 1, 0, 1, 0, 1, 0, 0, 1, 0, 0],\n",
            "        [0, 0, 0, 0, 0, 0, 0, 0, 1, 0, 0, 0, 0, 0],\n",
            "        [0, 0, 0, 0, 1, 0, 1, 0, 1, 0, 0, 1, 0, 0],\n",
            "        [0, 0, 0, 0, 0, 0, 0, 0, 0, 0, 0, 1, 0, 0],\n",
            "        [0, 0, 0, 0, 0, 0, 0, 0, 1, 0, 0, 1, 0, 0],\n",
            "        [0, 0, 0, 0, 1, 0, 1, 0, 0, 0, 0, 1, 0, 0],\n",
            "        [0, 0, 0, 0, 1, 0, 1, 0, 1, 0, 0, 1, 0, 0],\n",
            "        [0, 0, 0, 0, 1, 0, 1, 0, 1, 0, 0, 1, 0, 0],\n",
            "        [0, 0, 0, 0, 1, 0, 1, 0, 1, 0, 0, 1, 0, 0],\n",
            "        [0, 0, 0, 0, 1, 0, 1, 0, 1, 0, 0, 1, 0, 0],\n",
            "        [0, 0, 0, 0, 1, 0, 1, 0, 0, 0, 0, 1, 0, 0],\n",
            "        [0, 0, 0, 0, 0, 0, 0, 0, 0, 0, 0, 1, 0, 0],\n",
            "        [0, 0, 0, 0, 0, 0, 0, 0, 0, 0, 0, 1, 0, 0],\n",
            "        [0, 0, 0, 0, 1, 0, 0, 0, 1, 0, 0, 1, 0, 0]], device='cuda:0',\n",
            "       dtype=torch.uint8)\n"
          ],
          "name": "stdout"
        }
      ]
    },
    {
      "metadata": {
        "id": "6OyPGL_JrSUv",
        "colab_type": "code",
        "outputId": "226298b4-67b1-40c7-c61d-d4d36af41add",
        "colab": {
          "base_uri": "https://localhost:8080/",
          "height": 312
        }
      },
      "cell_type": "code",
      "source": [
        "def batchprediction_to_txt(pred):\n",
        "  listpred = pred.data.tolist()\n",
        "  res = \"\"\n",
        "  for labels in listpred:\n",
        "    stringified_labels = map(str, labels)\n",
        "    res += \" \".join(stringified_labels) + \"\\n\"\n",
        "  return res\n",
        "\n",
        "\n",
        "batch_right_order = batch_output_in_right_order(batch_pred, switch)\n",
        "print(batchprediction_to_txt(batch_right_order))\n",
        "# TODO : iterate over dataset and write labels batch by batch with the above function"
      ],
      "execution_count": 0,
      "outputs": [
        {
          "output_type": "stream",
          "text": [
            "0 0 0 0 0 1 0 1 0 1 1 0 0 0\n",
            "0 0 0 0 0 1 0 1 0 1 1 0 0 0\n",
            "0 0 0 0 0 1 0 1 0 1 1 0 0 0\n",
            "0 0 0 0 0 0 0 1 0 0 0 0 0 0\n",
            "0 0 0 0 0 1 0 1 0 1 1 0 0 0\n",
            "0 0 0 0 0 0 0 0 0 1 0 0 0 0\n",
            "0 0 0 0 0 0 0 1 0 1 0 0 0 0\n",
            "0 0 0 0 0 1 0 0 0 1 1 0 0 0\n",
            "0 0 0 0 0 1 0 1 0 1 1 0 0 0\n",
            "0 0 0 0 0 1 0 1 0 1 1 0 0 0\n",
            "0 0 0 0 0 1 0 1 0 1 1 0 0 0\n",
            "0 0 0 0 0 1 0 1 0 1 1 0 0 0\n",
            "0 0 0 0 0 1 0 0 0 1 1 0 0 0\n",
            "0 0 0 0 0 0 0 0 0 1 0 0 0 0\n",
            "0 0 0 0 0 0 0 0 0 1 0 0 0 0\n",
            "0 0 0 0 0 1 0 1 0 1 0 0 0 0\n",
            "\n"
          ],
          "name": "stdout"
        }
      ]
    },
    {
      "metadata": {
        "colab_type": "code",
        "id": "qqJTyNzYN6Eg",
        "colab": {}
      },
      "cell_type": "code",
      "source": [
        "np.savetxt('results.txt', y, fmt='%d')"
      ],
      "execution_count": 0,
      "outputs": []
    }
  ]
}